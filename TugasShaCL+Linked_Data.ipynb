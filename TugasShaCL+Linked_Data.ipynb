{
  "nbformat": 4,
  "nbformat_minor": 0,
  "metadata": {
    "colab": {
      "name": "TugasShaCL+Linked Data",
      "provenance": [],
      "collapsed_sections": []
    },
    "kernelspec": {
      "name": "python3",
      "display_name": "Python 3"
    }
  },
  "cells": [
    {
      "cell_type": "markdown",
      "metadata": {
        "id": "pIOrhHVm9_t5"
      },
      "source": [
        "# Validasi Vocabulary Untuk Dataset Jumlah RT/RW Perkelurahan DKI Jakarta 2013\n",
        "## Kontributor: Titanio Meiga Batry, Nanda Khibran, Nur Aini Rakhmawati\n",
        "## email kontributor: titaniokuliah@gmail.com, anandakp720@gmail.com, nur.aini@is.its.ac.id\n",
        "## Departemen Sistem Informasi, Institut Teknologi Sepuluh Nopember\n",
        "Abstrak:\n",
        "\n",
        "*Shape Constraint Language (SHACL) adalah spesifikasi World Wide Web Consortium (W3C) untuk memvalidasi data berbasis grafik dalam berbagai kondisi. SHACL mencakup fungsionalitas untuk mengekspresikan kondisi yang membatasi jumlah nilai yang dapat dimiliki atribut, jenis nilai, rentang numerik, pola pencocokan string, dan kombinasi logis dari batasan ini. SHACL juga menyertakan mekanisme ekstensi untuk mengekspresikan kondisi yang lebih kompleks dalam bahasa seperti SPARQL. Pada kesempatan kali ini kami akan membuat model data SHACL berupa data graph dengan mereferensi pada grafik RDF yang telah dibuat sebelumnya.*"
      ]
    },
    {
      "cell_type": "markdown",
      "metadata": {
        "id": "jP3LhyBD_8J_"
      },
      "source": [
        "## Vocabulary\n",
        "\n",
        "Vocabulary ini terdiri atas 4 class dan 5 properti. Vocabulary ini dapat diakses pada [3] dan dataset dapat diakses di [2]\n"
      ]
    },
    {
      "cell_type": "code",
      "metadata": {
        "id": "Las3brn1tLE6",
        "colab": {
          "base_uri": "https://localhost:8080/",
          "height": 459
        },
        "outputId": "73d3b0a8-fb21-4dab-86fe-676d58ee6fd2"
      },
      "source": [
        "import pandas as pd\n",
        "\n",
        "!python -m pip install --no-input jupyter-rdfify --quiet\n",
        "%reload_ext jupyter-rdfify\n",
        "\n",
        "pd.read_csv('https://raw.githubusercontent.com/Titanzr/rdfTitan/main/datatest.csv')\n",
        "#tampilkan turtle vocabulary"
      ],
      "execution_count": 2,
      "outputs": [
        {
          "output_type": "stream",
          "name": "stdout",
          "text": [
            "\u001b[?25l\r\u001b[K     |▉                               | 10 kB 29.2 MB/s eta 0:00:01\r\u001b[K     |█▊                              | 20 kB 29.4 MB/s eta 0:00:01\r\u001b[K     |██▋                             | 30 kB 20.5 MB/s eta 0:00:01\r\u001b[K     |███▌                            | 40 kB 17.1 MB/s eta 0:00:01\r\u001b[K     |████▎                           | 51 kB 6.5 MB/s eta 0:00:01\r\u001b[K     |█████▏                          | 61 kB 7.0 MB/s eta 0:00:01\r\u001b[K     |██████                          | 71 kB 8.0 MB/s eta 0:00:01\r\u001b[K     |███████                         | 81 kB 8.5 MB/s eta 0:00:01\r\u001b[K     |███████▊                        | 92 kB 9.3 MB/s eta 0:00:01\r\u001b[K     |████████▋                       | 102 kB 7.6 MB/s eta 0:00:01\r\u001b[K     |█████████▌                      | 112 kB 7.6 MB/s eta 0:00:01\r\u001b[K     |██████████▍                     | 122 kB 7.6 MB/s eta 0:00:01\r\u001b[K     |███████████▏                    | 133 kB 7.6 MB/s eta 0:00:01\r\u001b[K     |████████████                    | 143 kB 7.6 MB/s eta 0:00:01\r\u001b[K     |█████████████                   | 153 kB 7.6 MB/s eta 0:00:01\r\u001b[K     |█████████████▉                  | 163 kB 7.6 MB/s eta 0:00:01\r\u001b[K     |██████████████▊                 | 174 kB 7.6 MB/s eta 0:00:01\r\u001b[K     |███████████████▌                | 184 kB 7.6 MB/s eta 0:00:01\r\u001b[K     |████████████████▍               | 194 kB 7.6 MB/s eta 0:00:01\r\u001b[K     |█████████████████▎              | 204 kB 7.6 MB/s eta 0:00:01\r\u001b[K     |██████████████████▏             | 215 kB 7.6 MB/s eta 0:00:01\r\u001b[K     |███████████████████             | 225 kB 7.6 MB/s eta 0:00:01\r\u001b[K     |███████████████████▉            | 235 kB 7.6 MB/s eta 0:00:01\r\u001b[K     |████████████████████▊           | 245 kB 7.6 MB/s eta 0:00:01\r\u001b[K     |█████████████████████▋          | 256 kB 7.6 MB/s eta 0:00:01\r\u001b[K     |██████████████████████▍         | 266 kB 7.6 MB/s eta 0:00:01\r\u001b[K     |███████████████████████▎        | 276 kB 7.6 MB/s eta 0:00:01\r\u001b[K     |████████████████████████▏       | 286 kB 7.6 MB/s eta 0:00:01\r\u001b[K     |█████████████████████████       | 296 kB 7.6 MB/s eta 0:00:01\r\u001b[K     |██████████████████████████      | 307 kB 7.6 MB/s eta 0:00:01\r\u001b[K     |██████████████████████████▊     | 317 kB 7.6 MB/s eta 0:00:01\r\u001b[K     |███████████████████████████▋    | 327 kB 7.6 MB/s eta 0:00:01\r\u001b[K     |████████████████████████████▌   | 337 kB 7.6 MB/s eta 0:00:01\r\u001b[K     |█████████████████████████████▍  | 348 kB 7.6 MB/s eta 0:00:01\r\u001b[K     |██████████████████████████████▏ | 358 kB 7.6 MB/s eta 0:00:01\r\u001b[K     |███████████████████████████████ | 368 kB 7.6 MB/s eta 0:00:01\r\u001b[K     |████████████████████████████████| 378 kB 7.6 MB/s eta 0:00:01\r\u001b[K     |████████████████████████████████| 379 kB 7.6 MB/s \n",
            "\u001b[K     |████████████████████████████████| 51 kB 637 kB/s \n",
            "\u001b[K     |████████████████████████████████| 788 kB 46.4 MB/s \n",
            "\u001b[K     |████████████████████████████████| 57 kB 6.3 MB/s \n",
            "\u001b[K     |████████████████████████████████| 370 kB 60.9 MB/s \n",
            "\u001b[K     |████████████████████████████████| 45 kB 3.9 MB/s \n",
            "\u001b[K     |████████████████████████████████| 231 kB 60.2 MB/s \n",
            "\u001b[K     |████████████████████████████████| 69 kB 8.5 MB/s \n",
            "\u001b[K     |████████████████████████████████| 117 kB 61.5 MB/s \n",
            "\u001b[K     |████████████████████████████████| 80 kB 10.2 MB/s \n",
            "\u001b[?25h  Building wheel for antlr4-python3-runtime (setup.py) ... \u001b[?25l\u001b[?25hdone\n",
            "  Building wheel for cfgraph (setup.py) ... \u001b[?25l\u001b[?25hdone\n",
            "\u001b[31mERROR: pip's dependency resolver does not currently take into account all the packages that are installed. This behaviour is the source of the following dependency conflicts.\n",
            "jupyter-console 5.2.0 requires prompt-toolkit<2.0.0,>=1.0.0, but you have prompt-toolkit 3.0.20 which is incompatible.\n",
            "google-colab 1.0.0 requires ipython~=5.5.0, but you have ipython 7.28.0 which is incompatible.\u001b[0m\n"
          ]
        },
        {
          "output_type": "stream",
          "name": "stderr",
          "text": [
            "/usr/local/lib/python3.7/dist-packages/rdflib_jsonld/__init__.py:12: DeprecationWarning: The rdflib-jsonld package has been integrated into rdflib as of rdflib==6.0.1.  Please remove rdflib-jsonld from your project's dependencies.\n",
            "  DeprecationWarning,\n"
          ]
        },
        {
          "output_type": "display_data",
          "data": {
            "application/javascript": [
              "\n",
              "    if (typeof IPython !== \"undefined\") {\n",
              "        IPython.CodeCell.options_default.highlight_modes['application/sparql-query'] = {'reg':[/^%%rdf sparql/]};\n",
              "        IPython.CodeCell.options_default.highlight_modes['text/turtle'] = {'reg':[/^%%rdf turtle/, /^%%rdf shex/]};\n",
              "        IPython.CodeCell.options_default.highlight_modes['application/ld+json'] = {'reg':[/^%%rdf json-ld/]};\n",
              "        IPython.notebook.get_cells().map(function(cell){ if (cell.cell_type == 'code'){ cell.auto_highlight(); } });\n",
              "    }\n",
              "    "
            ]
          },
          "metadata": {}
        },
        {
          "output_type": "execute_result",
          "data": {
            "text/html": [
              "<div>\n",
              "<style scoped>\n",
              "    .dataframe tbody tr th:only-of-type {\n",
              "        vertical-align: middle;\n",
              "    }\n",
              "\n",
              "    .dataframe tbody tr th {\n",
              "        vertical-align: top;\n",
              "    }\n",
              "\n",
              "    .dataframe thead th {\n",
              "        text-align: right;\n",
              "    }\n",
              "</style>\n",
              "<table border=\"1\" class=\"dataframe\">\n",
              "  <thead>\n",
              "    <tr style=\"text-align: right;\">\n",
              "      <th></th>\n",
              "      <th>nama_provinsi</th>\n",
              "      <th>nama_kabupaten/kota</th>\n",
              "      <th>nama_kecamatan</th>\n",
              "      <th>nama_kelurahan</th>\n",
              "      <th>jumlah_rt</th>\n",
              "      <th>jumlah_rw</th>\n",
              "    </tr>\n",
              "  </thead>\n",
              "  <tbody>\n",
              "    <tr>\n",
              "      <th>0</th>\n",
              "      <td>PROVINSI DKI JAKARTA</td>\n",
              "      <td>JAKARTA PUSAT</td>\n",
              "      <td>GAMBIR</td>\n",
              "      <td>CIDENG</td>\n",
              "      <td>114</td>\n",
              "      <td>10</td>\n",
              "    </tr>\n",
              "    <tr>\n",
              "      <th>1</th>\n",
              "      <td>PROVINSI DKI JAKARTA</td>\n",
              "      <td>JAKARTA UTARA</td>\n",
              "      <td>PENJARINGAN</td>\n",
              "      <td>KAMAL MUARA</td>\n",
              "      <td>44</td>\n",
              "      <td>6</td>\n",
              "    </tr>\n",
              "    <tr>\n",
              "      <th>2</th>\n",
              "      <td>PROVINSI DKI JAKARTA</td>\n",
              "      <td>JAKARTA UTARA</td>\n",
              "      <td>KOJA</td>\n",
              "      <td>TUGU UTARA</td>\n",
              "      <td>214</td>\n",
              "      <td>19</td>\n",
              "    </tr>\n",
              "  </tbody>\n",
              "</table>\n",
              "</div>"
            ],
            "text/plain": [
              "          nama_provinsi nama_kabupaten/kota  ... jumlah_rt jumlah_rw\n",
              "0  PROVINSI DKI JAKARTA       JAKARTA PUSAT  ...       114        10\n",
              "1  PROVINSI DKI JAKARTA       JAKARTA UTARA  ...        44         6\n",
              "2  PROVINSI DKI JAKARTA       JAKARTA UTARA  ...       214        19\n",
              "\n",
              "[3 rows x 6 columns]"
            ]
          },
          "metadata": {},
          "execution_count": 2
        }
      ]
    },
    {
      "cell_type": "code",
      "metadata": {
        "id": "f6J0uxTrtjWN",
        "colab": {
          "base_uri": "https://localhost:8080/",
          "height": 564
        },
        "outputId": "0eef67f8-21f0-4ee5-ff39-13bcd137d31e"
      },
      "source": [
        "%%rdf turtle\n",
        "\n",
        "@prefix rdfs: <http://www.w3.org/2000/01/rdf-schema#> .\n",
        "@prefix rdf: <http://www.w3.org/1999/02/22-rdf-syntax-ns#> .\n",
        "@prefix xsd: <http://www.w3.org/2001/XMLSchema#> .\n",
        "@prefix osadm: <http://data.ordnancesurvey.co.uk/ontology/admingeo/> .\n",
        "@prefix ex: <http://example.com/> .\n",
        "\n",
        "       \n",
        "\n",
        "#Kelurahan \n",
        "\n",
        "ex:Cideng\n",
        "  a osadm:Ward, ex:kelurahan ;\n",
        "  ex:berkecamatan ex:Gambir ;\n",
        "  ex:JumlahRT \"114\"^^xsd:int ;\n",
        "  ex:JumlahRW \"10\"^^xsd:int .\n",
        "\n",
        "ex:KamalMuara\n",
        "  a osadm:Ward, ex:kelurahan ;\n",
        "  ex:berkecamatan ex:Penjaringan ;\n",
        "  ex:JumlahRT \"44\"^^xsd:int ;\n",
        "  ex:JumlahRW \"6\"^^xsd:int .\n",
        "\n",
        "ex:TuguUtara\n",
        "  a osadm:Ward, ex:kelurahan ;\n",
        "  ex:berkecamatan ex:Koja ;\n",
        "  ex:JumlahRT \"214\"^^xsd:int ;\n",
        "  ex:JumlahRW \"19\"^^xsd:int .\n",
        "\n",
        "#Kecamatan\n",
        "\n",
        "ex:Gambir\n",
        "  a ex:kecamatan ;\n",
        "  osadm:district ex:JakartaPusat .\n",
        "\n",
        "ex:Penjaringan\n",
        "  a ex:kecamatan ;\n",
        "  osadm:district ex:JakartaUtara .\n",
        "\n",
        "ex:Koja\n",
        "  a ex:kecamatan ;\n",
        "  osadm:district ex:JakartaUtara .\n",
        "\n",
        "#Kabupaten  \n",
        "\n",
        "ex:JakartaPusat\n",
        "  a osadm:District, ex:kabupaten ;\n",
        "  ex:berprovinsi ex:DKIJakarta .\n",
        "\n",
        "ex:JakartaUtara\n",
        "  a osadm:District, ex:kabupaten ;\n",
        "  ex:berprovinsi ex:DKIJakarta .\n",
        "\n",
        "#Provinsi\n",
        "\n",
        "ex:DKIJakarta\n",
        "  a ex:provinsi .\n",
        "\n",
        "#display the table"
      ],
      "execution_count": null,
      "outputs": [
        {
          "output_type": "display_data",
          "data": {
            "text/plain": [
              "<graphviz.dot.Digraph at 0x7ff5f80ce390>"
            ],
            "image/svg+xml": "<?xml version=\"1.0\" encoding=\"UTF-8\" standalone=\"no\"?>\n<!DOCTYPE svg PUBLIC \"-//W3C//DTD SVG 1.1//EN\"\n \"http://www.w3.org/Graphics/SVG/1.1/DTD/svg11.dtd\">\n<!-- Generated by graphviz version 2.40.1 (20161225.0304)\n -->\n<!-- Title: %3 Pages: 1 -->\n<svg width=\"1420pt\" height=\"392pt\"\n viewBox=\"0.00 0.00 1419.50 392.00\" xmlns=\"http://www.w3.org/2000/svg\" xmlns:xlink=\"http://www.w3.org/1999/xlink\">\n<g id=\"graph0\" class=\"graph\" transform=\"scale(1 1) rotate(0) translate(4 388)\">\n<title>%3</title>\n<polygon fill=\"#ffffff\" stroke=\"transparent\" points=\"-4,4 -4,-388 1415.5,-388 1415.5,4 -4,4\"/>\n<!-- 0 -->\n<g id=\"node1\" class=\"node\">\n<title>0</title>\n<ellipse fill=\"none\" stroke=\"#000000\" cx=\"327.5\" cy=\"-105\" rx=\"60.3893\" ry=\"18\"/>\n<text text-anchor=\"middle\" x=\"327.5\" y=\"-101.3\" font-family=\"Times,serif\" font-size=\"14.00\" fill=\"#000000\">ex:kabupaten</text>\n</g>\n<!-- 1 -->\n<g id=\"node2\" class=\"node\">\n<title>1</title>\n<polygon fill=\"none\" stroke=\"#000000\" points=\"1298.5,-297 1202.5,-297 1202.5,-261 1298.5,-261 1298.5,-297\"/>\n<text text-anchor=\"middle\" x=\"1250.5\" y=\"-275.3\" font-family=\"Times,serif\" font-size=\"14.00\" fill=\"#000000\">&quot;44&quot;^^xsd:int</text>\n</g>\n<!-- 2 -->\n<g id=\"node3\" class=\"node\">\n<title>2</title>\n<ellipse fill=\"none\" stroke=\"#000000\" cx=\"502.5\" cy=\"-18\" rx=\"52.7911\" ry=\"18\"/>\n<text text-anchor=\"middle\" x=\"502.5\" y=\"-14.3\" font-family=\"Times,serif\" font-size=\"14.00\" fill=\"#000000\">ex:provinsi</text>\n</g>\n<!-- 3 -->\n<g id=\"node4\" class=\"node\">\n<title>3</title>\n<ellipse fill=\"none\" stroke=\"#000000\" cx=\"664.5\" cy=\"-105\" rx=\"64.189\" ry=\"18\"/>\n<text text-anchor=\"middle\" x=\"664.5\" y=\"-101.3\" font-family=\"Times,serif\" font-size=\"14.00\" fill=\"#000000\">osadm:District</text>\n</g>\n<!-- 4 -->\n<g id=\"node5\" class=\"node\">\n<title>4</title>\n<polygon fill=\"none\" stroke=\"#000000\" points=\"1406,-297 1317,-297 1317,-261 1406,-261 1406,-297\"/>\n<text text-anchor=\"middle\" x=\"1361.5\" y=\"-275.3\" font-family=\"Times,serif\" font-size=\"14.00\" fill=\"#000000\">&quot;6&quot;^^xsd:int</text>\n</g>\n<!-- 5 -->\n<g id=\"node6\" class=\"node\">\n<title>5</title>\n<ellipse fill=\"none\" stroke=\"#000000\" cx=\"719.5\" cy=\"-366\" rx=\"61.99\" ry=\"18\"/>\n<text text-anchor=\"middle\" x=\"719.5\" y=\"-362.3\" font-family=\"Times,serif\" font-size=\"14.00\" fill=\"#000000\">ex:TuguUtara</text>\n</g>\n<!-- 12 -->\n<g id=\"node13\" class=\"node\">\n<title>12</title>\n<polygon fill=\"none\" stroke=\"#000000\" points=\"892.5,-297 796.5,-297 796.5,-261 892.5,-261 892.5,-297\"/>\n<text text-anchor=\"middle\" x=\"844.5\" y=\"-275.3\" font-family=\"Times,serif\" font-size=\"14.00\" fill=\"#000000\">&quot;19&quot;^^xsd:int</text>\n</g>\n<!-- 5&#45;&gt;12 -->\n<g id=\"edge17\" class=\"edge\">\n<title>5&#45;&gt;12</title>\n<path fill=\"none\" stroke=\"#000000\" d=\"M770.4952,-355.6699C797.3515,-349.1959 826.5435,-340.1651 835.5,-330 841.0167,-323.7389 843.7162,-315.3142 844.9161,-307.1177\"/>\n<polygon fill=\"#000000\" stroke=\"#000000\" points=\"848.4137,-307.2876 845.7333,-297.0375 841.4366,-306.7219 848.4137,-307.2876\"/>\n<text text-anchor=\"middle\" x=\"884.5\" y=\"-318.8\" font-family=\"Times,serif\" font-size=\"14.00\" fill=\"#000000\">ex:JumlahRW</text>\n</g>\n<!-- 13 -->\n<g id=\"node14\" class=\"node\">\n<title>13</title>\n<polygon fill=\"none\" stroke=\"#000000\" points=\"1014.5,-297 910.5,-297 910.5,-261 1014.5,-261 1014.5,-297\"/>\n<text text-anchor=\"middle\" x=\"962.5\" y=\"-275.3\" font-family=\"Times,serif\" font-size=\"14.00\" fill=\"#000000\">&quot;214&quot;^^xsd:int</text>\n</g>\n<!-- 5&#45;&gt;13 -->\n<g id=\"edge15\" class=\"edge\">\n<title>5&#45;&gt;13</title>\n<path fill=\"none\" stroke=\"#000000\" d=\"M779.0613,-361.1356C832.2366,-355.8435 905.3386,-345.9383 929.5,-330 938.3204,-324.1815 945.2915,-315.1052 950.5098,-306.2125\"/>\n<polygon fill=\"#000000\" stroke=\"#000000\" points=\"953.7199,-307.6298 955.3172,-297.1561 947.537,-304.3477 953.7199,-307.6298\"/>\n<text text-anchor=\"middle\" x=\"984\" y=\"-318.8\" font-family=\"Times,serif\" font-size=\"14.00\" fill=\"#000000\">ex:JumlahRT</text>\n</g>\n<!-- 16 -->\n<g id=\"node17\" class=\"node\">\n<title>16</title>\n<ellipse fill=\"none\" stroke=\"#000000\" cx=\"719.5\" cy=\"-279\" rx=\"57.6901\" ry=\"18\"/>\n<text text-anchor=\"middle\" x=\"719.5\" y=\"-275.3\" font-family=\"Times,serif\" font-size=\"14.00\" fill=\"#000000\">osadm:Ward</text>\n</g>\n<!-- 5&#45;&gt;16 -->\n<g id=\"edge27\" class=\"edge\">\n<title>5&#45;&gt;16</title>\n<path fill=\"none\" stroke=\"#000000\" d=\"M719.5,-347.9735C719.5,-336.1918 719.5,-320.5607 719.5,-307.1581\"/>\n<polygon fill=\"#000000\" stroke=\"#000000\" points=\"723.0001,-307.0033 719.5,-297.0034 716.0001,-307.0034 723.0001,-307.0033\"/>\n<text text-anchor=\"middle\" x=\"742.5\" y=\"-318.8\" font-family=\"Times,serif\" font-size=\"14.00\" fill=\"#000000\">rdf:type</text>\n</g>\n<!-- 17 -->\n<g id=\"node18\" class=\"node\">\n<title>17</title>\n<ellipse fill=\"none\" stroke=\"#000000\" cx=\"463.5\" cy=\"-279\" rx=\"40.0939\" ry=\"18\"/>\n<text text-anchor=\"middle\" x=\"463.5\" y=\"-275.3\" font-family=\"Times,serif\" font-size=\"14.00\" fill=\"#000000\">ex:Koja</text>\n</g>\n<!-- 5&#45;&gt;17 -->\n<g id=\"edge22\" class=\"edge\">\n<title>5&#45;&gt;17</title>\n<path fill=\"none\" stroke=\"#000000\" d=\"M660.4909,-360.5957C593.2932,-353.9209 491.0088,-341.975 477.5,-330 470.9545,-324.1977 467.3418,-315.6513 465.3856,-307.2066\"/>\n<polygon fill=\"#000000\" stroke=\"#000000\" points=\"468.8082,-306.449 463.7352,-297.1476 461.9006,-307.5824 468.8082,-306.449\"/>\n<text text-anchor=\"middle\" x=\"525.5\" y=\"-318.8\" font-family=\"Times,serif\" font-size=\"14.00\" fill=\"#000000\">ex:berkecamatan</text>\n</g>\n<!-- 20 -->\n<g id=\"node21\" class=\"node\">\n<title>20</title>\n<ellipse fill=\"none\" stroke=\"#000000\" cx=\"581.5\" cy=\"-279\" rx=\"58.4896\" ry=\"18\"/>\n<text text-anchor=\"middle\" x=\"581.5\" y=\"-275.3\" font-family=\"Times,serif\" font-size=\"14.00\" fill=\"#000000\">ex:kelurahan</text>\n</g>\n<!-- 5&#45;&gt;20 -->\n<g id=\"edge12\" class=\"edge\">\n<title>5&#45;&gt;20</title>\n<path fill=\"none\" stroke=\"#000000\" d=\"M663.4936,-358.218C630.3026,-352.3429 592.7654,-343.045 582.5,-330 577.5497,-323.7093 575.9705,-315.5027 575.999,-307.5175\"/>\n<polygon fill=\"#000000\" stroke=\"#000000\" points=\"579.5055,-307.5746 576.8142,-297.3273 572.5278,-307.0164 579.5055,-307.5746\"/>\n<text text-anchor=\"middle\" x=\"605.5\" y=\"-318.8\" font-family=\"Times,serif\" font-size=\"14.00\" fill=\"#000000\">rdf:type</text>\n</g>\n<!-- 6 -->\n<g id=\"node7\" class=\"node\">\n<title>6</title>\n<polygon fill=\"none\" stroke=\"#000000\" points=\"103,-297 0,-297 0,-261 103,-261 103,-297\"/>\n<text text-anchor=\"middle\" x=\"51.5\" y=\"-275.3\" font-family=\"Times,serif\" font-size=\"14.00\" fill=\"#000000\">&quot;114&quot;^^xsd:int</text>\n</g>\n<!-- 7 -->\n<g id=\"node8\" class=\"node\">\n<title>7</title>\n<ellipse fill=\"none\" stroke=\"#000000\" cx=\"303.5\" cy=\"-192\" rx=\"67.6881\" ry=\"18\"/>\n<text text-anchor=\"middle\" x=\"303.5\" y=\"-188.3\" font-family=\"Times,serif\" font-size=\"14.00\" fill=\"#000000\">ex:JakartaPusat</text>\n</g>\n<!-- 7&#45;&gt;0 -->\n<g id=\"edge4\" class=\"edge\">\n<title>7&#45;&gt;0</title>\n<path fill=\"none\" stroke=\"#000000\" d=\"M277.4938,-175.3706C265.9202,-165.7848 256.3421,-153.2388 263.5,-141 267.3495,-134.418 272.8939,-128.9464 279.131,-124.4257\"/>\n<polygon fill=\"#000000\" stroke=\"#000000\" points=\"281.39,-127.1384 287.9714,-118.8356 277.6488,-121.222 281.39,-127.1384\"/>\n<text text-anchor=\"middle\" x=\"286.5\" y=\"-144.8\" font-family=\"Times,serif\" font-size=\"14.00\" fill=\"#000000\">rdf:type</text>\n</g>\n<!-- 7&#45;&gt;3 -->\n<g id=\"edge18\" class=\"edge\">\n<title>7&#45;&gt;3</title>\n<path fill=\"none\" stroke=\"#000000\" d=\"M355.6924,-180.4153C365.8962,-178.2256 376.5242,-175.9973 386.5,-174 429.9224,-165.3061 444.1549,-174.258 484.5,-156 494.3019,-151.5642 493.7849,-145.6229 503.5,-141 512.639,-136.6513 560.7669,-126.1301 602.0436,-117.5782\"/>\n<polygon fill=\"#000000\" stroke=\"#000000\" points=\"603.0009,-120.9545 612.0883,-115.5076 601.5876,-114.0987 603.0009,-120.9545\"/>\n<text text-anchor=\"middle\" x=\"526.5\" y=\"-144.8\" font-family=\"Times,serif\" font-size=\"14.00\" fill=\"#000000\">rdf:type</text>\n</g>\n<!-- 19 -->\n<g id=\"node20\" class=\"node\">\n<title>19</title>\n<ellipse fill=\"none\" stroke=\"#000000\" cx=\"502.5\" cy=\"-105\" rx=\"63.8893\" ry=\"18\"/>\n<text text-anchor=\"middle\" x=\"502.5\" y=\"-101.3\" font-family=\"Times,serif\" font-size=\"14.00\" fill=\"#000000\">ex:DKIJakarta</text>\n</g>\n<!-- 7&#45;&gt;19 -->\n<g id=\"edge21\" class=\"edge\">\n<title>7&#45;&gt;19</title>\n<path fill=\"none\" stroke=\"#000000\" d=\"M309.4739,-173.7795C314.0523,-162.6503 321.4814,-149.0545 332.5,-141 341.2174,-134.6277 393.3563,-124.123 437.6218,-116.1012\"/>\n<polygon fill=\"#000000\" stroke=\"#000000\" points=\"438.2837,-119.5385 447.508,-114.3266 437.0469,-112.6486 438.2837,-119.5385\"/>\n<text text-anchor=\"middle\" x=\"374\" y=\"-144.8\" font-family=\"Times,serif\" font-size=\"14.00\" fill=\"#000000\">ex:berprovinsi</text>\n</g>\n<!-- 8 -->\n<g id=\"node9\" class=\"node\">\n<title>8</title>\n<ellipse fill=\"none\" stroke=\"#000000\" cx=\"274.5\" cy=\"-366\" rx=\"49.2915\" ry=\"18\"/>\n<text text-anchor=\"middle\" x=\"274.5\" y=\"-362.3\" font-family=\"Times,serif\" font-size=\"14.00\" fill=\"#000000\">ex:Cideng</text>\n</g>\n<!-- 8&#45;&gt;6 -->\n<g id=\"edge26\" class=\"edge\">\n<title>8&#45;&gt;6</title>\n<path fill=\"none\" stroke=\"#000000\" d=\"M227.9785,-359.7844C183.5451,-353.2626 120.2269,-342.2668 98.5,-330 87.5522,-323.819 77.7162,-314.1959 69.9063,-304.9668\"/>\n<polygon fill=\"#000000\" stroke=\"#000000\" points=\"72.5627,-302.6843 63.5875,-297.0542 67.0928,-307.0524 72.5627,-302.6843\"/>\n<text text-anchor=\"middle\" x=\"137\" y=\"-318.8\" font-family=\"Times,serif\" font-size=\"14.00\" fill=\"#000000\">ex:JumlahRT</text>\n</g>\n<!-- 11 -->\n<g id=\"node12\" class=\"node\">\n<title>11</title>\n<polygon fill=\"none\" stroke=\"#000000\" points=\"217.5,-297 121.5,-297 121.5,-261 217.5,-261 217.5,-297\"/>\n<text text-anchor=\"middle\" x=\"169.5\" y=\"-275.3\" font-family=\"Times,serif\" font-size=\"14.00\" fill=\"#000000\">&quot;10&quot;^^xsd:int</text>\n</g>\n<!-- 8&#45;&gt;11 -->\n<g id=\"edge28\" class=\"edge\">\n<title>8&#45;&gt;11</title>\n<path fill=\"none\" stroke=\"#000000\" d=\"M232.7674,-356.1468C217.1757,-350.6694 200.3879,-342.371 188.5,-330 182.4493,-323.7034 178.291,-315.306 175.4474,-307.1454\"/>\n<polygon fill=\"#000000\" stroke=\"#000000\" points=\"178.7785,-306.0669 172.5921,-297.4658 172.0645,-308.0475 178.7785,-306.0669\"/>\n<text text-anchor=\"middle\" x=\"229.5\" y=\"-318.8\" font-family=\"Times,serif\" font-size=\"14.00\" fill=\"#000000\">ex:JumlahRW</text>\n</g>\n<!-- 14 -->\n<g id=\"node15\" class=\"node\">\n<title>14</title>\n<ellipse fill=\"none\" stroke=\"#000000\" cx=\"291.5\" cy=\"-279\" rx=\"50.0912\" ry=\"18\"/>\n<text text-anchor=\"middle\" x=\"291.5\" y=\"-275.3\" font-family=\"Times,serif\" font-size=\"14.00\" fill=\"#000000\">ex:Gambir</text>\n</g>\n<!-- 8&#45;&gt;14 -->\n<g id=\"edge16\" class=\"edge\">\n<title>8&#45;&gt;14</title>\n<path fill=\"none\" stroke=\"#000000\" d=\"M273.1213,-347.8548C272.806,-338.0197 273.1152,-325.7192 275.5,-315 276.1406,-312.1209 277.0193,-309.1902 278.0379,-306.3069\"/>\n<polygon fill=\"#000000\" stroke=\"#000000\" points=\"281.3666,-307.4129 281.8964,-296.8313 274.8835,-304.7729 281.3666,-307.4129\"/>\n<text text-anchor=\"middle\" x=\"323.5\" y=\"-318.8\" font-family=\"Times,serif\" font-size=\"14.00\" fill=\"#000000\">ex:berkecamatan</text>\n</g>\n<!-- 8&#45;&gt;16 -->\n<g id=\"edge1\" class=\"edge\">\n<title>8&#45;&gt;16</title>\n<path fill=\"none\" stroke=\"#000000\" d=\"M323.4438,-363.4892C406.8523,-358.8001 572.9093,-347.5675 628.5,-330 649.1902,-323.4616 670.4463,-311.8723 687.2066,-301.3921\"/>\n<polygon fill=\"#000000\" stroke=\"#000000\" points=\"689.505,-304.0754 696.0233,-295.723 685.719,-298.1875 689.505,-304.0754\"/>\n<text text-anchor=\"middle\" x=\"686.5\" y=\"-318.8\" font-family=\"Times,serif\" font-size=\"14.00\" fill=\"#000000\">rdf:type</text>\n</g>\n<!-- 8&#45;&gt;20 -->\n<g id=\"edge19\" class=\"edge\">\n<title>8&#45;&gt;20</title>\n<path fill=\"none\" stroke=\"#000000\" d=\"M309.1188,-353.0588C344.64,-339.9035 397.5742,-320.6742 418.5,-315 459.5543,-303.8678 471.0088,-306.3737 512.5,-297 517.4303,-295.8861 522.543,-294.6697 527.6546,-293.4118\"/>\n<polygon fill=\"#000000\" stroke=\"#000000\" points=\"528.5873,-296.7864 537.4347,-290.9577 526.8835,-289.9969 528.5873,-296.7864\"/>\n<text text-anchor=\"middle\" x=\"441.5\" y=\"-318.8\" font-family=\"Times,serif\" font-size=\"14.00\" fill=\"#000000\">rdf:type</text>\n</g>\n<!-- 9 -->\n<g id=\"node10\" class=\"node\">\n<title>9</title>\n<ellipse fill=\"none\" stroke=\"#000000\" cx=\"1131.5\" cy=\"-366\" rx=\"70.3881\" ry=\"18\"/>\n<text text-anchor=\"middle\" x=\"1131.5\" y=\"-362.3\" font-family=\"Times,serif\" font-size=\"14.00\" fill=\"#000000\">ex:KamalMuara</text>\n</g>\n<!-- 9&#45;&gt;1 -->\n<g id=\"edge14\" class=\"edge\">\n<title>9&#45;&gt;1</title>\n<path fill=\"none\" stroke=\"#000000\" d=\"M1177.4766,-352.1852C1190.9735,-346.6988 1205.1449,-339.4044 1216.5,-330 1224.3242,-323.5199 1231.0412,-314.7803 1236.3886,-306.3676\"/>\n<polygon fill=\"#000000\" stroke=\"#000000\" points=\"1239.5615,-307.8783 1241.6413,-297.4896 1233.537,-304.3139 1239.5615,-307.8783\"/>\n<text text-anchor=\"middle\" x=\"1268\" y=\"-318.8\" font-family=\"Times,serif\" font-size=\"14.00\" fill=\"#000000\">ex:JumlahRT</text>\n</g>\n<!-- 9&#45;&gt;4 -->\n<g id=\"edge5\" class=\"edge\">\n<title>9&#45;&gt;4</title>\n<path fill=\"none\" stroke=\"#000000\" d=\"M1193.6627,-357.4069C1237.0112,-350.6836 1290.523,-340.7052 1310.5,-330 1322.1405,-323.7622 1332.8459,-314.0077 1341.4109,-304.6931\"/>\n<polygon fill=\"#000000\" stroke=\"#000000\" points=\"1344.1356,-306.894 1348.0757,-297.059 1338.8624,-302.2903 1344.1356,-306.894\"/>\n<text text-anchor=\"middle\" x=\"1370.5\" y=\"-318.8\" font-family=\"Times,serif\" font-size=\"14.00\" fill=\"#000000\">ex:JumlahRW</text>\n</g>\n<!-- 15 -->\n<g id=\"node16\" class=\"node\">\n<title>15</title>\n<ellipse fill=\"none\" stroke=\"#000000\" cx=\"1098.5\" cy=\"-279\" rx=\"66.0889\" ry=\"18\"/>\n<text text-anchor=\"middle\" x=\"1098.5\" y=\"-275.3\" font-family=\"Times,serif\" font-size=\"14.00\" fill=\"#000000\">ex:Penjaringan</text>\n</g>\n<!-- 9&#45;&gt;15 -->\n<g id=\"edge25\" class=\"edge\">\n<title>9&#45;&gt;15</title>\n<path fill=\"none\" stroke=\"#000000\" d=\"M1124.6624,-347.9735C1120.1049,-335.9585 1114.029,-319.9401 1108.8797,-306.3646\"/>\n<polygon fill=\"#000000\" stroke=\"#000000\" points=\"1112.148,-305.112 1105.3289,-297.0034 1105.603,-307.5947 1112.148,-305.112\"/>\n<text text-anchor=\"middle\" x=\"1164.5\" y=\"-318.8\" font-family=\"Times,serif\" font-size=\"14.00\" fill=\"#000000\">ex:berkecamatan</text>\n</g>\n<!-- 9&#45;&gt;16 -->\n<g id=\"edge13\" class=\"edge\">\n<title>9&#45;&gt;16</title>\n<path fill=\"none\" stroke=\"#000000\" d=\"M1100.9548,-349.5752C1075.5982,-336.2409 1041.3697,-319.014 1026.5,-315 923.6582,-287.2381 892.5416,-314.7038 787.5,-297 782.3632,-296.1342 777.0503,-295.0572 771.7626,-293.8634\"/>\n<polygon fill=\"#000000\" stroke=\"#000000\" points=\"772.2181,-290.3736 761.6779,-291.4485 770.5879,-297.1812 772.2181,-290.3736\"/>\n<text text-anchor=\"middle\" x=\"1083.5\" y=\"-318.8\" font-family=\"Times,serif\" font-size=\"14.00\" fill=\"#000000\">rdf:type</text>\n</g>\n<!-- 9&#45;&gt;20 -->\n<g id=\"edge24\" class=\"edge\">\n<title>9&#45;&gt;20</title>\n<path fill=\"none\" stroke=\"#000000\" d=\"M1061.9813,-363.3387C975.7097,-359.2482 834.0371,-349.7238 785.5,-330 775.5327,-325.9496 776.3567,-319.3127 766.5,-315 719.507,-294.4386 702.7468,-307.3135 652.5,-297 647.0502,-295.8814 641.3895,-294.6194 635.7491,-293.2957\"/>\n<polygon fill=\"#000000\" stroke=\"#000000\" points=\"636.2103,-289.8066 625.6684,-290.8641 634.5688,-296.6115 636.2103,-289.8066\"/>\n<text text-anchor=\"middle\" x=\"808.5\" y=\"-318.8\" font-family=\"Times,serif\" font-size=\"14.00\" fill=\"#000000\">rdf:type</text>\n</g>\n<!-- 10 -->\n<g id=\"node11\" class=\"node\">\n<title>10</title>\n<ellipse fill=\"none\" stroke=\"#000000\" cx=\"456.5\" cy=\"-192\" rx=\"61.1893\" ry=\"18\"/>\n<text text-anchor=\"middle\" x=\"456.5\" y=\"-188.3\" font-family=\"Times,serif\" font-size=\"14.00\" fill=\"#000000\">ex:kecamatan</text>\n</g>\n<!-- 14&#45;&gt;7 -->\n<g id=\"edge3\" class=\"edge\">\n<title>14&#45;&gt;7</title>\n<path fill=\"none\" stroke=\"#000000\" d=\"M290.6446,-260.9546C290.4827,-251.1488 290.7713,-238.8444 292.5,-228 292.9289,-225.3096 293.5098,-222.5408 294.1818,-219.7904\"/>\n<polygon fill=\"#000000\" stroke=\"#000000\" points=\"297.5737,-220.6571 296.9062,-210.0833 290.8341,-218.7655 297.5737,-220.6571\"/>\n<text text-anchor=\"middle\" x=\"332.5\" y=\"-231.8\" font-family=\"Times,serif\" font-size=\"14.00\" fill=\"#000000\">osadm:district</text>\n</g>\n<!-- 14&#45;&gt;10 -->\n<g id=\"edge10\" class=\"edge\">\n<title>14&#45;&gt;10</title>\n<path fill=\"none\" stroke=\"#000000\" d=\"M324.6628,-265.3952C339.5036,-259.0187 357.0913,-251.06 372.5,-243 389.434,-234.1422 407.6313,-223.2716 422.7441,-213.8456\"/>\n<polygon fill=\"#000000\" stroke=\"#000000\" points=\"424.6552,-216.7784 431.2531,-208.4887 420.9258,-210.8545 424.6552,-216.7784\"/>\n<text text-anchor=\"middle\" x=\"421.5\" y=\"-231.8\" font-family=\"Times,serif\" font-size=\"14.00\" fill=\"#000000\">rdf:type</text>\n</g>\n<!-- 15&#45;&gt;10 -->\n<g id=\"edge6\" class=\"edge\">\n<title>15&#45;&gt;10</title>\n<path fill=\"none\" stroke=\"#000000\" d=\"M1050.6861,-266.5088C1041.6976,-264.4502 1032.3451,-262.5016 1023.5,-261 945.1071,-247.6915 924.6019,-251.091 845.5,-243 703.7054,-228.4964 666.7978,-235.1512 526.5,-210 521.382,-209.0825 516.0868,-207.9904 510.8058,-206.8043\"/>\n<polygon fill=\"#000000\" stroke=\"#000000\" points=\"511.2543,-203.3142 500.7183,-204.4286 509.6497,-210.1278 511.2543,-203.3142\"/>\n<text text-anchor=\"middle\" x=\"868.5\" y=\"-231.8\" font-family=\"Times,serif\" font-size=\"14.00\" fill=\"#000000\">rdf:type</text>\n</g>\n<!-- 18 -->\n<g id=\"node19\" class=\"node\">\n<title>18</title>\n<ellipse fill=\"none\" stroke=\"#000000\" cx=\"603.5\" cy=\"-192\" rx=\"67.6881\" ry=\"18\"/>\n<text text-anchor=\"middle\" x=\"603.5\" y=\"-188.3\" font-family=\"Times,serif\" font-size=\"14.00\" fill=\"#000000\">ex:JakartaUtara</text>\n</g>\n<!-- 15&#45;&gt;18 -->\n<g id=\"edge7\" class=\"edge\">\n<title>15&#45;&gt;18</title>\n<path fill=\"none\" stroke=\"#000000\" d=\"M1052.9009,-265.8265C1011.9903,-254.4201 950.1549,-238.1943 895.5,-228 822.0459,-214.2992 737.1914,-204.5013 677.9511,-198.6196\"/>\n<polygon fill=\"#000000\" stroke=\"#000000\" points=\"678.2277,-195.13 667.9341,-197.6381 677.5451,-202.0966 678.2277,-195.13\"/>\n<text text-anchor=\"middle\" x=\"1003.5\" y=\"-231.8\" font-family=\"Times,serif\" font-size=\"14.00\" fill=\"#000000\">osadm:district</text>\n</g>\n<!-- 17&#45;&gt;10 -->\n<g id=\"edge11\" class=\"edge\">\n<title>17&#45;&gt;10</title>\n<path fill=\"none\" stroke=\"#000000\" d=\"M462.0496,-260.9735C461.1016,-249.1918 459.844,-233.5607 458.7656,-220.1581\"/>\n<polygon fill=\"#000000\" stroke=\"#000000\" points=\"462.2394,-219.6904 457.9485,-210.0034 455.2619,-220.2519 462.2394,-219.6904\"/>\n<text text-anchor=\"middle\" x=\"483.5\" y=\"-231.8\" font-family=\"Times,serif\" font-size=\"14.00\" fill=\"#000000\">rdf:type</text>\n</g>\n<!-- 17&#45;&gt;18 -->\n<g id=\"edge9\" class=\"edge\">\n<title>17&#45;&gt;18</title>\n<path fill=\"none\" stroke=\"#000000\" d=\"M487.2491,-264.2416C509.4407,-250.4511 542.8576,-229.6849 568.1765,-213.951\"/>\n<polygon fill=\"#000000\" stroke=\"#000000\" points=\"570.1165,-216.8663 576.7627,-208.6153 566.4217,-210.9208 570.1165,-216.8663\"/>\n<text text-anchor=\"middle\" x=\"582.5\" y=\"-231.8\" font-family=\"Times,serif\" font-size=\"14.00\" fill=\"#000000\">osadm:district</text>\n</g>\n<!-- 18&#45;&gt;0 -->\n<g id=\"edge8\" class=\"edge\">\n<title>18&#45;&gt;0</title>\n<path fill=\"none\" stroke=\"#000000\" d=\"M553.0144,-179.9859C544.1864,-177.9458 535.0826,-175.8805 526.5,-174 487.5042,-165.4556 475.4258,-171.1713 438.5,-156 427.2116,-151.3621 426.3073,-146.6692 415.5,-141 402.914,-134.3978 388.8396,-128.1643 375.7017,-122.7984\"/>\n<polygon fill=\"#000000\" stroke=\"#000000\" points=\"376.9201,-119.5162 366.3355,-119.0516 374.3202,-126.0155 376.9201,-119.5162\"/>\n<text text-anchor=\"middle\" x=\"461.5\" y=\"-144.8\" font-family=\"Times,serif\" font-size=\"14.00\" fill=\"#000000\">rdf:type</text>\n</g>\n<!-- 18&#45;&gt;3 -->\n<g id=\"edge20\" class=\"edge\">\n<title>18&#45;&gt;3</title>\n<path fill=\"none\" stroke=\"#000000\" d=\"M638.221,-176.4914C646.482,-171.1674 654.3768,-164.3826 659.5,-156 663.5827,-149.3198 665.4494,-141.2059 666.1411,-133.4333\"/>\n<polygon fill=\"#000000\" stroke=\"#000000\" points=\"669.6463,-133.3149 666.4539,-123.2125 662.6496,-133.1008 669.6463,-133.3149\"/>\n<text text-anchor=\"middle\" x=\"688.5\" y=\"-144.8\" font-family=\"Times,serif\" font-size=\"14.00\" fill=\"#000000\">rdf:type</text>\n</g>\n<!-- 18&#45;&gt;19 -->\n<g id=\"edge2\" class=\"edge\">\n<title>18&#45;&gt;19</title>\n<path fill=\"none\" stroke=\"#000000\" d=\"M587.566,-174.2137C578.088,-164.035 565.588,-151.285 553.5,-141 548.1205,-136.4229 542.1747,-131.8431 536.2996,-127.5586\"/>\n<polygon fill=\"#000000\" stroke=\"#000000\" points=\"537.9948,-124.4694 527.8166,-121.5274 533.9385,-130.1745 537.9948,-124.4694\"/>\n<text text-anchor=\"middle\" x=\"611\" y=\"-144.8\" font-family=\"Times,serif\" font-size=\"14.00\" fill=\"#000000\">ex:berprovinsi</text>\n</g>\n<!-- 19&#45;&gt;2 -->\n<g id=\"edge23\" class=\"edge\">\n<title>19&#45;&gt;2</title>\n<path fill=\"none\" stroke=\"#000000\" d=\"M502.5,-86.9735C502.5,-75.1918 502.5,-59.5607 502.5,-46.1581\"/>\n<polygon fill=\"#000000\" stroke=\"#000000\" points=\"506.0001,-46.0033 502.5,-36.0034 499.0001,-46.0034 506.0001,-46.0033\"/>\n<text text-anchor=\"middle\" x=\"525.5\" y=\"-57.8\" font-family=\"Times,serif\" font-size=\"14.00\" fill=\"#000000\">rdf:type</text>\n</g>\n</g>\n</svg>\n"
          },
          "metadata": {}
        }
      ]
    },
    {
      "cell_type": "code",
      "metadata": {
        "id": "Jl62dognmwEr"
      },
      "source": [
        "#tampilkan turtle vocabulary\n",
        "#display the table "
      ],
      "execution_count": null,
      "outputs": []
    },
    {
      "cell_type": "markdown",
      "metadata": {
        "id": "HmsRVEOZAhTg"
      },
      "source": [
        "## SHACL\n",
        "\n",
        "Aturan pada SHACL kelompok kami yaitu sebagai berikut :\n",
        "* Nilai Jumlah RT dan Jumlah RW harus betipe integer(int)\n",
        "* Setiap Kelurahan hanya bisa diisi satu Kecamatan, tidak boleh lebih.\n",
        "* Setiap Kecamatan hanya bisa diisi satu Kabupaten, tidak boleh lebih.\n",
        "* Setiap Kabupaten hanya bisa diisi satu Provinsi, tidak boleh lebih.\n",
        "* Pengisian antaran class dan property harus sesuai, misal property \"Kecamatan\" harus diisi dengan kelas \"Kecamatan\".\n",
        "\n",
        "\n"
      ]
    },
    {
      "cell_type": "code",
      "metadata": {
        "id": "nXZL4AMNA5uR"
      },
      "source": [
        "shapes_graph = \"\"\"\n",
        "\n",
        "@prefix sh:     <http://www.w3.org/ns/shacl#> .\n",
        "@prefix xsd:    <http://www.w3.org/2001/XMLSchema#> .\n",
        "@prefix osadm: <http://data.ordnancesurvey.co.uk/ontology/admingeo/> .\n",
        "@prefix ex: <http://example.com/> .\n",
        "\n",
        "ex:KecamatanShape a sh:NodeShape ;\n",
        "    sh:targetClass osadm:Ward ;\n",
        "    sh:property ex:berkecamatanShape ;\n",
        "    sh:property ex:JumlahRTShape ;\n",
        "    sh:property ex:JumlahRWShape .\n",
        "  \n",
        "ex:KecamatanShape a sh:NodeShape ;\n",
        "    sh:targetClass ex:kecamatan ;\n",
        "    sh:property ex:berkabupatenShape .\n",
        "\n",
        "ex:KabupatenShape a sh:NodeShape ;\n",
        "    sh:targetClass osadm:District ;\n",
        "    sh:property ex:berprovinsiShape .\n",
        "\n",
        "ex:ProvinsiShape a sh:NodeShape ;\n",
        "    sh:targetClass osadm:District .\n",
        "\n",
        "\n",
        "\n",
        "ex:berkecamatanShape a sh:PropertyShape ;\n",
        "    sh:path ex:berkecamatan ;\n",
        "    sh:maxCount 1 ;\n",
        "    sh:class ex:kecamatan .\n",
        "\n",
        "ex:JumlahRTShape a sh:PropertyShape ;\n",
        "    sh:path ex:JumlahRT ;\n",
        "    sh:maxCount 1 ;\n",
        "    sh:datatype xsd:int .\n",
        "\n",
        "ex:JumlahRWShape a sh:PropertyShape ;   \n",
        "    sh:path ex:JumlahRW ;\n",
        "    sh:maxCount 1 ;\n",
        "    sh:datatype xsd:int .\n",
        "\n",
        "ex:berkabupatenShape a sh:PropertyShape ;\n",
        "    sh:path osadm:district ;\n",
        "    sh:maxCount 1 ;\n",
        "    sh:class osadm:District .\n",
        "\n",
        "ex:berprovinsiShape a sh:PropertyShape;\n",
        "    sh:path ex:berprovinsi ;\n",
        "    sh:maxCount 1 ;\n",
        "    sh:class ex:provinsi .\n",
        "\n",
        "\"\"\""
      ],
      "execution_count": null,
      "outputs": []
    },
    {
      "cell_type": "markdown",
      "metadata": {
        "id": "OOh_wHq1BSmT"
      },
      "source": [
        "## Data Graph\n",
        "\n"
      ]
    },
    {
      "cell_type": "code",
      "metadata": {
        "id": "Vek0ZSFnBdj9"
      },
      "source": [
        "data_graph_1 = \"\"\"\n",
        "\n",
        "\n",
        "@prefix rdfs: <http://www.w3.org/2000/01/rdf-schema#> .\n",
        "@prefix rdf: <http://www.w3.org/1999/02/22-rdf-syntax-ns#> .\n",
        "@prefix xsd: <http://www.w3.org/2001/XMLSchema#> .\n",
        "@prefix osadm: <http://data.ordnancesurvey.co.uk/ontology/admingeo/> .\n",
        "@prefix ex: <http://example.com/> .\n",
        "\n",
        "#Kelurahan \n",
        "\n",
        "ex:Cideng\n",
        "  a osadm:Ward, ex:kelurahan ;\n",
        "  ex:berkecamatan ex:Gambir ;\n",
        "  ex:JumlahRT \"114\"^^xsd:int ;\n",
        "  ex:JumlahRW \"10\"^^xsd:int .\n",
        "\n",
        "ex:KamalMuara\n",
        "  a osadm:Ward, ex:kelurahan ;\n",
        "  ex:berkecamatan ex:Penjaringan ;\n",
        "  ex:JumlahRT \"44\"^^xsd:int ;\n",
        "  ex:JumlahRW \"6\"^^xsd:int .\n",
        "\n",
        "ex:TuguUtara\n",
        "  a osadm:Ward, ex:kelurahan ;\n",
        "  ex:berkecamatan ex:Koja ;\n",
        "  ex:JumlahRT \"214\"^^xsd:int ;\n",
        "  ex:JumlahRW \"19\"^^xsd:int .\n",
        "\n",
        "\n",
        "#Kecamatan\n",
        "\n",
        "ex:Gambir\n",
        "  a ex:kecamatan ;\n",
        "  osadm:district ex:JakartaPusat .\n",
        "\n",
        "ex:Penjaringan\n",
        "  a ex:kecamatan ;\n",
        "  osadm:district ex:JakartaUtara .\n",
        "\n",
        "ex:Koja\n",
        "  a ex:kecamatan ;\n",
        "  osadm:district ex:JakartaUtara .\n",
        "\n",
        "\n",
        "#Kabupaten  \n",
        "\n",
        "ex:JakartaPusat\n",
        "  a osadm:District, ex:kabupaten ;\n",
        "  ex:berprovinsi ex:DKIJakarta .\n",
        "\n",
        "ex:JakartaUtara\n",
        "  a osadm:District, ex:kabupaten ;\n",
        "  ex:berprovinsi ex:DKIJakarta .\n",
        "\n",
        "#Provinsi\n",
        "\n",
        "ex:DKIJakarta\n",
        "  a ex:provinsi .\n",
        "\n",
        "#display the table\n",
        "\"\"\""
      ],
      "execution_count": null,
      "outputs": []
    },
    {
      "cell_type": "code",
      "metadata": {
        "id": "ovnG3WPXAElQ"
      },
      "source": [
        "data_graph_2 = \"\"\"\n",
        "\n",
        "\n",
        "@prefix rdfs: <http://www.w3.org/2000/01/rdf-schema#> .\n",
        "@prefix rdf: <http://www.w3.org/1999/02/22-rdf-syntax-ns#> .\n",
        "@prefix xsd: <http://www.w3.org/2001/XMLSchema#> .\n",
        "@prefix osadm: <http://data.ordnancesurvey.co.uk/ontology/admingeo/> .\n",
        "@prefix ex: <http://example.com/> .\n",
        "\n",
        "#Kelurahan \n",
        "\n",
        "ex:Cideng\n",
        "  a osadm:Ward, ex:kelurahan ;\n",
        "  ex:berkecamatan ex:Gambir ;\n",
        "  ex:JumlahRT \"114\"^^xsd:int ;\n",
        "  ex:JumlahRW \"10\"^^xsd:int .\n",
        "\n",
        "ex:KamalMuara\n",
        "  a osadm:Ward, ex:kelurahan ;\n",
        "  ex:berkecamatan ex:Penjaringan ;\n",
        "  ex:JumlahRT \"44\"^^xsd:int ;\n",
        "  ex:JumlahRW \"6\"^^xsd:int .\n",
        "\n",
        "ex:TuguUtara\n",
        "  a osadm:Ward, ex:kelurahan ;\n",
        "  ex:berkecamatan ex:Koja ;\n",
        "  ex:JumlahRT \"214.8\"^^xsd:float ;\n",
        "  ex:JumlahRW \"19\"^^xsd:int .\n",
        "\n",
        "\n",
        "#Kecamatan\n",
        "\n",
        "ex:Gambir\n",
        "  a ex:kecamatan ;\n",
        "  osadm:district ex:JakartaPusat .\n",
        "\n",
        "ex:Penjaringan\n",
        "  a ex:kecamatan ;\n",
        "  osadm:district ex:JakartaUtara .\n",
        "\n",
        "ex:Koja\n",
        "  a ex:kecamatan ;\n",
        "  osadm:district ex:JakartaUtara .\n",
        "\n",
        "\n",
        "#Kabupaten  \n",
        "\n",
        "ex:JakartaPusat\n",
        "  a osadm:District, ex:kabupaten ;\n",
        "  ex:berprovinsi ex:DKIJakarta .\n",
        "\n",
        "ex:JakartaUtara\n",
        "  a osadm:District, ex:kabupaten ;\n",
        "  ex:berprovinsi ex:DKIJakarta .\n",
        "\n",
        "#Provinsi\n",
        "\n",
        "ex:DKIJakarta\n",
        "  a ex:provinsi .\n",
        "\n",
        "#display the table\n",
        "\"\"\""
      ],
      "execution_count": null,
      "outputs": []
    },
    {
      "cell_type": "code",
      "metadata": {
        "id": "KHY_dFm1JtsD"
      },
      "source": [
        "data_graph_3 = \"\"\"\n",
        "\n",
        "\n",
        "@prefix rdfs: <http://www.w3.org/2000/01/rdf-schema#> .\n",
        "@prefix rdf: <http://www.w3.org/1999/02/22-rdf-syntax-ns#> .\n",
        "@prefix xsd: <http://www.w3.org/2001/XMLSchema#> .\n",
        "@prefix osadm: <http://data.ordnancesurvey.co.uk/ontology/admingeo/> .\n",
        "@prefix ex: <http://example.com/> .\n",
        "\n",
        "#Kelurahan \n",
        "\n",
        "ex:Cideng\n",
        "  a osadm:Ward, ex:kelurahan ;\n",
        "  ex:berkecamatan ex:Gambir ;\n",
        "  ex:JumlahRT \"114\"^^xsd:int ;\n",
        "  ex:JumlahRW \"10\"^^xsd:int .\n",
        "\n",
        "ex:KamalMuara\n",
        "  a osadm:Ward, ex:kelurahan ;\n",
        "  ex:berkecamatan ex:Penjaringan ;\n",
        "  ex:JumlahRT \"44\"^^xsd:int ;\n",
        "  ex:JumlahRW \"6\"^^xsd:int .\n",
        "\n",
        "ex:TuguUtara\n",
        "  a osadm:Ward, ex:kelurahan ;\n",
        "  ex:berkecamatan ex:Koja ;\n",
        "  ex:JumlahRT \"214\"^^xsd:int ;\n",
        "  ex:JumlahRW \"19\"^^xsd:int .\n",
        "\n",
        "\n",
        "#Kecamatan\n",
        "\n",
        "ex:Gambir\n",
        "  a ex:kecamatan ;\n",
        "  osadm:district ex:JakartaPusat .\n",
        "\n",
        "ex:Penjaringan\n",
        "  a ex:kecamatan ;\n",
        "  osadm:district ex:JakartaUtara .\n",
        "\n",
        "ex:Koja\n",
        "  a ex:kecamatan ;\n",
        "  osadm:district ex:JakartaUtara .\n",
        "\n",
        "\n",
        "#Kabupaten  \n",
        "\n",
        "ex:JakartaPusat\n",
        "  a osadm:District, ex:kabupaten ;\n",
        "  ex:berprovinsi ex:JakartaUtara .\n",
        "\n",
        "ex:JakartaUtara\n",
        "  a osadm:District, ex:kabupaten ;\n",
        "  ex:berprovinsi ex:DKIJakarta .\n",
        "\n",
        "#Provinsi\n",
        "\n",
        "ex:DKIJakarta\n",
        "  a ex:provinsi .\n",
        "\n",
        "#display the table\n",
        "\"\"\""
      ],
      "execution_count": null,
      "outputs": []
    },
    {
      "cell_type": "code",
      "metadata": {
        "id": "Ok-eG8i5MoO2"
      },
      "source": [
        "data_graph_4 = \"\"\"\n",
        "\n",
        "\n",
        "@prefix rdfs: <http://www.w3.org/2000/01/rdf-schema#> .\n",
        "@prefix rdf: <http://www.w3.org/1999/02/22-rdf-syntax-ns#> .\n",
        "@prefix xsd: <http://www.w3.org/2001/XMLSchema#> .\n",
        "@prefix osadm: <http://data.ordnancesurvey.co.uk/ontology/admingeo/> .\n",
        "@prefix ex: <http://example.com/> .\n",
        "\n",
        "#Kelurahan \n",
        "\n",
        "ex:Cideng\n",
        "  a osadm:Ward, ex:kelurahan ;\n",
        "  ex:berkecamatan ex:Gambir ;\n",
        "  ex:JumlahRT \"114\"^^xsd:int ;\n",
        "  ex:JumlahRW \"10\"^^xsd:int .\n",
        "\n",
        "ex:KamalMuara\n",
        "  a osadm:Ward, ex:kelurahan ;\n",
        "  ex:berkecamatan ex:Penjaringan, ex:Koja ;\n",
        "  ex:JumlahRT \"44\"^^xsd:int ;\n",
        "  ex:JumlahRW \"6\"^^xsd:int .\n",
        "\n",
        "ex:TuguUtara\n",
        "  a osadm:Ward, ex:kelurahan ;\n",
        "  ex:berkecamatan ex:Koja ;\n",
        "  ex:JumlahRT \"214\"^^xsd:int ;\n",
        "  ex:JumlahRW \"19\"^^xsd:int .\n",
        "\n",
        "\n",
        "#Kecamatan\n",
        "\n",
        "ex:Gambir\n",
        "  a ex:kecamatan ;\n",
        "  osadm:district ex:JakartaPusat, ex:JakartaUtara .\n",
        "\n",
        "ex:Penjaringan\n",
        "  a ex:kecamatan ;\n",
        "  osadm:district ex:JakartaUtara .\n",
        "\n",
        "ex:Koja\n",
        "  a ex:kecamatan ;\n",
        "  osadm:district ex:JakartaUtara .\n",
        "\n",
        "\n",
        "#Kabupaten  \n",
        "\n",
        "ex:JakartaPusat\n",
        "  a osadm:District, ex:kabupaten ;\n",
        "  ex:berprovinsi ex:DKIJakarta .\n",
        "\n",
        "ex:JakartaUtara\n",
        "  a osadm:District, ex:kabupaten ;\n",
        "  ex:berprovinsi ex:DKIJakarta .\n",
        "\n",
        "#Provinsi\n",
        "\n",
        "ex:DKIJakarta\n",
        "  a ex:provinsi .\n",
        "\n",
        "#display the table\n",
        "\"\"\""
      ],
      "execution_count": null,
      "outputs": []
    },
    {
      "cell_type": "markdown",
      "metadata": {
        "id": "aloJHbjCOhE3"
      },
      "source": [
        "# Validasi SHACL"
      ]
    },
    {
      "cell_type": "code",
      "metadata": {
        "id": "SR6uAIbOyYo0"
      },
      "source": [
        "!python -m pip install --no-input pyshacl --quiet"
      ],
      "execution_count": null,
      "outputs": []
    },
    {
      "cell_type": "markdown",
      "metadata": {
        "id": "MPHYvG9nQ7ex"
      },
      "source": [
        "## Validasi 1\n",
        "berikut hasil percobaan validasi pertama tanpa mengubah instance."
      ]
    },
    {
      "cell_type": "code",
      "metadata": {
        "id": "Ej3INxR6Oqir",
        "colab": {
          "base_uri": "https://localhost:8080/"
        },
        "outputId": "ce345c73-d085-4774-c325-04cb8651ab37"
      },
      "source": [
        "##data_graph_1\n",
        "import pyshacl\n",
        "\n",
        "results = pyshacl.validate(\n",
        "    data_graph_1,\n",
        "    shacl_graph=shapes_graph,\n",
        "    data_graph_format=\"ttl\",\n",
        "    shacl_graph_format=\"ttl\",\n",
        "    inference=\"rdfs\",\n",
        "    debug=True,\n",
        "    serialize_report_graph=\"ttl\",\n",
        "    )\n",
        "\n",
        "conforms, report_graph, report_text = results\n",
        "\n",
        "print(\"conforms Data 1\", conforms)"
      ],
      "execution_count": null,
      "outputs": [
        {
          "output_type": "stream",
          "name": "stdout",
          "text": [
            "conforms Data 1 True\n"
          ]
        }
      ]
    },
    {
      "cell_type": "markdown",
      "metadata": {
        "id": "bu46-kERRdlH"
      },
      "source": [
        "## Validasi 2\n",
        "berikut hasil percobaan validasi kedua dengan mengubah instance yaitu Jumlah RT diisi dengan nilai bertipe float, bukan bertipe integer."
      ]
    },
    {
      "cell_type": "code",
      "metadata": {
        "colab": {
          "base_uri": "https://localhost:8080/"
        },
        "id": "uSy57MocB7Na",
        "outputId": "0bae8c53-7a83-42aa-e961-a9442e6e6493"
      },
      "source": [
        "##data_graph_2\n",
        "import pyshacl\n",
        "\n",
        "results = pyshacl.validate(\n",
        "    data_graph_2,\n",
        "    shacl_graph=shapes_graph,\n",
        "    data_graph_format=\"ttl\",\n",
        "    shacl_graph_format=\"ttl\",\n",
        "    inference=\"rdfs\",\n",
        "    debug=True,\n",
        "    serialize_report_graph=\"ttl\",\n",
        "    )\n",
        "\n",
        "conforms, report_graph, report_text = results\n",
        "\n",
        "print(\"conforms Data 2\", conforms)"
      ],
      "execution_count": null,
      "outputs": [
        {
          "output_type": "stream",
          "name": "stderr",
          "text": [
            "Constraint Violation in DatatypeConstraintComponent (http://www.w3.org/ns/shacl#DatatypeConstraintComponent):\n",
            "\tSeverity: sh:Violation\n",
            "\tSource Shape: ex:JumlahRTShape\n",
            "\tFocus Node: ex:TuguUtara\n",
            "\tValue Node: Literal(\"214.8\", datatype=xsd:float)\n",
            "\tResult Path: ex:JumlahRT\n",
            "\tMessage: Value is not Literal with datatype xsd:int\n",
            "\n"
          ]
        },
        {
          "output_type": "stream",
          "name": "stdout",
          "text": [
            "conforms Data 2 False\n"
          ]
        }
      ]
    },
    {
      "cell_type": "markdown",
      "metadata": {
        "id": "Ppyf12f9R3ap"
      },
      "source": [
        "## Validasi 3\n",
        "berikut hasil percobaan validasi ketiga dengan mengubah instance yaitu pada class kabupaten \"JakartaPusat\" pada property provinsi diisi dengan nama class Kabupaten yaitu \"JakartaUtara\", sehingga terjadi kesalahan penulis."
      ]
    },
    {
      "cell_type": "code",
      "metadata": {
        "colab": {
          "base_uri": "https://localhost:8080/"
        },
        "id": "vTmskWzfJzzX",
        "outputId": "005f5c08-0bc8-4957-e667-66fda1fc2ac0"
      },
      "source": [
        "##data_graph_3\n",
        "import pyshacl\n",
        "\n",
        "results = pyshacl.validate(\n",
        "    data_graph_3,\n",
        "    shacl_graph=shapes_graph,\n",
        "    data_graph_format=\"ttl\",\n",
        "    shacl_graph_format=\"ttl\",\n",
        "    inference=\"rdfs\",\n",
        "    debug=True,\n",
        "    serialize_report_graph=\"ttl\",\n",
        "    )\n",
        "\n",
        "conforms, report_graph, report_text = results\n",
        "\n",
        "print(\"conforms Data 3\", conforms)"
      ],
      "execution_count": null,
      "outputs": [
        {
          "output_type": "stream",
          "name": "stderr",
          "text": [
            "Constraint Violation in ClassConstraintComponent (http://www.w3.org/ns/shacl#ClassConstraintComponent):\n",
            "\tSeverity: sh:Violation\n",
            "\tSource Shape: ex:berprovinsiShape\n",
            "\tFocus Node: ex:JakartaPusat\n",
            "\tValue Node: ex:JakartaUtara\n",
            "\tResult Path: ex:berprovinsi\n",
            "\tMessage: Value does not have class ex:provinsi\n",
            "\n"
          ]
        },
        {
          "output_type": "stream",
          "name": "stdout",
          "text": [
            "conforms Data 3 False\n"
          ]
        }
      ]
    },
    {
      "cell_type": "markdown",
      "metadata": {
        "id": "LrakyHBlTD6_"
      },
      "source": [
        "## Validasi 4\n",
        "berikut hasil percobaan validasi keempat dengan mengubah instance yaitu pada mengisi property kecamatan lebih dari satu pada class kelurahan. "
      ]
    },
    {
      "cell_type": "code",
      "metadata": {
        "colab": {
          "base_uri": "https://localhost:8080/"
        },
        "id": "ciRAg5kENFtP",
        "outputId": "4f8b91c3-c8e4-43c2-a956-118b16bdfa5b"
      },
      "source": [
        "##data_graph_4\n",
        "import pyshacl\n",
        "\n",
        "results = pyshacl.validate(\n",
        "    data_graph_4,\n",
        "    shacl_graph=shapes_graph,\n",
        "    data_graph_format=\"ttl\",\n",
        "    shacl_graph_format=\"ttl\",\n",
        "    inference=\"rdfs\",\n",
        "    debug=True,\n",
        "    serialize_report_graph=\"ttl\",\n",
        "    )\n",
        "\n",
        "conforms, report_graph, report_text = results\n",
        "\n",
        "print(\"conforms Data 4\", conforms)"
      ],
      "execution_count": null,
      "outputs": [
        {
          "output_type": "stream",
          "name": "stderr",
          "text": [
            "Constraint Violation in MaxCountConstraintComponent (http://www.w3.org/ns/shacl#MaxCountConstraintComponent):\n",
            "\tSeverity: sh:Violation\n",
            "\tSource Shape: ex:berkecamatanShape\n",
            "\tFocus Node: ex:KamalMuara\n",
            "\tResult Path: ex:berkecamatan\n",
            "\tMessage: More than 1 values on ex:KamalMuara->ex:berkecamatan\n",
            "\n",
            "Constraint Violation in MaxCountConstraintComponent (http://www.w3.org/ns/shacl#MaxCountConstraintComponent):\n",
            "\tSeverity: sh:Violation\n",
            "\tSource Shape: ex:berkabupatenShape\n",
            "\tFocus Node: ex:Gambir\n",
            "\tResult Path: osadm:district\n",
            "\tMessage: More than 1 values on ex:Gambir->osadm:district\n",
            "\n"
          ]
        },
        {
          "output_type": "stream",
          "name": "stdout",
          "text": [
            "conforms Data 4 False\n"
          ]
        }
      ]
    },
    {
      "cell_type": "markdown",
      "metadata": {
        "id": "fDnW_49AmtIo"
      },
      "source": [
        "# Linked Data\n",
        "## 1. Kecamatan"
      ]
    },
    {
      "cell_type": "code",
      "metadata": {
        "id": "RxHetWQTtEuc",
        "colab": {
          "base_uri": "https://localhost:8080/",
          "height": 332
        },
        "outputId": "fc7dd53f-2ad8-423f-f9f9-61cf463cff70"
      },
      "source": [
        "#Kecamatan\n",
        "%%rdf turtle\n",
        "\n",
        "@prefix rdfs: <http://www.w3.org/2000/01/rdf-schema#> .\n",
        "@prefix rdf: <http://www.w3.org/1999/02/22-rdf-syntax-ns#> .\n",
        "@prefix xsd: <http://www.w3.org/2001/XMLSchema#> .\n",
        "@prefix osadm: <http://data.ordnancesurvey.co.uk/ontology/admingeo/> .\n",
        "@prefix ex: <http://example.com/> .\n",
        "@prefix foaf: <http://xmlns.com/foaf/0.1/> .\n",
        "@prefix owl: <http://www.w3.org/2002/07/owl#> .\n",
        "@prefix dbr: <httpw://dbpedia.org/resource/> .\n",
        "@prefix dbc: <https://dbpedia.org/page/Category/> .\n",
        "@prefix dbo: <http://dbpedia.org/ontology/> .\n",
        "@prefix dbprop: <http://dbpedia.org/property/> .\n",
        "\n",
        "#Kecamatan\n",
        "\n",
        "ex:Gambir\n",
        "  a ex:kecamatan ;\n",
        "  osadm:district ex:JakartaPusat ;\n",
        "  foaf:based_near dbr:Gambir .\n",
        "\n",
        "ex:Penjaringan\n",
        "  a ex:kecamatan ;\n",
        "  osadm:district ex:JakartaUtara ;\n",
        "  foaf:based_near dbr:Penjaringan .\n",
        "\n",
        "ex:Koja\n",
        "  a ex:kecamatan ;\n",
        "  osadm:district ex:JakartaUtara ;\n",
        "  foaf:based_near dbr:Koja .\n",
        "\n",
        "###\n",
        "dbr:Gambir\n",
        "  dbo:wikiPageID \"10829289\"^^xsd:int ;\n",
        "  dbo:wikiPageWikiLink dbr:Gambir_Jakarta, dbr:Gambir_Gambir .\n",
        "\n",
        "dbr:Penjaringan\n",
        "  dbo:wikiPageID\t\"7118494\"^^xsd:int ;\n",
        "  dbo:wikiPageWikiLink dbr:North_Jakarta, dbc:Districts_of_Jakarta, dbr:Indonesia .\t\n",
        "\n",
        "dbr:Koja\n",
        "  dbo:wikiPageID\t\"7118438\"^^xsd:int ;\n",
        "  dbo:wikiPageWikiLink dbr:Koja_Jakarta .\n",
        "\n",
        "\n",
        "\n",
        "\t\t\n",
        "\n",
        "\n"
      ],
      "execution_count": 54,
      "outputs": [
        {
          "output_type": "display_data",
          "data": {
            "text/plain": [
              "<graphviz.dot.Digraph at 0x7fd4799f0390>"
            ],
            "image/svg+xml": "<?xml version=\"1.0\" encoding=\"UTF-8\" standalone=\"no\"?>\n<!DOCTYPE svg PUBLIC \"-//W3C//DTD SVG 1.1//EN\"\n \"http://www.w3.org/Graphics/SVG/1.1/DTD/svg11.dtd\">\n<!-- Generated by graphviz version 2.40.1 (20161225.0304)\n -->\n<!-- Title: %3 Pages: 1 -->\n<svg width=\"1534pt\" height=\"218pt\"\n viewBox=\"0.00 0.00 1533.99 218.00\" xmlns=\"http://www.w3.org/2000/svg\" xmlns:xlink=\"http://www.w3.org/1999/xlink\">\n<g id=\"graph0\" class=\"graph\" transform=\"scale(1 1) rotate(0) translate(4 214)\">\n<title>%3</title>\n<polygon fill=\"#ffffff\" stroke=\"transparent\" points=\"-4,4 -4,-214 1529.9925,-214 1529.9925,4 -4,4\"/>\n<!-- 0 -->\n<g id=\"node1\" class=\"node\">\n<title>0</title>\n<ellipse fill=\"none\" stroke=\"#000000\" cx=\"225.5\" cy=\"-18\" rx=\"74.187\" ry=\"18\"/>\n<text text-anchor=\"middle\" x=\"225.5\" y=\"-14.3\" font-family=\"Times,serif\" font-size=\"14.00\" fill=\"#000000\">dbr:Koja_Jakarta</text>\n</g>\n<!-- 1 -->\n<g id=\"node2\" class=\"node\">\n<title>1</title>\n<ellipse fill=\"none\" stroke=\"#000000\" cx=\"364.5\" cy=\"-192\" rx=\"40.0939\" ry=\"18\"/>\n<text text-anchor=\"middle\" x=\"364.5\" y=\"-188.3\" font-family=\"Times,serif\" font-size=\"14.00\" fill=\"#000000\">ex:Koja</text>\n</g>\n<!-- 5 -->\n<g id=\"node6\" class=\"node\">\n<title>5</title>\n<ellipse fill=\"none\" stroke=\"#000000\" cx=\"421.5\" cy=\"-105\" rx=\"67.6881\" ry=\"18\"/>\n<text text-anchor=\"middle\" x=\"421.5\" y=\"-101.3\" font-family=\"Times,serif\" font-size=\"14.00\" fill=\"#000000\">ex:JakartaUtara</text>\n</g>\n<!-- 1&#45;&gt;5 -->\n<g id=\"edge10\" class=\"edge\">\n<title>1&#45;&gt;5</title>\n<path fill=\"none\" stroke=\"#000000\" d=\"M360.8532,-173.9217C359.7209,-163.6456 359.9709,-150.8956 365.5,-141 368.6077,-135.4381 372.9736,-130.6022 377.9118,-126.4376\"/>\n<polygon fill=\"#000000\" stroke=\"#000000\" points=\"380.075,-129.1912 386.0443,-120.438 375.9193,-123.5582 380.075,-129.1912\"/>\n<text text-anchor=\"middle\" x=\"405.5\" y=\"-144.8\" font-family=\"Times,serif\" font-size=\"14.00\" fill=\"#000000\">osadm:district</text>\n</g>\n<!-- 7 -->\n<g id=\"node8\" class=\"node\">\n<title>7</title>\n<ellipse fill=\"none\" stroke=\"#000000\" cx=\"768.5\" cy=\"-105\" rx=\"61.1893\" ry=\"18\"/>\n<text text-anchor=\"middle\" x=\"768.5\" y=\"-101.3\" font-family=\"Times,serif\" font-size=\"14.00\" fill=\"#000000\">ex:kecamatan</text>\n</g>\n<!-- 1&#45;&gt;7 -->\n<g id=\"edge4\" class=\"edge\">\n<title>1&#45;&gt;7</title>\n<path fill=\"none\" stroke=\"#000000\" d=\"M403.7063,-187.4568C441.5111,-182.3517 499.9738,-172.5363 548.5,-156 562.6103,-151.1916 564.2866,-145.4945 578.5,-141 629.9204,-124.7399 645.6481,-133.7296 698.5,-123 703.4458,-121.9959 708.5653,-120.8631 713.6819,-119.6667\"/>\n<polygon fill=\"#000000\" stroke=\"#000000\" points=\"714.5712,-123.0527 723.4713,-117.3048 712.9293,-116.2479 714.5712,-123.0527\"/>\n<text text-anchor=\"middle\" x=\"601.5\" y=\"-144.8\" font-family=\"Times,serif\" font-size=\"14.00\" fill=\"#000000\">rdf:type</text>\n</g>\n<!-- 8 -->\n<g id=\"node9\" class=\"node\">\n<title>8</title>\n<ellipse fill=\"none\" stroke=\"#000000\" cx=\"225.5\" cy=\"-105\" rx=\"44.393\" ry=\"18\"/>\n<text text-anchor=\"middle\" x=\"225.5\" y=\"-101.3\" font-family=\"Times,serif\" font-size=\"14.00\" fill=\"#000000\">dbr:Koja</text>\n</g>\n<!-- 1&#45;&gt;8 -->\n<g id=\"edge11\" class=\"edge\">\n<title>1&#45;&gt;8</title>\n<path fill=\"none\" stroke=\"#000000\" d=\"M328.2339,-183.7502C308.6986,-178.1099 284.9023,-169.2171 266.5,-156 257.13,-149.2702 248.7424,-139.8548 242.0322,-130.9432\"/>\n<polygon fill=\"#000000\" stroke=\"#000000\" points=\"244.7853,-128.7755 236.1353,-122.6577 239.0822,-132.8345 244.7853,-128.7755\"/>\n<text text-anchor=\"middle\" x=\"312\" y=\"-144.8\" font-family=\"Times,serif\" font-size=\"14.00\" fill=\"#000000\">foaf:based_near</text>\n</g>\n<!-- 2 -->\n<g id=\"node3\" class=\"node\">\n<title>2</title>\n<ellipse fill=\"none\" stroke=\"#000000\" cx=\"928.5\" cy=\"-105\" rx=\"67.6881\" ry=\"18\"/>\n<text text-anchor=\"middle\" x=\"928.5\" y=\"-101.3\" font-family=\"Times,serif\" font-size=\"14.00\" fill=\"#000000\">ex:JakartaPusat</text>\n</g>\n<!-- 3 -->\n<g id=\"node4\" class=\"node\">\n<title>3</title>\n<ellipse fill=\"none\" stroke=\"#000000\" cx=\"619.5\" cy=\"-105\" rx=\"70.3881\" ry=\"18\"/>\n<text text-anchor=\"middle\" x=\"619.5\" y=\"-101.3\" font-family=\"Times,serif\" font-size=\"14.00\" fill=\"#000000\">dbr:Penjaringan</text>\n</g>\n<!-- 6 -->\n<g id=\"node7\" class=\"node\">\n<title>6</title>\n<ellipse fill=\"none\" stroke=\"#000000\" cx=\"613.5\" cy=\"-18\" rx=\"77.9862\" ry=\"18\"/>\n<text text-anchor=\"middle\" x=\"613.5\" y=\"-14.3\" font-family=\"Times,serif\" font-size=\"14.00\" fill=\"#000000\">dbr:North_Jakarta</text>\n</g>\n<!-- 3&#45;&gt;6 -->\n<g id=\"edge2\" class=\"edge\">\n<title>3&#45;&gt;6</title>\n<path fill=\"none\" stroke=\"#000000\" d=\"M618.2568,-86.9735C617.4443,-75.1918 616.3663,-59.5607 615.4419,-46.1581\"/>\n<polygon fill=\"#000000\" stroke=\"#000000\" points=\"618.9214,-45.7388 614.7416,-36.0034 611.938,-46.2205 618.9214,-45.7388\"/>\n<text text-anchor=\"middle\" x=\"685.5\" y=\"-57.8\" font-family=\"Times,serif\" font-size=\"14.00\" fill=\"#000000\">dbo:wikiPageWikiLink</text>\n</g>\n<!-- 11 -->\n<g id=\"node12\" class=\"node\">\n<title>11</title>\n<polygon fill=\"none\" stroke=\"#000000\" points=\"842,-36 709,-36 709,0 842,0 842,-36\"/>\n<text text-anchor=\"middle\" x=\"775.5\" y=\"-14.3\" font-family=\"Times,serif\" font-size=\"14.00\" fill=\"#000000\">&quot;7118494&quot;^^xsd:int</text>\n</g>\n<!-- 3&#45;&gt;11 -->\n<g id=\"edge15\" class=\"edge\">\n<title>3&#45;&gt;11</title>\n<path fill=\"none\" stroke=\"#000000\" d=\"M672.4397,-93.0952C707.0792,-84.9111 747.0771,-74.5542 753.5,-69 760.4201,-63.0158 765.2326,-54.4624 768.5492,-46.066\"/>\n<polygon fill=\"#000000\" stroke=\"#000000\" points=\"771.9147,-47.039 771.7921,-36.4449 765.2813,-44.8031 771.9147,-47.039\"/>\n<text text-anchor=\"middle\" x=\"812\" y=\"-57.8\" font-family=\"Times,serif\" font-size=\"14.00\" fill=\"#000000\">dbo:wikiPageID</text>\n</g>\n<!-- 12 -->\n<g id=\"node13\" class=\"node\">\n<title>12</title>\n<ellipse fill=\"none\" stroke=\"#000000\" cx=\"921.5\" cy=\"-18\" rx=\"61.99\" ry=\"18\"/>\n<text text-anchor=\"middle\" x=\"921.5\" y=\"-14.3\" font-family=\"Times,serif\" font-size=\"14.00\" fill=\"#000000\">dbr:Indonesia</text>\n</g>\n<!-- 3&#45;&gt;12 -->\n<g id=\"edge16\" class=\"edge\">\n<title>3&#45;&gt;12</title>\n<path fill=\"none\" stroke=\"#000000\" d=\"M670.3243,-92.5126C679.6583,-90.4782 689.3441,-88.5372 698.5,-87 771.2502,-74.7857 795.9922,-98.7402 863.5,-69 877.0916,-63.0123 889.7798,-52.6583 899.8019,-42.8375\"/>\n<polygon fill=\"#000000\" stroke=\"#000000\" points=\"902.4601,-45.1243 906.917,-35.5125 897.4389,-40.247 902.4601,-45.1243\"/>\n<text text-anchor=\"middle\" x=\"955.5\" y=\"-57.8\" font-family=\"Times,serif\" font-size=\"14.00\" fill=\"#000000\">dbo:wikiPageWikiLink</text>\n</g>\n<!-- 16 -->\n<g id=\"node17\" class=\"node\">\n<title>16</title>\n<ellipse fill=\"none\" stroke=\"#000000\" cx=\"417.5\" cy=\"-18\" rx=\"100.1823\" ry=\"18\"/>\n<text text-anchor=\"middle\" x=\"417.5\" y=\"-14.3\" font-family=\"Times,serif\" font-size=\"14.00\" fill=\"#000000\">dbc:Districts_of_Jakarta</text>\n</g>\n<!-- 3&#45;&gt;16 -->\n<g id=\"edge3\" class=\"edge\">\n<title>3&#45;&gt;16</title>\n<path fill=\"none\" stroke=\"#000000\" d=\"M558.1026,-96.0578C531.9423,-90.6251 501.7096,-82.1152 476.5,-69 463.6743,-62.3275 451.2831,-52.3482 441.1953,-42.9816\"/>\n<polygon fill=\"#000000\" stroke=\"#000000\" points=\"443.5883,-40.4269 433.9612,-36.0033 438.7285,-45.465 443.5883,-40.4269\"/>\n<text text-anchor=\"middle\" x=\"544.5\" y=\"-57.8\" font-family=\"Times,serif\" font-size=\"14.00\" fill=\"#000000\">dbo:wikiPageWikiLink</text>\n</g>\n<!-- 4 -->\n<g id=\"node5\" class=\"node\">\n<title>4</title>\n<ellipse fill=\"none\" stroke=\"#000000\" cx=\"928.5\" cy=\"-192\" rx=\"50.0912\" ry=\"18\"/>\n<text text-anchor=\"middle\" x=\"928.5\" y=\"-188.3\" font-family=\"Times,serif\" font-size=\"14.00\" fill=\"#000000\">ex:Gambir</text>\n</g>\n<!-- 4&#45;&gt;2 -->\n<g id=\"edge5\" class=\"edge\">\n<title>4&#45;&gt;2</title>\n<path fill=\"none\" stroke=\"#000000\" d=\"M928.5,-173.9735C928.5,-162.1918 928.5,-146.5607 928.5,-133.1581\"/>\n<polygon fill=\"#000000\" stroke=\"#000000\" points=\"932.0001,-133.0033 928.5,-123.0034 925.0001,-133.0034 932.0001,-133.0033\"/>\n<text text-anchor=\"middle\" x=\"968.5\" y=\"-144.8\" font-family=\"Times,serif\" font-size=\"14.00\" fill=\"#000000\">osadm:district</text>\n</g>\n<!-- 4&#45;&gt;7 -->\n<g id=\"edge9\" class=\"edge\">\n<title>4&#45;&gt;7</title>\n<path fill=\"none\" stroke=\"#000000\" d=\"M900.6301,-176.8458C874.6158,-162.7005 835.5754,-141.4723 806.6711,-125.7555\"/>\n<polygon fill=\"#000000\" stroke=\"#000000\" points=\"808.1293,-122.5645 797.672,-120.8623 804.7853,-128.7142 808.1293,-122.5645\"/>\n<text text-anchor=\"middle\" x=\"881.5\" y=\"-144.8\" font-family=\"Times,serif\" font-size=\"14.00\" fill=\"#000000\">rdf:type</text>\n</g>\n<!-- 15 -->\n<g id=\"node16\" class=\"node\">\n<title>15</title>\n<ellipse fill=\"none\" stroke=\"#000000\" cx=\"1165.5\" cy=\"-105\" rx=\"53.8905\" ry=\"18\"/>\n<text text-anchor=\"middle\" x=\"1165.5\" y=\"-101.3\" font-family=\"Times,serif\" font-size=\"14.00\" fill=\"#000000\">dbr:Gambir</text>\n</g>\n<!-- 4&#45;&gt;15 -->\n<g id=\"edge12\" class=\"edge\">\n<title>4&#45;&gt;15</title>\n<path fill=\"none\" stroke=\"#000000\" d=\"M963.7254,-179.0692C1005.0509,-163.899 1073.6983,-138.6994 1119.2719,-121.9698\"/>\n<polygon fill=\"#000000\" stroke=\"#000000\" points=\"1120.7299,-125.163 1128.9112,-118.4313 1118.3176,-118.5918 1120.7299,-125.163\"/>\n<text text-anchor=\"middle\" x=\"1107\" y=\"-144.8\" font-family=\"Times,serif\" font-size=\"14.00\" fill=\"#000000\">foaf:based_near</text>\n</g>\n<!-- 8&#45;&gt;0 -->\n<g id=\"edge6\" class=\"edge\">\n<title>8&#45;&gt;0</title>\n<path fill=\"none\" stroke=\"#000000\" d=\"M225.5,-86.9735C225.5,-75.1918 225.5,-59.5607 225.5,-46.1581\"/>\n<polygon fill=\"#000000\" stroke=\"#000000\" points=\"229.0001,-46.0033 225.5,-36.0034 222.0001,-46.0034 229.0001,-46.0033\"/>\n<text text-anchor=\"middle\" x=\"293.5\" y=\"-57.8\" font-family=\"Times,serif\" font-size=\"14.00\" fill=\"#000000\">dbo:wikiPageWikiLink</text>\n</g>\n<!-- 9 -->\n<g id=\"node10\" class=\"node\">\n<title>9</title>\n<polygon fill=\"none\" stroke=\"#000000\" points=\"133,-36 0,-36 0,0 133,0 133,-36\"/>\n<text text-anchor=\"middle\" x=\"66.5\" y=\"-14.3\" font-family=\"Times,serif\" font-size=\"14.00\" fill=\"#000000\">&quot;7118438&quot;^^xsd:int</text>\n</g>\n<!-- 8&#45;&gt;9 -->\n<g id=\"edge8\" class=\"edge\">\n<title>8&#45;&gt;9</title>\n<path fill=\"none\" stroke=\"#000000\" d=\"M188.3768,-94.9533C169.1771,-88.9163 145.7889,-80.2146 126.5,-69 114.2832,-61.8971 102.1499,-52.2153 92.0245,-43.1953\"/>\n<polygon fill=\"#000000\" stroke=\"#000000\" points=\"94.1036,-40.3526 84.3714,-36.1652 89.3682,-45.5077 94.1036,-40.3526\"/>\n<text text-anchor=\"middle\" x=\"174\" y=\"-57.8\" font-family=\"Times,serif\" font-size=\"14.00\" fill=\"#000000\">dbo:wikiPageID</text>\n</g>\n<!-- 10 -->\n<g id=\"node11\" class=\"node\">\n<title>10</title>\n<polygon fill=\"none\" stroke=\"#000000\" points=\"1146,-36 1005,-36 1005,0 1146,0 1146,-36\"/>\n<text text-anchor=\"middle\" x=\"1075.5\" y=\"-14.3\" font-family=\"Times,serif\" font-size=\"14.00\" fill=\"#000000\">&quot;10829289&quot;^^xsd:int</text>\n</g>\n<!-- 13 -->\n<g id=\"node14\" class=\"node\">\n<title>13</title>\n<ellipse fill=\"none\" stroke=\"#000000\" cx=\"1251.5\" cy=\"-18\" rx=\"87.1846\" ry=\"18\"/>\n<text text-anchor=\"middle\" x=\"1251.5\" y=\"-14.3\" font-family=\"Times,serif\" font-size=\"14.00\" fill=\"#000000\">dbr:Gambir_Gambir</text>\n</g>\n<!-- 14 -->\n<g id=\"node15\" class=\"node\">\n<title>14</title>\n<ellipse fill=\"none\" stroke=\"#000000\" cx=\"639.5\" cy=\"-192\" rx=\"66.0889\" ry=\"18\"/>\n<text text-anchor=\"middle\" x=\"639.5\" y=\"-188.3\" font-family=\"Times,serif\" font-size=\"14.00\" fill=\"#000000\">ex:Penjaringan</text>\n</g>\n<!-- 14&#45;&gt;3 -->\n<g id=\"edge18\" class=\"edge\">\n<title>14&#45;&gt;3</title>\n<path fill=\"none\" stroke=\"#000000\" d=\"M635.356,-173.9735C632.6207,-162.0751 628.9829,-146.2508 625.8818,-132.7606\"/>\n<polygon fill=\"#000000\" stroke=\"#000000\" points=\"629.2902,-131.965 623.6387,-123.0034 622.4682,-133.5333 629.2902,-131.965\"/>\n<text text-anchor=\"middle\" x=\"677\" y=\"-144.8\" font-family=\"Times,serif\" font-size=\"14.00\" fill=\"#000000\">foaf:based_near</text>\n</g>\n<!-- 14&#45;&gt;5 -->\n<g id=\"edge7\" class=\"edge\">\n<title>14&#45;&gt;5</title>\n<path fill=\"none\" stroke=\"#000000\" d=\"M580.8524,-183.5554C539.2221,-176.8352 487.4904,-166.7937 468.5,-156 457.489,-149.7416 447.5916,-140.0159 439.7517,-130.7289\"/>\n<polygon fill=\"#000000\" stroke=\"#000000\" points=\"442.3851,-128.4174 433.4154,-122.7786 436.911,-132.7802 442.3851,-128.4174\"/>\n<text text-anchor=\"middle\" x=\"508.5\" y=\"-144.8\" font-family=\"Times,serif\" font-size=\"14.00\" fill=\"#000000\">osadm:district</text>\n</g>\n<!-- 14&#45;&gt;7 -->\n<g id=\"edge1\" class=\"edge\">\n<title>14&#45;&gt;7</title>\n<path fill=\"none\" stroke=\"#000000\" d=\"M683.7441,-178.5044C698.1774,-172.8851 713.7548,-165.4322 726.5,-156 735.7228,-149.1746 744.1508,-139.8964 750.9969,-131.1243\"/>\n<polygon fill=\"#000000\" stroke=\"#000000\" points=\"753.9024,-133.0821 757.0502,-122.9656 748.2808,-128.911 753.9024,-133.0821\"/>\n<text text-anchor=\"middle\" x=\"765.5\" y=\"-144.8\" font-family=\"Times,serif\" font-size=\"14.00\" fill=\"#000000\">rdf:type</text>\n</g>\n<!-- 15&#45;&gt;10 -->\n<g id=\"edge14\" class=\"edge\">\n<title>15&#45;&gt;10</title>\n<path fill=\"none\" stroke=\"#000000\" d=\"M1133.8185,-90.4281C1123.6501,-84.7298 1112.8662,-77.5022 1104.5,-69 1097.7523,-62.1426 1092.0361,-53.4028 1087.5088,-45.1031\"/>\n<polygon fill=\"#000000\" stroke=\"#000000\" points=\"1090.5576,-43.3766 1082.9108,-36.0433 1084.3154,-46.5446 1090.5576,-43.3766\"/>\n<text text-anchor=\"middle\" x=\"1152\" y=\"-57.8\" font-family=\"Times,serif\" font-size=\"14.00\" fill=\"#000000\">dbo:wikiPageID</text>\n</g>\n<!-- 15&#45;&gt;13 -->\n<g id=\"edge17\" class=\"edge\">\n<title>15&#45;&gt;13</title>\n<path fill=\"none\" stroke=\"#000000\" d=\"M1182.4908,-87.8116C1195.1631,-74.992 1212.6627,-57.2889 1226.8686,-42.9179\"/>\n<polygon fill=\"#000000\" stroke=\"#000000\" points=\"1229.4131,-45.3224 1233.954,-35.75 1224.4348,-40.4013 1229.4131,-45.3224\"/>\n<text text-anchor=\"middle\" x=\"1282.5\" y=\"-57.8\" font-family=\"Times,serif\" font-size=\"14.00\" fill=\"#000000\">dbo:wikiPageWikiLink</text>\n</g>\n<!-- 17 -->\n<g id=\"node18\" class=\"node\">\n<title>17</title>\n<ellipse fill=\"none\" stroke=\"#000000\" cx=\"1441.5\" cy=\"-18\" rx=\"84.485\" ry=\"18\"/>\n<text text-anchor=\"middle\" x=\"1441.5\" y=\"-14.3\" font-family=\"Times,serif\" font-size=\"14.00\" fill=\"#000000\">dbr:Gambir_Jakarta</text>\n</g>\n<!-- 15&#45;&gt;17 -->\n<g id=\"edge13\" class=\"edge\">\n<title>15&#45;&gt;17</title>\n<path fill=\"none\" stroke=\"#000000\" d=\"M1217.327,-99.9646C1256.0504,-95.0568 1309.7833,-85.7916 1354.5,-69 1373.271,-61.9513 1392.6585,-51.0026 1408.3543,-41.054\"/>\n<polygon fill=\"#000000\" stroke=\"#000000\" points=\"1410.6573,-43.7316 1417.1366,-35.3489 1406.844,-37.8615 1410.6573,-43.7316\"/>\n<text text-anchor=\"middle\" x=\"1452.5\" y=\"-57.8\" font-family=\"Times,serif\" font-size=\"14.00\" fill=\"#000000\">dbo:wikiPageWikiLink</text>\n</g>\n</g>\n</svg>\n"
          },
          "metadata": {}
        }
      ]
    },
    {
      "cell_type": "markdown",
      "metadata": {
        "id": "HIs-VxPm2MUN"
      },
      "source": [
        "## 2. Hasil Secara Keseluruhan"
      ]
    },
    {
      "cell_type": "code",
      "metadata": {
        "colab": {
          "base_uri": "https://localhost:8080/",
          "height": 564
        },
        "id": "2suOP9pi2Bd_",
        "outputId": "ec9eb8c7-2d8d-4436-c634-ccebb3188367"
      },
      "source": [
        "%%rdf turtle\n",
        "\n",
        "@prefix rdfs: <http://www.w3.org/2000/01/rdf-schema#> .\n",
        "@prefix rdf: <http://www.w3.org/1999/02/22-rdf-syntax-ns#> .\n",
        "@prefix xsd: <http://www.w3.org/2001/XMLSchema#> .\n",
        "@prefix osadm: <http://data.ordnancesurvey.co.uk/ontology/admingeo/> .\n",
        "@prefix ex: <http://example.com/> .\n",
        "@prefix foaf: <http://xmlns.com/foaf/0.1/> .\n",
        "@prefix owl: <http://www.w3.org/2002/07/owl#> .\n",
        "@prefix dbr: <httpw://dbpedia.org/resource/> .\n",
        "@prefix dbc: <https://dbpedia.org/page/Category/> .\n",
        "@prefix dbo: <http://dbpedia.org/ontology/> .\n",
        "@prefix dbprop: <http://dbpedia.org/property/> .\n",
        "       \n",
        "\n",
        "#Kelurahan \n",
        "\n",
        "ex:Cideng\n",
        "  a osadm:Ward, ex:kelurahan ;\n",
        "  ex:berkecamatan ex:Gambir ;\n",
        "  ex:JumlahRT \"114\"^^xsd:int ;\n",
        "  ex:JumlahRW \"10\"^^xsd:int .\n",
        "\n",
        "ex:KamalMuara\n",
        "  a osadm:Ward, ex:kelurahan ;\n",
        "  ex:berkecamatan ex:Penjaringan ;\n",
        "  ex:JumlahRT \"44\"^^xsd:int ;\n",
        "  ex:JumlahRW \"6\"^^xsd:int .\n",
        "\n",
        "ex:TuguUtara\n",
        "  a osadm:Ward, ex:kelurahan ;\n",
        "  ex:berkecamatan ex:Koja ;\n",
        "  ex:JumlahRT \"214\"^^xsd:int ;\n",
        "  ex:JumlahRW \"19\"^^xsd:int .\n",
        "\n",
        "#Kecamatan\n",
        "\n",
        "ex:Gambir\n",
        "  a ex:kecamatan ;\n",
        "  osadm:district ex:JakartaPusat ;\n",
        "  foaf:based_near dbr:Gambir .\n",
        "\n",
        "ex:Penjaringan\n",
        "  a ex:kecamatan ;\n",
        "  osadm:district ex:JakartaUtara ;\n",
        "  foaf:based_near dbr:Penjaringan .\n",
        "\n",
        "ex:Koja\n",
        "  a ex:kecamatan ;\n",
        "  osadm:district ex:JakartaUtara ;\n",
        "  foaf:based_near dbr:Koja .\n",
        "\n",
        "###\n",
        "dbr:Gambir\n",
        "  dbo:wikiPageID \"10829289\"^^xsd:int ;\n",
        "  dbo:wikiPageWikiLink dbr:Gambir_Jakarta, dbr:Gambir_Gambir .\n",
        "\n",
        "dbr:Penjaringan\n",
        "  dbo:wikiPageID\t\"7118494\"^^xsd:int ;\n",
        "  dbo:wikiPageWikiLink dbr:North_Jakarta, dbc:Districts_of_Jakarta, dbr:Indonesia .\t\n",
        "\n",
        "dbr:Koja\n",
        "  dbo:wikiPageID\t\"7118438\"^^xsd:int ;\n",
        "  dbo:wikiPageWikiLink dbr:Koja_Jakarta .\n",
        "\n",
        "#Kabupaten  \n",
        "\n",
        "ex:JakartaPusat\n",
        "  a osadm:District, ex:kabupaten ;\n",
        "  ex:berprovinsi ex:DKIJakarta .\n",
        "\n",
        "ex:JakartaUtara\n",
        "  a osadm:District, ex:kabupaten ;\n",
        "  ex:berprovinsi ex:DKIJakarta .\n",
        "\n",
        "#Provinsi\n",
        "\n",
        "ex:DKIJakarta\n",
        "  a ex:provinsi ."
      ],
      "execution_count": 53,
      "outputs": [
        {
          "output_type": "display_data",
          "data": {
            "text/plain": [
              "<graphviz.dot.Digraph at 0x7fd479a41810>"
            ],
            "image/svg+xml": "<?xml version=\"1.0\" encoding=\"UTF-8\" standalone=\"no\"?>\n<!DOCTYPE svg PUBLIC \"-//W3C//DTD SVG 1.1//EN\"\n \"http://www.w3.org/Graphics/SVG/1.1/DTD/svg11.dtd\">\n<!-- Generated by graphviz version 2.40.1 (20161225.0304)\n -->\n<!-- Title: %3 Pages: 1 -->\n<svg width=\"2010pt\" height=\"392pt\"\n viewBox=\"0.00 0.00 2009.50 392.00\" xmlns=\"http://www.w3.org/2000/svg\" xmlns:xlink=\"http://www.w3.org/1999/xlink\">\n<g id=\"graph0\" class=\"graph\" transform=\"scale(1 1) rotate(0) translate(4 388)\">\n<title>%3</title>\n<polygon fill=\"#ffffff\" stroke=\"transparent\" points=\"-4,4 -4,-388 2005.5,-388 2005.5,4 -4,4\"/>\n<!-- 0 -->\n<g id=\"node1\" class=\"node\">\n<title>0</title>\n<ellipse fill=\"none\" stroke=\"#000000\" cx=\"756.5\" cy=\"-105\" rx=\"60.3893\" ry=\"18\"/>\n<text text-anchor=\"middle\" x=\"756.5\" y=\"-101.3\" font-family=\"Times,serif\" font-size=\"14.00\" fill=\"#000000\">ex:kabupaten</text>\n</g>\n<!-- 1 -->\n<g id=\"node2\" class=\"node\">\n<title>1</title>\n<ellipse fill=\"none\" stroke=\"#000000\" cx=\"780.5\" cy=\"-366\" rx=\"70.3881\" ry=\"18\"/>\n<text text-anchor=\"middle\" x=\"780.5\" y=\"-362.3\" font-family=\"Times,serif\" font-size=\"14.00\" fill=\"#000000\">ex:KamalMuara</text>\n</g>\n<!-- 8 -->\n<g id=\"node9\" class=\"node\">\n<title>8</title>\n<ellipse fill=\"none\" stroke=\"#000000\" cx=\"782.5\" cy=\"-279\" rx=\"57.6901\" ry=\"18\"/>\n<text text-anchor=\"middle\" x=\"782.5\" y=\"-275.3\" font-family=\"Times,serif\" font-size=\"14.00\" fill=\"#000000\">osadm:Ward</text>\n</g>\n<!-- 1&#45;&gt;8 -->\n<g id=\"edge5\" class=\"edge\">\n<title>1&#45;&gt;8</title>\n<path fill=\"none\" stroke=\"#000000\" d=\"M780.8248,-347.5864C781.005,-337.8901 781.2441,-325.8011 781.5,-315 781.5575,-312.574 781.6205,-310.0561 781.6861,-307.5299\"/>\n<polygon fill=\"#000000\" stroke=\"#000000\" points=\"785.1907,-307.4044 781.9624,-297.3134 778.1932,-307.2151 785.1907,-307.4044\"/>\n<text text-anchor=\"middle\" x=\"804.5\" y=\"-318.8\" font-family=\"Times,serif\" font-size=\"14.00\" fill=\"#000000\">rdf:type</text>\n</g>\n<!-- 12 -->\n<g id=\"node13\" class=\"node\">\n<title>12</title>\n<ellipse fill=\"none\" stroke=\"#000000\" cx=\"1059.5\" cy=\"-279\" rx=\"66.0889\" ry=\"18\"/>\n<text text-anchor=\"middle\" x=\"1059.5\" y=\"-275.3\" font-family=\"Times,serif\" font-size=\"14.00\" fill=\"#000000\">ex:Penjaringan</text>\n</g>\n<!-- 1&#45;&gt;12 -->\n<g id=\"edge28\" class=\"edge\">\n<title>1&#45;&gt;12</title>\n<path fill=\"none\" stroke=\"#000000\" d=\"M850.23,-363.3525C915.0894,-359.6222 1005.8911,-350.7676 1034.5,-330 1042.3271,-324.3181 1047.8264,-315.5033 1051.6327,-306.7905\"/>\n<polygon fill=\"#000000\" stroke=\"#000000\" points=\"1055.0067,-307.7613 1055.2445,-297.1691 1048.4532,-305.3011 1055.0067,-307.7613\"/>\n<text text-anchor=\"middle\" x=\"1094.5\" y=\"-318.8\" font-family=\"Times,serif\" font-size=\"14.00\" fill=\"#000000\">ex:berkecamatan</text>\n</g>\n<!-- 18 -->\n<g id=\"node19\" class=\"node\">\n<title>18</title>\n<polygon fill=\"none\" stroke=\"#000000\" points=\"558,-297 469,-297 469,-261 558,-261 558,-297\"/>\n<text text-anchor=\"middle\" x=\"513.5\" y=\"-275.3\" font-family=\"Times,serif\" font-size=\"14.00\" fill=\"#000000\">&quot;6&quot;^^xsd:int</text>\n</g>\n<!-- 1&#45;&gt;18 -->\n<g id=\"edge7\" class=\"edge\">\n<title>1&#45;&gt;18</title>\n<path fill=\"none\" stroke=\"#000000\" d=\"M712.2937,-361.6396C635.8654,-356.0436 520.8356,-345.2096 507.5,-330 501.9843,-323.7092 501.3188,-315.1772 502.6886,-306.8926\"/>\n<polygon fill=\"#000000\" stroke=\"#000000\" points=\"506.1122,-307.6307 505.1798,-297.077 499.3273,-305.9086 506.1122,-307.6307\"/>\n<text text-anchor=\"middle\" x=\"548.5\" y=\"-318.8\" font-family=\"Times,serif\" font-size=\"14.00\" fill=\"#000000\">ex:JumlahRW</text>\n</g>\n<!-- 20 -->\n<g id=\"node21\" class=\"node\">\n<title>20</title>\n<ellipse fill=\"none\" stroke=\"#000000\" cx=\"916.5\" cy=\"-279\" rx=\"58.4896\" ry=\"18\"/>\n<text text-anchor=\"middle\" x=\"916.5\" y=\"-275.3\" font-family=\"Times,serif\" font-size=\"14.00\" fill=\"#000000\">ex:kelurahan</text>\n</g>\n<!-- 1&#45;&gt;20 -->\n<g id=\"edge36\" class=\"edge\">\n<title>1&#45;&gt;20</title>\n<path fill=\"none\" stroke=\"#000000\" d=\"M833.8935,-354.1764C859.6318,-347.556 886.9639,-338.8659 896.5,-330 903.1084,-323.8561 907.5655,-315.2613 910.5583,-306.8762\"/>\n<polygon fill=\"#000000\" stroke=\"#000000\" points=\"913.9134,-307.8727 913.4401,-297.2884 907.2097,-305.8577 913.9134,-307.8727\"/>\n<text text-anchor=\"middle\" x=\"929.5\" y=\"-318.8\" font-family=\"Times,serif\" font-size=\"14.00\" fill=\"#000000\">rdf:type</text>\n</g>\n<!-- 24 -->\n<g id=\"node25\" class=\"node\">\n<title>24</title>\n<polygon fill=\"none\" stroke=\"#000000\" points=\"706.5,-297 610.5,-297 610.5,-261 706.5,-261 706.5,-297\"/>\n<text text-anchor=\"middle\" x=\"658.5\" y=\"-275.3\" font-family=\"Times,serif\" font-size=\"14.00\" fill=\"#000000\">&quot;44&quot;^^xsd:int</text>\n</g>\n<!-- 1&#45;&gt;24 -->\n<g id=\"edge15\" class=\"edge\">\n<title>1&#45;&gt;24</title>\n<path fill=\"none\" stroke=\"#000000\" d=\"M738.0145,-351.5959C724.9294,-346.0199 710.9635,-338.8227 699.5,-330 690.7221,-323.2443 682.6833,-314.2368 676.0939,-305.6727\"/>\n<polygon fill=\"#000000\" stroke=\"#000000\" points=\"678.7412,-303.3633 670.0139,-297.3561 673.0902,-307.4945 678.7412,-303.3633\"/>\n<text text-anchor=\"middle\" x=\"738\" y=\"-318.8\" font-family=\"Times,serif\" font-size=\"14.00\" fill=\"#000000\">ex:JumlahRT</text>\n</g>\n<!-- 2 -->\n<g id=\"node3\" class=\"node\">\n<title>2</title>\n<ellipse fill=\"none\" stroke=\"#000000\" cx=\"611.5\" cy=\"-192\" rx=\"67.6881\" ry=\"18\"/>\n<text text-anchor=\"middle\" x=\"611.5\" y=\"-188.3\" font-family=\"Times,serif\" font-size=\"14.00\" fill=\"#000000\">ex:JakartaPusat</text>\n</g>\n<!-- 2&#45;&gt;0 -->\n<g id=\"edge40\" class=\"edge\">\n<title>2&#45;&gt;0</title>\n<path fill=\"none\" stroke=\"#000000\" d=\"M620.1941,-173.6758C626.2033,-162.791 635.1541,-149.4972 646.5,-141 660.7514,-130.3267 678.3158,-122.7291 695.1924,-117.3567\"/>\n<polygon fill=\"#000000\" stroke=\"#000000\" points=\"696.4261,-120.6416 705.0193,-114.4443 694.4369,-113.9302 696.4261,-120.6416\"/>\n<text text-anchor=\"middle\" x=\"669.5\" y=\"-144.8\" font-family=\"Times,serif\" font-size=\"14.00\" fill=\"#000000\">rdf:type</text>\n</g>\n<!-- 5 -->\n<g id=\"node6\" class=\"node\">\n<title>5</title>\n<ellipse fill=\"none\" stroke=\"#000000\" cx=\"902.5\" cy=\"-105\" rx=\"63.8893\" ry=\"18\"/>\n<text text-anchor=\"middle\" x=\"902.5\" y=\"-101.3\" font-family=\"Times,serif\" font-size=\"14.00\" fill=\"#000000\">ex:DKIJakarta</text>\n</g>\n<!-- 2&#45;&gt;5 -->\n<g id=\"edge3\" class=\"edge\">\n<title>2&#45;&gt;5</title>\n<path fill=\"none\" stroke=\"#000000\" d=\"M671.5768,-183.718C699.8459,-178.3043 733.4321,-169.6248 761.5,-156 771.1788,-151.3017 770.9451,-145.9454 780.5,-141 792.1951,-134.9468 819.472,-126.7203 845.2741,-119.6592\"/>\n<polygon fill=\"#000000\" stroke=\"#000000\" points=\"846.314,-123.0038 855.0552,-117.017 844.4885,-116.246 846.314,-123.0038\"/>\n<text text-anchor=\"middle\" x=\"822\" y=\"-144.8\" font-family=\"Times,serif\" font-size=\"14.00\" fill=\"#000000\">ex:berprovinsi</text>\n</g>\n<!-- 21 -->\n<g id=\"node22\" class=\"node\">\n<title>21</title>\n<ellipse fill=\"none\" stroke=\"#000000\" cx=\"605.5\" cy=\"-105\" rx=\"64.189\" ry=\"18\"/>\n<text text-anchor=\"middle\" x=\"605.5\" y=\"-101.3\" font-family=\"Times,serif\" font-size=\"14.00\" fill=\"#000000\">osadm:District</text>\n</g>\n<!-- 2&#45;&gt;21 -->\n<g id=\"edge29\" class=\"edge\">\n<title>2&#45;&gt;21</title>\n<path fill=\"none\" stroke=\"#000000\" d=\"M590.0466,-174.5474C584.9647,-169.1872 580.2314,-162.8702 577.5,-156 574.1018,-147.4527 576.664,-138.533 581.3763,-130.5875\"/>\n<polygon fill=\"#000000\" stroke=\"#000000\" points=\"584.2409,-132.5984 587.1531,-122.4117 578.524,-128.5589 584.2409,-132.5984\"/>\n<text text-anchor=\"middle\" x=\"600.5\" y=\"-144.8\" font-family=\"Times,serif\" font-size=\"14.00\" fill=\"#000000\">rdf:type</text>\n</g>\n<!-- 3 -->\n<g id=\"node4\" class=\"node\">\n<title>3</title>\n<polygon fill=\"none\" stroke=\"#000000\" points=\"332,-297 229,-297 229,-261 332,-261 332,-297\"/>\n<text text-anchor=\"middle\" x=\"280.5\" y=\"-275.3\" font-family=\"Times,serif\" font-size=\"14.00\" fill=\"#000000\">&quot;114&quot;^^xsd:int</text>\n</g>\n<!-- 4 -->\n<g id=\"node5\" class=\"node\">\n<title>4</title>\n<ellipse fill=\"none\" stroke=\"#000000\" cx=\"243.5\" cy=\"-105\" rx=\"84.485\" ry=\"18\"/>\n<text text-anchor=\"middle\" x=\"243.5\" y=\"-101.3\" font-family=\"Times,serif\" font-size=\"14.00\" fill=\"#000000\">dbr:Gambir_Jakarta</text>\n</g>\n<!-- 27 -->\n<g id=\"node28\" class=\"node\">\n<title>27</title>\n<ellipse fill=\"none\" stroke=\"#000000\" cx=\"902.5\" cy=\"-18\" rx=\"52.7911\" ry=\"18\"/>\n<text text-anchor=\"middle\" x=\"902.5\" y=\"-14.3\" font-family=\"Times,serif\" font-size=\"14.00\" fill=\"#000000\">ex:provinsi</text>\n</g>\n<!-- 5&#45;&gt;27 -->\n<g id=\"edge26\" class=\"edge\">\n<title>5&#45;&gt;27</title>\n<path fill=\"none\" stroke=\"#000000\" d=\"M902.5,-86.9735C902.5,-75.1918 902.5,-59.5607 902.5,-46.1581\"/>\n<polygon fill=\"#000000\" stroke=\"#000000\" points=\"906.0001,-46.0033 902.5,-36.0034 899.0001,-46.0034 906.0001,-46.0033\"/>\n<text text-anchor=\"middle\" x=\"925.5\" y=\"-57.8\" font-family=\"Times,serif\" font-size=\"14.00\" fill=\"#000000\">rdf:type</text>\n</g>\n<!-- 6 -->\n<g id=\"node7\" class=\"node\">\n<title>6</title>\n<ellipse fill=\"none\" stroke=\"#000000\" cx=\"1223.5\" cy=\"-192\" rx=\"70.3881\" ry=\"18\"/>\n<text text-anchor=\"middle\" x=\"1223.5\" y=\"-188.3\" font-family=\"Times,serif\" font-size=\"14.00\" fill=\"#000000\">dbr:Penjaringan</text>\n</g>\n<!-- 11 -->\n<g id=\"node12\" class=\"node\">\n<title>11</title>\n<polygon fill=\"none\" stroke=\"#000000\" points=\"1442,-123 1309,-123 1309,-87 1442,-87 1442,-123\"/>\n<text text-anchor=\"middle\" x=\"1375.5\" y=\"-101.3\" font-family=\"Times,serif\" font-size=\"14.00\" fill=\"#000000\">&quot;7118494&quot;^^xsd:int</text>\n</g>\n<!-- 6&#45;&gt;11 -->\n<g id=\"edge22\" class=\"edge\">\n<title>6&#45;&gt;11</title>\n<path fill=\"none\" stroke=\"#000000\" d=\"M1283.1645,-182.2978C1314.6922,-176.0364 1349.1661,-167.009 1360.5,-156 1366.7127,-149.9654 1370.3862,-141.5018 1372.5473,-133.201\"/>\n<polygon fill=\"#000000\" stroke=\"#000000\" points=\"1375.9926,-133.8201 1374.5023,-123.3306 1369.126,-132.46 1375.9926,-133.8201\"/>\n<text text-anchor=\"middle\" x=\"1417\" y=\"-144.8\" font-family=\"Times,serif\" font-size=\"14.00\" fill=\"#000000\">dbo:wikiPageID</text>\n</g>\n<!-- 15 -->\n<g id=\"node16\" class=\"node\">\n<title>15</title>\n<ellipse fill=\"none\" stroke=\"#000000\" cx=\"1560.5\" cy=\"-105\" rx=\"100.1823\" ry=\"18\"/>\n<text text-anchor=\"middle\" x=\"1560.5\" y=\"-101.3\" font-family=\"Times,serif\" font-size=\"14.00\" fill=\"#000000\">dbc:Districts_of_Jakarta</text>\n</g>\n<!-- 6&#45;&gt;15 -->\n<g id=\"edge2\" class=\"edge\">\n<title>6&#45;&gt;15</title>\n<path fill=\"none\" stroke=\"#000000\" d=\"M1292.3721,-188.5085C1342.3415,-184.3961 1410.9736,-175.4497 1468.5,-156 1488.4979,-149.2387 1509.1937,-138.1852 1525.8799,-128.0941\"/>\n<polygon fill=\"#000000\" stroke=\"#000000\" points=\"1528.0533,-130.8648 1534.7076,-122.6204 1524.3644,-124.9156 1528.0533,-130.8648\"/>\n<text text-anchor=\"middle\" x=\"1570.5\" y=\"-144.8\" font-family=\"Times,serif\" font-size=\"14.00\" fill=\"#000000\">dbo:wikiPageWikiLink</text>\n</g>\n<!-- 29 -->\n<g id=\"node30\" class=\"node\">\n<title>29</title>\n<ellipse fill=\"none\" stroke=\"#000000\" cx=\"1064.5\" cy=\"-105\" rx=\"77.9862\" ry=\"18\"/>\n<text text-anchor=\"middle\" x=\"1064.5\" y=\"-101.3\" font-family=\"Times,serif\" font-size=\"14.00\" fill=\"#000000\">dbr:North_Jakarta</text>\n</g>\n<!-- 6&#45;&gt;29 -->\n<g id=\"edge38\" class=\"edge\">\n<title>6&#45;&gt;29</title>\n<path fill=\"none\" stroke=\"#000000\" d=\"M1163.9514,-182.3535C1131.5366,-176.0269 1095.6238,-166.914 1083.5,-156 1076.9099,-150.0675 1072.5982,-141.6312 1069.78,-133.3238\"/>\n<polygon fill=\"#000000\" stroke=\"#000000\" points=\"1073.0807,-132.1291 1067.0304,-123.4317 1066.3364,-134.0038 1073.0807,-132.1291\"/>\n<text text-anchor=\"middle\" x=\"1151.5\" y=\"-144.8\" font-family=\"Times,serif\" font-size=\"14.00\" fill=\"#000000\">dbo:wikiPageWikiLink</text>\n</g>\n<!-- 32 -->\n<g id=\"node33\" class=\"node\">\n<title>32</title>\n<ellipse fill=\"none\" stroke=\"#000000\" cx=\"1223.5\" cy=\"-105\" rx=\"61.99\" ry=\"18\"/>\n<text text-anchor=\"middle\" x=\"1223.5\" y=\"-101.3\" font-family=\"Times,serif\" font-size=\"14.00\" fill=\"#000000\">dbr:Indonesia</text>\n</g>\n<!-- 6&#45;&gt;32 -->\n<g id=\"edge35\" class=\"edge\">\n<title>6&#45;&gt;32</title>\n<path fill=\"none\" stroke=\"#000000\" d=\"M1223.5,-173.9735C1223.5,-162.1918 1223.5,-146.5607 1223.5,-133.1581\"/>\n<polygon fill=\"#000000\" stroke=\"#000000\" points=\"1227.0001,-133.0033 1223.5,-123.0034 1220.0001,-133.0034 1227.0001,-133.0033\"/>\n<text text-anchor=\"middle\" x=\"1291.5\" y=\"-144.8\" font-family=\"Times,serif\" font-size=\"14.00\" fill=\"#000000\">dbo:wikiPageWikiLink</text>\n</g>\n<!-- 7 -->\n<g id=\"node8\" class=\"node\">\n<title>7</title>\n<ellipse fill=\"none\" stroke=\"#000000\" cx=\"400.5\" cy=\"-279\" rx=\"50.0912\" ry=\"18\"/>\n<text text-anchor=\"middle\" x=\"400.5\" y=\"-275.3\" font-family=\"Times,serif\" font-size=\"14.00\" fill=\"#000000\">ex:Gambir</text>\n</g>\n<!-- 7&#45;&gt;2 -->\n<g id=\"edge37\" class=\"edge\">\n<title>7&#45;&gt;2</title>\n<path fill=\"none\" stroke=\"#000000\" d=\"M433.4688,-265.4063C468.8042,-250.8367 525.1796,-227.5918 565.011,-211.1684\"/>\n<polygon fill=\"#000000\" stroke=\"#000000\" points=\"566.5944,-214.3015 574.5052,-207.2538 563.926,-207.83 566.5944,-214.3015\"/>\n<text text-anchor=\"middle\" x=\"559.5\" y=\"-231.8\" font-family=\"Times,serif\" font-size=\"14.00\" fill=\"#000000\">osadm:district</text>\n</g>\n<!-- 14 -->\n<g id=\"node15\" class=\"node\">\n<title>14</title>\n<ellipse fill=\"none\" stroke=\"#000000\" cx=\"325.5\" cy=\"-192\" rx=\"53.8905\" ry=\"18\"/>\n<text text-anchor=\"middle\" x=\"325.5\" y=\"-188.3\" font-family=\"Times,serif\" font-size=\"14.00\" fill=\"#000000\">dbr:Gambir</text>\n</g>\n<!-- 7&#45;&gt;14 -->\n<g id=\"edge19\" class=\"edge\">\n<title>7&#45;&gt;14</title>\n<path fill=\"none\" stroke=\"#000000\" d=\"M372.2417,-264.0362C363.4568,-258.3512 354.3029,-251.2309 347.5,-243 341.9097,-236.2362 337.5139,-227.8368 334.1697,-219.8192\"/>\n<polygon fill=\"#000000\" stroke=\"#000000\" points=\"337.4073,-218.4853 330.6025,-210.3646 330.8579,-220.9563 337.4073,-218.4853\"/>\n<text text-anchor=\"middle\" x=\"393\" y=\"-231.8\" font-family=\"Times,serif\" font-size=\"14.00\" fill=\"#000000\">foaf:based_near</text>\n</g>\n<!-- 22 -->\n<g id=\"node23\" class=\"node\">\n<title>22</title>\n<ellipse fill=\"none\" stroke=\"#000000\" cx=\"811.5\" cy=\"-192\" rx=\"61.1893\" ry=\"18\"/>\n<text text-anchor=\"middle\" x=\"811.5\" y=\"-188.3\" font-family=\"Times,serif\" font-size=\"14.00\" fill=\"#000000\">ex:kecamatan</text>\n</g>\n<!-- 7&#45;&gt;22 -->\n<g id=\"edge6\" class=\"edge\">\n<title>7&#45;&gt;22</title>\n<path fill=\"none\" stroke=\"#000000\" d=\"M437.384,-266.6865C444.6562,-264.5605 452.2734,-262.5421 459.5,-261 522.5779,-247.5399 540.0719,-254.6994 603.5,-243 656.3064,-233.2598 715.7302,-218.278 757.4987,-207.0686\"/>\n<polygon fill=\"#000000\" stroke=\"#000000\" points=\"758.4504,-210.4371 767.1914,-204.4501 756.6247,-203.6794 758.4504,-210.4371\"/>\n<text text-anchor=\"middle\" x=\"695.5\" y=\"-231.8\" font-family=\"Times,serif\" font-size=\"14.00\" fill=\"#000000\">rdf:type</text>\n</g>\n<!-- 9 -->\n<g id=\"node10\" class=\"node\">\n<title>9</title>\n<ellipse fill=\"none\" stroke=\"#000000\" cx=\"433.5\" cy=\"-105\" rx=\"87.1846\" ry=\"18\"/>\n<text text-anchor=\"middle\" x=\"433.5\" y=\"-101.3\" font-family=\"Times,serif\" font-size=\"14.00\" fill=\"#000000\">dbr:Gambir_Gambir</text>\n</g>\n<!-- 10 -->\n<g id=\"node11\" class=\"node\">\n<title>10</title>\n<ellipse fill=\"none\" stroke=\"#000000\" cx=\"1745.5\" cy=\"-192\" rx=\"44.393\" ry=\"18\"/>\n<text text-anchor=\"middle\" x=\"1745.5\" y=\"-188.3\" font-family=\"Times,serif\" font-size=\"14.00\" fill=\"#000000\">dbr:Koja</text>\n</g>\n<!-- 16 -->\n<g id=\"node17\" class=\"node\">\n<title>16</title>\n<ellipse fill=\"none\" stroke=\"#000000\" cx=\"1904.5\" cy=\"-105\" rx=\"74.187\" ry=\"18\"/>\n<text text-anchor=\"middle\" x=\"1904.5\" y=\"-101.3\" font-family=\"Times,serif\" font-size=\"14.00\" fill=\"#000000\">dbr:Koja_Jakarta</text>\n</g>\n<!-- 10&#45;&gt;16 -->\n<g id=\"edge12\" class=\"edge\">\n<title>10&#45;&gt;16</title>\n<path fill=\"none\" stroke=\"#000000\" d=\"M1782.6232,-181.9533C1801.8229,-175.9163 1825.2111,-167.2146 1844.5,-156 1857.0261,-148.7173 1869.4644,-138.7234 1879.7407,-129.5115\"/>\n<polygon fill=\"#000000\" stroke=\"#000000\" points=\"1882.1698,-132.0324 1887.1432,-122.6773 1877.4215,-126.8891 1882.1698,-132.0324\"/>\n<text text-anchor=\"middle\" x=\"1933.5\" y=\"-144.8\" font-family=\"Times,serif\" font-size=\"14.00\" fill=\"#000000\">dbo:wikiPageWikiLink</text>\n</g>\n<!-- 31 -->\n<g id=\"node32\" class=\"node\">\n<title>31</title>\n<polygon fill=\"none\" stroke=\"#000000\" points=\"1812,-123 1679,-123 1679,-87 1812,-87 1812,-123\"/>\n<text text-anchor=\"middle\" x=\"1745.5\" y=\"-101.3\" font-family=\"Times,serif\" font-size=\"14.00\" fill=\"#000000\">&quot;7118438&quot;^^xsd:int</text>\n</g>\n<!-- 10&#45;&gt;31 -->\n<g id=\"edge30\" class=\"edge\">\n<title>10&#45;&gt;31</title>\n<path fill=\"none\" stroke=\"#000000\" d=\"M1745.5,-173.9735C1745.5,-162.1918 1745.5,-146.5607 1745.5,-133.1581\"/>\n<polygon fill=\"#000000\" stroke=\"#000000\" points=\"1749.0001,-133.0033 1745.5,-123.0034 1742.0001,-133.0034 1749.0001,-133.0033\"/>\n<text text-anchor=\"middle\" x=\"1793\" y=\"-144.8\" font-family=\"Times,serif\" font-size=\"14.00\" fill=\"#000000\">dbo:wikiPageID</text>\n</g>\n<!-- 12&#45;&gt;6 -->\n<g id=\"edge31\" class=\"edge\">\n<title>12&#45;&gt;6</title>\n<path fill=\"none\" stroke=\"#000000\" d=\"M1082.1539,-262.0429C1099.3212,-249.3675 1121.5906,-233.3448 1131.5,-228 1143.8903,-221.3171 1157.7927,-215.2189 1170.9639,-210.0174\"/>\n<polygon fill=\"#000000\" stroke=\"#000000\" points=\"1172.3149,-213.2478 1180.3933,-206.3928 1169.8033,-206.7139 1172.3149,-213.2478\"/>\n<text text-anchor=\"middle\" x=\"1177\" y=\"-231.8\" font-family=\"Times,serif\" font-size=\"14.00\" fill=\"#000000\">foaf:based_near</text>\n</g>\n<!-- 19 -->\n<g id=\"node20\" class=\"node\">\n<title>19</title>\n<ellipse fill=\"none\" stroke=\"#000000\" cx=\"958.5\" cy=\"-192\" rx=\"67.6881\" ry=\"18\"/>\n<text text-anchor=\"middle\" x=\"958.5\" y=\"-188.3\" font-family=\"Times,serif\" font-size=\"14.00\" fill=\"#000000\">ex:JakartaUtara</text>\n</g>\n<!-- 12&#45;&gt;19 -->\n<g id=\"edge14\" class=\"edge\">\n<title>12&#45;&gt;19</title>\n<path fill=\"none\" stroke=\"#000000\" d=\"M1010.2835,-266.9305C988.3306,-260.4673 965.9545,-251.9949 959.5,-243 954.8331,-236.4963 953.3372,-228.2271 953.3548,-220.25\"/>\n<polygon fill=\"#000000\" stroke=\"#000000\" points=\"956.8579,-220.337 954.1104,-210.1047 949.8773,-219.8171 956.8579,-220.337\"/>\n<text text-anchor=\"middle\" x=\"999.5\" y=\"-231.8\" font-family=\"Times,serif\" font-size=\"14.00\" fill=\"#000000\">osadm:district</text>\n</g>\n<!-- 12&#45;&gt;22 -->\n<g id=\"edge21\" class=\"edge\">\n<title>12&#45;&gt;22</title>\n<path fill=\"none\" stroke=\"#000000\" d=\"M1009.6437,-267.1073C1000.9333,-265.0538 991.9556,-262.9525 983.5,-261 947.99,-252.8003 937.5599,-255.9661 903.5,-243 883.4832,-235.3799 862.4978,-224.0378 845.6324,-213.9833\"/>\n<polygon fill=\"#000000\" stroke=\"#000000\" points=\"847.0815,-210.7681 836.7189,-208.5617 843.4438,-216.7487 847.0815,-210.7681\"/>\n<text text-anchor=\"middle\" x=\"926.5\" y=\"-231.8\" font-family=\"Times,serif\" font-size=\"14.00\" fill=\"#000000\">rdf:type</text>\n</g>\n<!-- 13 -->\n<g id=\"node14\" class=\"node\">\n<title>13</title>\n<polygon fill=\"none\" stroke=\"#000000\" points=\"1411.5,-297 1315.5,-297 1315.5,-261 1411.5,-261 1411.5,-297\"/>\n<text text-anchor=\"middle\" x=\"1363.5\" y=\"-275.3\" font-family=\"Times,serif\" font-size=\"14.00\" fill=\"#000000\">&quot;19&quot;^^xsd:int</text>\n</g>\n<!-- 14&#45;&gt;4 -->\n<g id=\"edge8\" class=\"edge\">\n<title>14&#45;&gt;4</title>\n<path fill=\"none\" stroke=\"#000000\" d=\"M289.3604,-178.5617C278.4891,-173.0086 267.3709,-165.581 259.5,-156 254.1157,-149.4459 250.5365,-141.0702 248.1599,-133.0093\"/>\n<polygon fill=\"#000000\" stroke=\"#000000\" points=\"251.5194,-132.0125 245.7473,-123.1281 244.7192,-133.6729 251.5194,-132.0125\"/>\n<text text-anchor=\"middle\" x=\"327.5\" y=\"-144.8\" font-family=\"Times,serif\" font-size=\"14.00\" fill=\"#000000\">dbo:wikiPageWikiLink</text>\n</g>\n<!-- 14&#45;&gt;9 -->\n<g id=\"edge34\" class=\"edge\">\n<title>14&#45;&gt;9</title>\n<path fill=\"none\" stroke=\"#000000\" d=\"M360.1841,-178.0271C372.1096,-172.2574 385.0719,-164.8322 395.5,-156 403.7151,-149.0421 411.1847,-139.9865 417.2849,-131.4402\"/>\n<polygon fill=\"#000000\" stroke=\"#000000\" points=\"420.1849,-133.3998 422.9057,-123.1603 414.3933,-129.4682 420.1849,-133.3998\"/>\n<text text-anchor=\"middle\" x=\"477.5\" y=\"-144.8\" font-family=\"Times,serif\" font-size=\"14.00\" fill=\"#000000\">dbo:wikiPageWikiLink</text>\n</g>\n<!-- 23 -->\n<g id=\"node24\" class=\"node\">\n<title>23</title>\n<polygon fill=\"none\" stroke=\"#000000\" points=\"141,-123 0,-123 0,-87 141,-87 141,-123\"/>\n<text text-anchor=\"middle\" x=\"70.5\" y=\"-101.3\" font-family=\"Times,serif\" font-size=\"14.00\" fill=\"#000000\">&quot;10829289&quot;^^xsd:int</text>\n</g>\n<!-- 14&#45;&gt;23 -->\n<g id=\"edge27\" class=\"edge\">\n<title>14&#45;&gt;23</title>\n<path fill=\"none\" stroke=\"#000000\" d=\"M274.1677,-186.1338C239.0046,-180.966 191.8034,-171.734 152.5,-156 135.2287,-149.0859 117.523,-138.5832 103.0048,-128.9021\"/>\n<polygon fill=\"#000000\" stroke=\"#000000\" points=\"104.6387,-125.7791 94.4094,-123.0198 100.6853,-131.5559 104.6387,-125.7791\"/>\n<text text-anchor=\"middle\" x=\"200\" y=\"-144.8\" font-family=\"Times,serif\" font-size=\"14.00\" fill=\"#000000\">dbo:wikiPageID</text>\n</g>\n<!-- 17 -->\n<g id=\"node18\" class=\"node\">\n<title>17</title>\n<ellipse fill=\"none\" stroke=\"#000000\" cx=\"1244.5\" cy=\"-279\" rx=\"40.0939\" ry=\"18\"/>\n<text text-anchor=\"middle\" x=\"1244.5\" y=\"-275.3\" font-family=\"Times,serif\" font-size=\"14.00\" fill=\"#000000\">ex:Koja</text>\n</g>\n<!-- 17&#45;&gt;10 -->\n<g id=\"edge1\" class=\"edge\">\n<title>17&#45;&gt;10</title>\n<path fill=\"none\" stroke=\"#000000\" d=\"M1277.4413,-268.5963C1286.7728,-265.8788 1296.9821,-263.1207 1306.5,-261 1444.4321,-230.2676 1609.7224,-208.1897 1692.6103,-198.1146\"/>\n<polygon fill=\"#000000\" stroke=\"#000000\" points=\"1693.2756,-201.5598 1702.7848,-196.888 1692.4377,-194.6102 1693.2756,-201.5598\"/>\n<text text-anchor=\"middle\" x=\"1519\" y=\"-231.8\" font-family=\"Times,serif\" font-size=\"14.00\" fill=\"#000000\">foaf:based_near</text>\n</g>\n<!-- 17&#45;&gt;19 -->\n<g id=\"edge17\" class=\"edge\">\n<title>17&#45;&gt;19</title>\n<path fill=\"none\" stroke=\"#000000\" d=\"M1241.3495,-260.8666C1238.418,-249.6255 1232.867,-235.8734 1222.5,-228 1207.5912,-216.6772 1105.9679,-205.2788 1033.2625,-198.4282\"/>\n<polygon fill=\"#000000\" stroke=\"#000000\" points=\"1033.4888,-194.9342 1023.2074,-197.4922 1032.84,-201.9041 1033.4888,-194.9342\"/>\n<text text-anchor=\"middle\" x=\"1274.5\" y=\"-231.8\" font-family=\"Times,serif\" font-size=\"14.00\" fill=\"#000000\">osadm:district</text>\n</g>\n<!-- 17&#45;&gt;22 -->\n<g id=\"edge39\" class=\"edge\">\n<title>17&#45;&gt;22</title>\n<path fill=\"none\" stroke=\"#000000\" d=\"M1206.7258,-272.5829C1156.5768,-263.9204 1072.7705,-248.892 1059.5,-243 1049.3448,-238.4912 1049.8248,-232.1055 1039.5,-228 973.8252,-201.8852 951.0019,-222.8313 881.5,-210 876.462,-209.0699 871.2504,-207.9786 866.0489,-206.8012\"/>\n<polygon fill=\"#000000\" stroke=\"#000000\" points=\"866.6436,-203.3454 856.1066,-204.4507 865.033,-210.1576 866.6436,-203.3454\"/>\n<text text-anchor=\"middle\" x=\"1082.5\" y=\"-231.8\" font-family=\"Times,serif\" font-size=\"14.00\" fill=\"#000000\">rdf:type</text>\n</g>\n<!-- 19&#45;&gt;0 -->\n<g id=\"edge9\" class=\"edge\">\n<title>19&#45;&gt;0</title>\n<path fill=\"none\" stroke=\"#000000\" d=\"M923.652,-176.3588C911.5918,-170.4839 898.1783,-163.4192 886.5,-156 877.4188,-150.2307 876.9881,-146.0725 867.5,-141 850.6919,-132.0141 831.2469,-124.7709 813.373,-119.2031\"/>\n<polygon fill=\"#000000\" stroke=\"#000000\" points=\"814.2153,-115.8018 803.6314,-116.2818 812.2046,-122.5068 814.2153,-115.8018\"/>\n<text text-anchor=\"middle\" x=\"909.5\" y=\"-144.8\" font-family=\"Times,serif\" font-size=\"14.00\" fill=\"#000000\">rdf:type</text>\n</g>\n<!-- 19&#45;&gt;5 -->\n<g id=\"edge11\" class=\"edge\">\n<title>19&#45;&gt;5</title>\n<path fill=\"none\" stroke=\"#000000\" d=\"M952.4094,-173.7542C948.6131,-163.6626 943.1793,-151.1494 936.5,-141 933.9864,-137.1805 931.0496,-133.3941 927.974,-129.792\"/>\n<polygon fill=\"#000000\" stroke=\"#000000\" points=\"930.4449,-127.3067 921.1297,-122.2593 925.2641,-132.0141 930.4449,-127.3067\"/>\n<text text-anchor=\"middle\" x=\"986\" y=\"-144.8\" font-family=\"Times,serif\" font-size=\"14.00\" fill=\"#000000\">ex:berprovinsi</text>\n</g>\n<!-- 19&#45;&gt;21 -->\n<g id=\"edge24\" class=\"edge\">\n<title>19&#45;&gt;21</title>\n<path fill=\"none\" stroke=\"#000000\" d=\"M909.3918,-179.5619C900.1655,-177.4981 890.5692,-175.5341 881.5,-174 806.5863,-161.3282 781.8622,-184.6672 711.5,-156 701.5364,-151.9406 701.7811,-146.4419 692.5,-141 680.9261,-134.2138 667.8306,-128.0785 655.3789,-122.8743\"/>\n<polygon fill=\"#000000\" stroke=\"#000000\" points=\"656.6009,-119.5931 646.0184,-119.0808 653.9717,-126.0806 656.6009,-119.5931\"/>\n<text text-anchor=\"middle\" x=\"734.5\" y=\"-144.8\" font-family=\"Times,serif\" font-size=\"14.00\" fill=\"#000000\">rdf:type</text>\n</g>\n<!-- 25 -->\n<g id=\"node26\" class=\"node\">\n<title>25</title>\n<polygon fill=\"none\" stroke=\"#000000\" points=\"1533.5,-297 1429.5,-297 1429.5,-261 1533.5,-261 1533.5,-297\"/>\n<text text-anchor=\"middle\" x=\"1481.5\" y=\"-275.3\" font-family=\"Times,serif\" font-size=\"14.00\" fill=\"#000000\">&quot;214&quot;^^xsd:int</text>\n</g>\n<!-- 26 -->\n<g id=\"node27\" class=\"node\">\n<title>26</title>\n<ellipse fill=\"none\" stroke=\"#000000\" cx=\"387.5\" cy=\"-366\" rx=\"49.2915\" ry=\"18\"/>\n<text text-anchor=\"middle\" x=\"387.5\" y=\"-362.3\" font-family=\"Times,serif\" font-size=\"14.00\" fill=\"#000000\">ex:Cideng</text>\n</g>\n<!-- 26&#45;&gt;3 -->\n<g id=\"edge25\" class=\"edge\">\n<title>26&#45;&gt;3</title>\n<path fill=\"none\" stroke=\"#000000\" d=\"M348.4401,-354.8045C333.9591,-349.1714 318.2257,-341.1175 306.5,-330 299.7612,-323.6108 294.478,-315.0914 290.4855,-306.8481\"/>\n<polygon fill=\"#000000\" stroke=\"#000000\" points=\"293.5886,-305.208 286.3816,-297.4421 287.1727,-308.0074 293.5886,-305.208\"/>\n<text text-anchor=\"middle\" x=\"345\" y=\"-318.8\" font-family=\"Times,serif\" font-size=\"14.00\" fill=\"#000000\">ex:JumlahRT</text>\n</g>\n<!-- 26&#45;&gt;7 -->\n<g id=\"edge16\" class=\"edge\">\n<title>26&#45;&gt;7</title>\n<path fill=\"none\" stroke=\"#000000\" d=\"M386.5358,-347.9366C386.3419,-338.1255 386.6348,-325.8217 388.5,-315 388.9665,-312.2935 389.5992,-309.5138 390.3318,-306.7566\"/>\n<polygon fill=\"#000000\" stroke=\"#000000\" points=\"393.7258,-307.626 393.303,-297.0396 387.0318,-305.5791 393.7258,-307.626\"/>\n<text text-anchor=\"middle\" x=\"436.5\" y=\"-318.8\" font-family=\"Times,serif\" font-size=\"14.00\" fill=\"#000000\">ex:berkecamatan</text>\n</g>\n<!-- 26&#45;&gt;8 -->\n<g id=\"edge4\" class=\"edge\">\n<title>26&#45;&gt;8</title>\n<path fill=\"none\" stroke=\"#000000\" d=\"M434.062,-359.7588C475.2845,-353.7471 536.8984,-343.5693 589.5,-330 609.5058,-324.8392 613.6007,-320.557 633.5,-315 669.4372,-304.9643 679.2508,-305.8428 715.5,-297 719.8971,-295.9273 724.447,-294.7817 729.01,-293.6077\"/>\n<polygon fill=\"#000000\" stroke=\"#000000\" points=\"730.1741,-296.9213 738.9662,-291.0095 728.4064,-290.1481 730.1741,-296.9213\"/>\n<text text-anchor=\"middle\" x=\"656.5\" y=\"-318.8\" font-family=\"Times,serif\" font-size=\"14.00\" fill=\"#000000\">rdf:type</text>\n</g>\n<!-- 26&#45;&gt;20 -->\n<g id=\"edge20\" class=\"edge\">\n<title>26&#45;&gt;20</title>\n<path fill=\"none\" stroke=\"#000000\" d=\"M436.7355,-363.5799C543.9652,-358.0778 791.8851,-344.0175 827.5,-330 837.5113,-326.0597 837.4517,-320.8208 846.5,-315 855.4708,-309.2291 865.4788,-303.6305 875.0574,-298.6358\"/>\n<polygon fill=\"#000000\" stroke=\"#000000\" points=\"876.7418,-301.7057 884.0616,-294.046 873.5628,-295.4692 876.7418,-301.7057\"/>\n<text text-anchor=\"middle\" x=\"869.5\" y=\"-318.8\" font-family=\"Times,serif\" font-size=\"14.00\" fill=\"#000000\">rdf:type</text>\n</g>\n<!-- 28 -->\n<g id=\"node29\" class=\"node\">\n<title>28</title>\n<polygon fill=\"none\" stroke=\"#000000\" points=\"210.5,-297 114.5,-297 114.5,-261 210.5,-261 210.5,-297\"/>\n<text text-anchor=\"middle\" x=\"162.5\" y=\"-275.3\" font-family=\"Times,serif\" font-size=\"14.00\" fill=\"#000000\">&quot;10&quot;^^xsd:int</text>\n</g>\n<!-- 26&#45;&gt;28 -->\n<g id=\"edge23\" class=\"edge\">\n<title>26&#45;&gt;28</title>\n<path fill=\"none\" stroke=\"#000000\" d=\"M340.8722,-359.8913C295.9151,-353.4133 231.5462,-342.4151 209.5,-330 198.5454,-323.8311 188.7081,-314.2102 180.8991,-304.9795\"/>\n<polygon fill=\"#000000\" stroke=\"#000000\" points=\"183.5554,-302.6969 174.5816,-297.0647 178.0845,-307.0637 183.5554,-302.6969\"/>\n<text text-anchor=\"middle\" x=\"250.5\" y=\"-318.8\" font-family=\"Times,serif\" font-size=\"14.00\" fill=\"#000000\">ex:JumlahRW</text>\n</g>\n<!-- 30 -->\n<g id=\"node31\" class=\"node\">\n<title>30</title>\n<ellipse fill=\"none\" stroke=\"#000000\" cx=\"1244.5\" cy=\"-366\" rx=\"61.99\" ry=\"18\"/>\n<text text-anchor=\"middle\" x=\"1244.5\" y=\"-362.3\" font-family=\"Times,serif\" font-size=\"14.00\" fill=\"#000000\">ex:TuguUtara</text>\n</g>\n<!-- 30&#45;&gt;8 -->\n<g id=\"edge10\" class=\"edge\">\n<title>30&#45;&gt;8</title>\n<path fill=\"none\" stroke=\"#000000\" d=\"M1185.7768,-360.3029C1120.8984,-353.5794 1020.7902,-341.813 984.5,-330 971.0756,-325.6302 969.8594,-319.5645 956.5,-315 910.8664,-299.4083 896.618,-307.2678 849.5,-297 844.8185,-295.9798 839.974,-294.842 835.1303,-293.6478\"/>\n<polygon fill=\"#000000\" stroke=\"#000000\" points=\"835.7953,-290.2057 825.2415,-291.137 834.0725,-296.9904 835.7953,-290.2057\"/>\n<text text-anchor=\"middle\" x=\"1007.5\" y=\"-318.8\" font-family=\"Times,serif\" font-size=\"14.00\" fill=\"#000000\">rdf:type</text>\n</g>\n<!-- 30&#45;&gt;13 -->\n<g id=\"edge13\" class=\"edge\">\n<title>30&#45;&gt;13</title>\n<path fill=\"none\" stroke=\"#000000\" d=\"M1295.1499,-355.6385C1311.5269,-350.2368 1328.7338,-342.1205 1341.5,-330 1348.1347,-323.7009 1352.8733,-315.066 1356.21,-306.6918\"/>\n<polygon fill=\"#000000\" stroke=\"#000000\" points=\"1359.5539,-307.7312 1359.5127,-297.1365 1352.9379,-305.4445 1359.5539,-307.7312\"/>\n<text text-anchor=\"middle\" x=\"1392.5\" y=\"-318.8\" font-family=\"Times,serif\" font-size=\"14.00\" fill=\"#000000\">ex:JumlahRW</text>\n</g>\n<!-- 30&#45;&gt;17 -->\n<g id=\"edge32\" class=\"edge\">\n<title>30&#45;&gt;17</title>\n<path fill=\"none\" stroke=\"#000000\" d=\"M1244.5,-347.9735C1244.5,-336.1918 1244.5,-320.5607 1244.5,-307.1581\"/>\n<polygon fill=\"#000000\" stroke=\"#000000\" points=\"1248.0001,-307.0033 1244.5,-297.0034 1241.0001,-307.0034 1248.0001,-307.0033\"/>\n<text text-anchor=\"middle\" x=\"1292.5\" y=\"-318.8\" font-family=\"Times,serif\" font-size=\"14.00\" fill=\"#000000\">ex:berkecamatan</text>\n</g>\n<!-- 30&#45;&gt;20 -->\n<g id=\"edge33\" class=\"edge\">\n<title>30&#45;&gt;20</title>\n<path fill=\"none\" stroke=\"#000000\" d=\"M1219.0086,-349.3815C1199.8595,-337.7497 1172.557,-322.9249 1146.5,-315 1077.1915,-293.9207 1055.7107,-310.3053 984.5,-297 979.5257,-296.0706 974.3801,-294.9704 969.2489,-293.7792\"/>\n<polygon fill=\"#000000\" stroke=\"#000000\" points=\"969.992,-290.3579 959.4482,-291.397 968.3386,-297.1599 969.992,-290.3579\"/>\n<text text-anchor=\"middle\" x=\"1205.5\" y=\"-318.8\" font-family=\"Times,serif\" font-size=\"14.00\" fill=\"#000000\">rdf:type</text>\n</g>\n<!-- 30&#45;&gt;25 -->\n<g id=\"edge18\" class=\"edge\">\n<title>30&#45;&gt;25</title>\n<path fill=\"none\" stroke=\"#000000\" d=\"M1302.1093,-359.5169C1350.3706,-353.3151 1414.8935,-342.9941 1437.5,-330 1447.9791,-323.9767 1457.1689,-314.5036 1464.4023,-305.3482\"/>\n<polygon fill=\"#000000\" stroke=\"#000000\" points=\"1467.3427,-307.2585 1470.476,-297.1376 1461.7151,-303.0955 1467.3427,-307.2585\"/>\n<text text-anchor=\"middle\" x=\"1494\" y=\"-318.8\" font-family=\"Times,serif\" font-size=\"14.00\" fill=\"#000000\">ex:JumlahRT</text>\n</g>\n</g>\n</svg>\n"
          },
          "metadata": {}
        }
      ]
    },
    {
      "cell_type": "markdown",
      "metadata": {
        "id": "mYVSLWksB1yT"
      },
      "source": [
        "##Daftar Pustaka:\n",
        "\n",
        "1.   Rakhmawati, N. A. (2015). Semantic Web dan Linked Data. Yogyakarta, Indonesia: SiBuku.\n",
        "2. Titanio Meiga Batry. (2021). Titanzr/rdfTitan: TitanioTugasWeb v1.0.1 (v1.0.1). Zenodo. https://doi.org/10.5281/zenodo.5521429\n",
        "3. Nanda Khibran, Titanio Meiga Batry, and Nur Aini Rakhmawati. \"TugasVocab - TekWeb\" http://dx.doi.org/10.13140/RG.2.2.13420.49283\n",
        "4. Holger Knublauch and Dimitris Kontokostas. Shapes constraint language (SHACL). W3C Working Draft, https://www.w3.org/TR/2017/WD-shacl-20170202\n",
        "5. Titanio Meiga Batry. (2021). Titanzr/SHACL_Titan: Validasi Vocabulary Untuk Dataset Jumlah RT/RW Perkelurahan DKI Jakarta 2013 (v1.0.1). Zenodo. https://doi.org/10.5281/zenodo.5536915\n",
        "6. https://data.jakarta.go.id/dataset/jumlahrtrwperkelurahandkijakarta\n",
        "\n",
        "\n",
        "\n",
        "\n",
        "\n",
        "\n",
        "\n"
      ]
    }
  ]
}