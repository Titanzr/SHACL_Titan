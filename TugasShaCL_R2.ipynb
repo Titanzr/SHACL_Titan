{
  "nbformat": 4,
  "nbformat_minor": 0,
  "metadata": {
    "colab": {
      "name": "TugasShaCL.R2",
      "provenance": [],
      "collapsed_sections": []
    },
    "kernelspec": {
      "name": "python3",
      "display_name": "Python 3"
    }
  },
  "cells": [
    {
      "cell_type": "markdown",
      "metadata": {
        "id": "pIOrhHVm9_t5"
      },
      "source": [
        "# Validasi Vocabulary Untuk Dataset Jumlah RT/RW Perkelurahan DKI Jakarta 2013\n",
        "## Kontributor: Titanio Meiga Batry, Nanda Khibran, Nur Aini Rakhmawati\n",
        "## email kontributor: titaniokuliah@gmail.com, anandakp720@gmail.com, nur.aini@is.its.ac.id\n",
        "## Departemen Sistem Informasi, Institut Teknologi Sepuluh Nopember\n",
        "Abstrak:\n",
        "\n",
        "*Shape Constraint Language (SHACL) adalah spesifikasi World Wide Web Consortium (W3C) untuk memvalidasi data berbasis grafik dalam berbagai kondisi. SHACL mencakup fungsionalitas untuk mengekspresikan kondisi yang membatasi jumlah nilai yang dapat dimiliki atribut, jenis nilai, rentang numerik, pola pencocokan string, dan kombinasi logis dari batasan ini. SHACL juga menyertakan mekanisme ekstensi untuk mengekspresikan kondisi yang lebih kompleks dalam bahasa seperti SPARQL. Pada kesempatan kali ini kami akan membuat model data SHACL berupa data graph dengan mereferensi pada grafik RDF yang telah dibuat sebelumnya.*"
      ]
    },
    {
      "cell_type": "markdown",
      "metadata": {
        "id": "jP3LhyBD_8J_"
      },
      "source": [
        "## Vocabulary\n",
        "\n",
        "Vocabulary ini terdiri atas 4 class dan 5 properti. Vocabulary ini dapat diakses pada [3] dan dataset dapat diakses di [2]\n"
      ]
    },
    {
      "cell_type": "code",
      "metadata": {
        "id": "Las3brn1tLE6",
        "colab": {
          "base_uri": "https://localhost:8080/",
          "height": 178
        },
        "outputId": "d36189ef-dc99-469e-b2bb-4c32ab446b75"
      },
      "source": [
        "import pandas as pd\n",
        "\n",
        "!python -m pip install --no-input jupyter-rdfify --quiet\n",
        "%reload_ext jupyter-rdfify\n",
        "\n",
        "pd.read_csv('https://raw.githubusercontent.com/Titanzr/rdfTitan/main/datatest.csv')\n",
        "#tampilkan turtle vocabulary"
      ],
      "execution_count": 22,
      "outputs": [
        {
          "output_type": "stream",
          "name": "stdout",
          "text": [
            "\u001b[31mERROR: pip's dependency resolver does not currently take into account all the packages that are installed. This behaviour is the source of the following dependency conflicts.\n",
            "pyshacl 0.17.0.post2 requires rdflib<7,>=6.0.0, but you have rdflib 5.0.0 which is incompatible.\u001b[0m\n"
          ]
        },
        {
          "output_type": "display_data",
          "data": {
            "application/javascript": [
              "\n",
              "    if (typeof IPython !== \"undefined\") {\n",
              "        IPython.CodeCell.options_default.highlight_modes['application/sparql-query'] = {'reg':[/^%%rdf sparql/]};\n",
              "        IPython.CodeCell.options_default.highlight_modes['text/turtle'] = {'reg':[/^%%rdf turtle/, /^%%rdf shex/]};\n",
              "        IPython.CodeCell.options_default.highlight_modes['application/ld+json'] = {'reg':[/^%%rdf json-ld/]};\n",
              "        IPython.notebook.get_cells().map(function(cell){ if (cell.cell_type == 'code'){ cell.auto_highlight(); } });\n",
              "    }\n",
              "    "
            ]
          },
          "metadata": {}
        },
        {
          "output_type": "execute_result",
          "data": {
            "text/html": [
              "<div>\n",
              "<style scoped>\n",
              "    .dataframe tbody tr th:only-of-type {\n",
              "        vertical-align: middle;\n",
              "    }\n",
              "\n",
              "    .dataframe tbody tr th {\n",
              "        vertical-align: top;\n",
              "    }\n",
              "\n",
              "    .dataframe thead th {\n",
              "        text-align: right;\n",
              "    }\n",
              "</style>\n",
              "<table border=\"1\" class=\"dataframe\">\n",
              "  <thead>\n",
              "    <tr style=\"text-align: right;\">\n",
              "      <th></th>\n",
              "      <th>nama_provinsi</th>\n",
              "      <th>nama_kabupaten/kota</th>\n",
              "      <th>nama_kecamatan</th>\n",
              "      <th>nama_kelurahan</th>\n",
              "      <th>jumlah_rt</th>\n",
              "      <th>jumlah_rw</th>\n",
              "    </tr>\n",
              "  </thead>\n",
              "  <tbody>\n",
              "    <tr>\n",
              "      <th>0</th>\n",
              "      <td>PROVINSI DKI JAKARTA</td>\n",
              "      <td>JAKARTA PUSAT</td>\n",
              "      <td>GAMBIR</td>\n",
              "      <td>CIDENG</td>\n",
              "      <td>114</td>\n",
              "      <td>10</td>\n",
              "    </tr>\n",
              "    <tr>\n",
              "      <th>1</th>\n",
              "      <td>PROVINSI DKI JAKARTA</td>\n",
              "      <td>JAKARTA UTARA</td>\n",
              "      <td>PENJARINGAN</td>\n",
              "      <td>KAMAL MUARA</td>\n",
              "      <td>44</td>\n",
              "      <td>6</td>\n",
              "    </tr>\n",
              "    <tr>\n",
              "      <th>2</th>\n",
              "      <td>PROVINSI DKI JAKARTA</td>\n",
              "      <td>JAKARTA UTARA</td>\n",
              "      <td>KOJA</td>\n",
              "      <td>TUGU UTARA</td>\n",
              "      <td>214</td>\n",
              "      <td>19</td>\n",
              "    </tr>\n",
              "  </tbody>\n",
              "</table>\n",
              "</div>"
            ],
            "text/plain": [
              "          nama_provinsi nama_kabupaten/kota  ... jumlah_rt jumlah_rw\n",
              "0  PROVINSI DKI JAKARTA       JAKARTA PUSAT  ...       114        10\n",
              "1  PROVINSI DKI JAKARTA       JAKARTA UTARA  ...        44         6\n",
              "2  PROVINSI DKI JAKARTA       JAKARTA UTARA  ...       214        19\n",
              "\n",
              "[3 rows x 6 columns]"
            ]
          },
          "metadata": {},
          "execution_count": 22
        }
      ]
    },
    {
      "cell_type": "code",
      "metadata": {
        "id": "f6J0uxTrtjWN",
        "colab": {
          "base_uri": "https://localhost:8080/",
          "height": 564
        },
        "outputId": "0eef67f8-21f0-4ee5-ff39-13bcd137d31e"
      },
      "source": [
        "%%rdf turtle\n",
        "\n",
        "@prefix rdfs: <http://www.w3.org/2000/01/rdf-schema#> .\n",
        "@prefix rdf: <http://www.w3.org/1999/02/22-rdf-syntax-ns#> .\n",
        "@prefix xsd: <http://www.w3.org/2001/XMLSchema#> .\n",
        "@prefix osadm: <http://data.ordnancesurvey.co.uk/ontology/admingeo/> .\n",
        "@prefix ex: <http://example.com/> .\n",
        "\n",
        "       \n",
        "\n",
        "#Kelurahan \n",
        "\n",
        "ex:Cideng\n",
        "  a osadm:Ward, ex:kelurahan ;\n",
        "  ex:berkecamatan ex:Gambir ;\n",
        "  ex:JumlahRT \"114\"^^xsd:int ;\n",
        "  ex:JumlahRW \"10\"^^xsd:int .\n",
        "\n",
        "ex:KamalMuara\n",
        "  a osadm:Ward, ex:kelurahan ;\n",
        "  ex:berkecamatan ex:Penjaringan ;\n",
        "  ex:JumlahRT \"44\"^^xsd:int ;\n",
        "  ex:JumlahRW \"6\"^^xsd:int .\n",
        "\n",
        "ex:TuguUtara\n",
        "  a osadm:Ward, ex:kelurahan ;\n",
        "  ex:berkecamatan ex:Koja ;\n",
        "  ex:JumlahRT \"214\"^^xsd:int ;\n",
        "  ex:JumlahRW \"19\"^^xsd:int .\n",
        "\n",
        "#Kecamatan\n",
        "\n",
        "ex:Gambir\n",
        "  a ex:kecamatan ;\n",
        "  osadm:district ex:JakartaPusat .\n",
        "\n",
        "ex:Penjaringan\n",
        "  a ex:kecamatan ;\n",
        "  osadm:district ex:JakartaUtara .\n",
        "\n",
        "ex:Koja\n",
        "  a ex:kecamatan ;\n",
        "  osadm:district ex:JakartaUtara .\n",
        "\n",
        "#Kabupaten  \n",
        "\n",
        "ex:JakartaPusat\n",
        "  a osadm:District, ex:kabupaten ;\n",
        "  ex:berprovinsi ex:DKIJakarta .\n",
        "\n",
        "ex:JakartaUtara\n",
        "  a osadm:District, ex:kabupaten ;\n",
        "  ex:berprovinsi ex:DKIJakarta .\n",
        "\n",
        "#Provinsi\n",
        "\n",
        "ex:DKIJakarta\n",
        "  a ex:provinsi .\n",
        "\n",
        "#display the table"
      ],
      "execution_count": 23,
      "outputs": [
        {
          "output_type": "display_data",
          "data": {
            "text/plain": [
              "<graphviz.dot.Digraph at 0x7ff5f80ce390>"
            ],
            "image/svg+xml": "<?xml version=\"1.0\" encoding=\"UTF-8\" standalone=\"no\"?>\n<!DOCTYPE svg PUBLIC \"-//W3C//DTD SVG 1.1//EN\"\n \"http://www.w3.org/Graphics/SVG/1.1/DTD/svg11.dtd\">\n<!-- Generated by graphviz version 2.40.1 (20161225.0304)\n -->\n<!-- Title: %3 Pages: 1 -->\n<svg width=\"1420pt\" height=\"392pt\"\n viewBox=\"0.00 0.00 1419.50 392.00\" xmlns=\"http://www.w3.org/2000/svg\" xmlns:xlink=\"http://www.w3.org/1999/xlink\">\n<g id=\"graph0\" class=\"graph\" transform=\"scale(1 1) rotate(0) translate(4 388)\">\n<title>%3</title>\n<polygon fill=\"#ffffff\" stroke=\"transparent\" points=\"-4,4 -4,-388 1415.5,-388 1415.5,4 -4,4\"/>\n<!-- 0 -->\n<g id=\"node1\" class=\"node\">\n<title>0</title>\n<ellipse fill=\"none\" stroke=\"#000000\" cx=\"327.5\" cy=\"-105\" rx=\"60.3893\" ry=\"18\"/>\n<text text-anchor=\"middle\" x=\"327.5\" y=\"-101.3\" font-family=\"Times,serif\" font-size=\"14.00\" fill=\"#000000\">ex:kabupaten</text>\n</g>\n<!-- 1 -->\n<g id=\"node2\" class=\"node\">\n<title>1</title>\n<polygon fill=\"none\" stroke=\"#000000\" points=\"1298.5,-297 1202.5,-297 1202.5,-261 1298.5,-261 1298.5,-297\"/>\n<text text-anchor=\"middle\" x=\"1250.5\" y=\"-275.3\" font-family=\"Times,serif\" font-size=\"14.00\" fill=\"#000000\">&quot;44&quot;^^xsd:int</text>\n</g>\n<!-- 2 -->\n<g id=\"node3\" class=\"node\">\n<title>2</title>\n<ellipse fill=\"none\" stroke=\"#000000\" cx=\"502.5\" cy=\"-18\" rx=\"52.7911\" ry=\"18\"/>\n<text text-anchor=\"middle\" x=\"502.5\" y=\"-14.3\" font-family=\"Times,serif\" font-size=\"14.00\" fill=\"#000000\">ex:provinsi</text>\n</g>\n<!-- 3 -->\n<g id=\"node4\" class=\"node\">\n<title>3</title>\n<ellipse fill=\"none\" stroke=\"#000000\" cx=\"664.5\" cy=\"-105\" rx=\"64.189\" ry=\"18\"/>\n<text text-anchor=\"middle\" x=\"664.5\" y=\"-101.3\" font-family=\"Times,serif\" font-size=\"14.00\" fill=\"#000000\">osadm:District</text>\n</g>\n<!-- 4 -->\n<g id=\"node5\" class=\"node\">\n<title>4</title>\n<polygon fill=\"none\" stroke=\"#000000\" points=\"1406,-297 1317,-297 1317,-261 1406,-261 1406,-297\"/>\n<text text-anchor=\"middle\" x=\"1361.5\" y=\"-275.3\" font-family=\"Times,serif\" font-size=\"14.00\" fill=\"#000000\">&quot;6&quot;^^xsd:int</text>\n</g>\n<!-- 5 -->\n<g id=\"node6\" class=\"node\">\n<title>5</title>\n<ellipse fill=\"none\" stroke=\"#000000\" cx=\"719.5\" cy=\"-366\" rx=\"61.99\" ry=\"18\"/>\n<text text-anchor=\"middle\" x=\"719.5\" y=\"-362.3\" font-family=\"Times,serif\" font-size=\"14.00\" fill=\"#000000\">ex:TuguUtara</text>\n</g>\n<!-- 12 -->\n<g id=\"node13\" class=\"node\">\n<title>12</title>\n<polygon fill=\"none\" stroke=\"#000000\" points=\"892.5,-297 796.5,-297 796.5,-261 892.5,-261 892.5,-297\"/>\n<text text-anchor=\"middle\" x=\"844.5\" y=\"-275.3\" font-family=\"Times,serif\" font-size=\"14.00\" fill=\"#000000\">&quot;19&quot;^^xsd:int</text>\n</g>\n<!-- 5&#45;&gt;12 -->\n<g id=\"edge17\" class=\"edge\">\n<title>5&#45;&gt;12</title>\n<path fill=\"none\" stroke=\"#000000\" d=\"M770.4952,-355.6699C797.3515,-349.1959 826.5435,-340.1651 835.5,-330 841.0167,-323.7389 843.7162,-315.3142 844.9161,-307.1177\"/>\n<polygon fill=\"#000000\" stroke=\"#000000\" points=\"848.4137,-307.2876 845.7333,-297.0375 841.4366,-306.7219 848.4137,-307.2876\"/>\n<text text-anchor=\"middle\" x=\"884.5\" y=\"-318.8\" font-family=\"Times,serif\" font-size=\"14.00\" fill=\"#000000\">ex:JumlahRW</text>\n</g>\n<!-- 13 -->\n<g id=\"node14\" class=\"node\">\n<title>13</title>\n<polygon fill=\"none\" stroke=\"#000000\" points=\"1014.5,-297 910.5,-297 910.5,-261 1014.5,-261 1014.5,-297\"/>\n<text text-anchor=\"middle\" x=\"962.5\" y=\"-275.3\" font-family=\"Times,serif\" font-size=\"14.00\" fill=\"#000000\">&quot;214&quot;^^xsd:int</text>\n</g>\n<!-- 5&#45;&gt;13 -->\n<g id=\"edge15\" class=\"edge\">\n<title>5&#45;&gt;13</title>\n<path fill=\"none\" stroke=\"#000000\" d=\"M779.0613,-361.1356C832.2366,-355.8435 905.3386,-345.9383 929.5,-330 938.3204,-324.1815 945.2915,-315.1052 950.5098,-306.2125\"/>\n<polygon fill=\"#000000\" stroke=\"#000000\" points=\"953.7199,-307.6298 955.3172,-297.1561 947.537,-304.3477 953.7199,-307.6298\"/>\n<text text-anchor=\"middle\" x=\"984\" y=\"-318.8\" font-family=\"Times,serif\" font-size=\"14.00\" fill=\"#000000\">ex:JumlahRT</text>\n</g>\n<!-- 16 -->\n<g id=\"node17\" class=\"node\">\n<title>16</title>\n<ellipse fill=\"none\" stroke=\"#000000\" cx=\"719.5\" cy=\"-279\" rx=\"57.6901\" ry=\"18\"/>\n<text text-anchor=\"middle\" x=\"719.5\" y=\"-275.3\" font-family=\"Times,serif\" font-size=\"14.00\" fill=\"#000000\">osadm:Ward</text>\n</g>\n<!-- 5&#45;&gt;16 -->\n<g id=\"edge27\" class=\"edge\">\n<title>5&#45;&gt;16</title>\n<path fill=\"none\" stroke=\"#000000\" d=\"M719.5,-347.9735C719.5,-336.1918 719.5,-320.5607 719.5,-307.1581\"/>\n<polygon fill=\"#000000\" stroke=\"#000000\" points=\"723.0001,-307.0033 719.5,-297.0034 716.0001,-307.0034 723.0001,-307.0033\"/>\n<text text-anchor=\"middle\" x=\"742.5\" y=\"-318.8\" font-family=\"Times,serif\" font-size=\"14.00\" fill=\"#000000\">rdf:type</text>\n</g>\n<!-- 17 -->\n<g id=\"node18\" class=\"node\">\n<title>17</title>\n<ellipse fill=\"none\" stroke=\"#000000\" cx=\"463.5\" cy=\"-279\" rx=\"40.0939\" ry=\"18\"/>\n<text text-anchor=\"middle\" x=\"463.5\" y=\"-275.3\" font-family=\"Times,serif\" font-size=\"14.00\" fill=\"#000000\">ex:Koja</text>\n</g>\n<!-- 5&#45;&gt;17 -->\n<g id=\"edge22\" class=\"edge\">\n<title>5&#45;&gt;17</title>\n<path fill=\"none\" stroke=\"#000000\" d=\"M660.4909,-360.5957C593.2932,-353.9209 491.0088,-341.975 477.5,-330 470.9545,-324.1977 467.3418,-315.6513 465.3856,-307.2066\"/>\n<polygon fill=\"#000000\" stroke=\"#000000\" points=\"468.8082,-306.449 463.7352,-297.1476 461.9006,-307.5824 468.8082,-306.449\"/>\n<text text-anchor=\"middle\" x=\"525.5\" y=\"-318.8\" font-family=\"Times,serif\" font-size=\"14.00\" fill=\"#000000\">ex:berkecamatan</text>\n</g>\n<!-- 20 -->\n<g id=\"node21\" class=\"node\">\n<title>20</title>\n<ellipse fill=\"none\" stroke=\"#000000\" cx=\"581.5\" cy=\"-279\" rx=\"58.4896\" ry=\"18\"/>\n<text text-anchor=\"middle\" x=\"581.5\" y=\"-275.3\" font-family=\"Times,serif\" font-size=\"14.00\" fill=\"#000000\">ex:kelurahan</text>\n</g>\n<!-- 5&#45;&gt;20 -->\n<g id=\"edge12\" class=\"edge\">\n<title>5&#45;&gt;20</title>\n<path fill=\"none\" stroke=\"#000000\" d=\"M663.4936,-358.218C630.3026,-352.3429 592.7654,-343.045 582.5,-330 577.5497,-323.7093 575.9705,-315.5027 575.999,-307.5175\"/>\n<polygon fill=\"#000000\" stroke=\"#000000\" points=\"579.5055,-307.5746 576.8142,-297.3273 572.5278,-307.0164 579.5055,-307.5746\"/>\n<text text-anchor=\"middle\" x=\"605.5\" y=\"-318.8\" font-family=\"Times,serif\" font-size=\"14.00\" fill=\"#000000\">rdf:type</text>\n</g>\n<!-- 6 -->\n<g id=\"node7\" class=\"node\">\n<title>6</title>\n<polygon fill=\"none\" stroke=\"#000000\" points=\"103,-297 0,-297 0,-261 103,-261 103,-297\"/>\n<text text-anchor=\"middle\" x=\"51.5\" y=\"-275.3\" font-family=\"Times,serif\" font-size=\"14.00\" fill=\"#000000\">&quot;114&quot;^^xsd:int</text>\n</g>\n<!-- 7 -->\n<g id=\"node8\" class=\"node\">\n<title>7</title>\n<ellipse fill=\"none\" stroke=\"#000000\" cx=\"303.5\" cy=\"-192\" rx=\"67.6881\" ry=\"18\"/>\n<text text-anchor=\"middle\" x=\"303.5\" y=\"-188.3\" font-family=\"Times,serif\" font-size=\"14.00\" fill=\"#000000\">ex:JakartaPusat</text>\n</g>\n<!-- 7&#45;&gt;0 -->\n<g id=\"edge4\" class=\"edge\">\n<title>7&#45;&gt;0</title>\n<path fill=\"none\" stroke=\"#000000\" d=\"M277.4938,-175.3706C265.9202,-165.7848 256.3421,-153.2388 263.5,-141 267.3495,-134.418 272.8939,-128.9464 279.131,-124.4257\"/>\n<polygon fill=\"#000000\" stroke=\"#000000\" points=\"281.39,-127.1384 287.9714,-118.8356 277.6488,-121.222 281.39,-127.1384\"/>\n<text text-anchor=\"middle\" x=\"286.5\" y=\"-144.8\" font-family=\"Times,serif\" font-size=\"14.00\" fill=\"#000000\">rdf:type</text>\n</g>\n<!-- 7&#45;&gt;3 -->\n<g id=\"edge18\" class=\"edge\">\n<title>7&#45;&gt;3</title>\n<path fill=\"none\" stroke=\"#000000\" d=\"M355.6924,-180.4153C365.8962,-178.2256 376.5242,-175.9973 386.5,-174 429.9224,-165.3061 444.1549,-174.258 484.5,-156 494.3019,-151.5642 493.7849,-145.6229 503.5,-141 512.639,-136.6513 560.7669,-126.1301 602.0436,-117.5782\"/>\n<polygon fill=\"#000000\" stroke=\"#000000\" points=\"603.0009,-120.9545 612.0883,-115.5076 601.5876,-114.0987 603.0009,-120.9545\"/>\n<text text-anchor=\"middle\" x=\"526.5\" y=\"-144.8\" font-family=\"Times,serif\" font-size=\"14.00\" fill=\"#000000\">rdf:type</text>\n</g>\n<!-- 19 -->\n<g id=\"node20\" class=\"node\">\n<title>19</title>\n<ellipse fill=\"none\" stroke=\"#000000\" cx=\"502.5\" cy=\"-105\" rx=\"63.8893\" ry=\"18\"/>\n<text text-anchor=\"middle\" x=\"502.5\" y=\"-101.3\" font-family=\"Times,serif\" font-size=\"14.00\" fill=\"#000000\">ex:DKIJakarta</text>\n</g>\n<!-- 7&#45;&gt;19 -->\n<g id=\"edge21\" class=\"edge\">\n<title>7&#45;&gt;19</title>\n<path fill=\"none\" stroke=\"#000000\" d=\"M309.4739,-173.7795C314.0523,-162.6503 321.4814,-149.0545 332.5,-141 341.2174,-134.6277 393.3563,-124.123 437.6218,-116.1012\"/>\n<polygon fill=\"#000000\" stroke=\"#000000\" points=\"438.2837,-119.5385 447.508,-114.3266 437.0469,-112.6486 438.2837,-119.5385\"/>\n<text text-anchor=\"middle\" x=\"374\" y=\"-144.8\" font-family=\"Times,serif\" font-size=\"14.00\" fill=\"#000000\">ex:berprovinsi</text>\n</g>\n<!-- 8 -->\n<g id=\"node9\" class=\"node\">\n<title>8</title>\n<ellipse fill=\"none\" stroke=\"#000000\" cx=\"274.5\" cy=\"-366\" rx=\"49.2915\" ry=\"18\"/>\n<text text-anchor=\"middle\" x=\"274.5\" y=\"-362.3\" font-family=\"Times,serif\" font-size=\"14.00\" fill=\"#000000\">ex:Cideng</text>\n</g>\n<!-- 8&#45;&gt;6 -->\n<g id=\"edge26\" class=\"edge\">\n<title>8&#45;&gt;6</title>\n<path fill=\"none\" stroke=\"#000000\" d=\"M227.9785,-359.7844C183.5451,-353.2626 120.2269,-342.2668 98.5,-330 87.5522,-323.819 77.7162,-314.1959 69.9063,-304.9668\"/>\n<polygon fill=\"#000000\" stroke=\"#000000\" points=\"72.5627,-302.6843 63.5875,-297.0542 67.0928,-307.0524 72.5627,-302.6843\"/>\n<text text-anchor=\"middle\" x=\"137\" y=\"-318.8\" font-family=\"Times,serif\" font-size=\"14.00\" fill=\"#000000\">ex:JumlahRT</text>\n</g>\n<!-- 11 -->\n<g id=\"node12\" class=\"node\">\n<title>11</title>\n<polygon fill=\"none\" stroke=\"#000000\" points=\"217.5,-297 121.5,-297 121.5,-261 217.5,-261 217.5,-297\"/>\n<text text-anchor=\"middle\" x=\"169.5\" y=\"-275.3\" font-family=\"Times,serif\" font-size=\"14.00\" fill=\"#000000\">&quot;10&quot;^^xsd:int</text>\n</g>\n<!-- 8&#45;&gt;11 -->\n<g id=\"edge28\" class=\"edge\">\n<title>8&#45;&gt;11</title>\n<path fill=\"none\" stroke=\"#000000\" d=\"M232.7674,-356.1468C217.1757,-350.6694 200.3879,-342.371 188.5,-330 182.4493,-323.7034 178.291,-315.306 175.4474,-307.1454\"/>\n<polygon fill=\"#000000\" stroke=\"#000000\" points=\"178.7785,-306.0669 172.5921,-297.4658 172.0645,-308.0475 178.7785,-306.0669\"/>\n<text text-anchor=\"middle\" x=\"229.5\" y=\"-318.8\" font-family=\"Times,serif\" font-size=\"14.00\" fill=\"#000000\">ex:JumlahRW</text>\n</g>\n<!-- 14 -->\n<g id=\"node15\" class=\"node\">\n<title>14</title>\n<ellipse fill=\"none\" stroke=\"#000000\" cx=\"291.5\" cy=\"-279\" rx=\"50.0912\" ry=\"18\"/>\n<text text-anchor=\"middle\" x=\"291.5\" y=\"-275.3\" font-family=\"Times,serif\" font-size=\"14.00\" fill=\"#000000\">ex:Gambir</text>\n</g>\n<!-- 8&#45;&gt;14 -->\n<g id=\"edge16\" class=\"edge\">\n<title>8&#45;&gt;14</title>\n<path fill=\"none\" stroke=\"#000000\" d=\"M273.1213,-347.8548C272.806,-338.0197 273.1152,-325.7192 275.5,-315 276.1406,-312.1209 277.0193,-309.1902 278.0379,-306.3069\"/>\n<polygon fill=\"#000000\" stroke=\"#000000\" points=\"281.3666,-307.4129 281.8964,-296.8313 274.8835,-304.7729 281.3666,-307.4129\"/>\n<text text-anchor=\"middle\" x=\"323.5\" y=\"-318.8\" font-family=\"Times,serif\" font-size=\"14.00\" fill=\"#000000\">ex:berkecamatan</text>\n</g>\n<!-- 8&#45;&gt;16 -->\n<g id=\"edge1\" class=\"edge\">\n<title>8&#45;&gt;16</title>\n<path fill=\"none\" stroke=\"#000000\" d=\"M323.4438,-363.4892C406.8523,-358.8001 572.9093,-347.5675 628.5,-330 649.1902,-323.4616 670.4463,-311.8723 687.2066,-301.3921\"/>\n<polygon fill=\"#000000\" stroke=\"#000000\" points=\"689.505,-304.0754 696.0233,-295.723 685.719,-298.1875 689.505,-304.0754\"/>\n<text text-anchor=\"middle\" x=\"686.5\" y=\"-318.8\" font-family=\"Times,serif\" font-size=\"14.00\" fill=\"#000000\">rdf:type</text>\n</g>\n<!-- 8&#45;&gt;20 -->\n<g id=\"edge19\" class=\"edge\">\n<title>8&#45;&gt;20</title>\n<path fill=\"none\" stroke=\"#000000\" d=\"M309.1188,-353.0588C344.64,-339.9035 397.5742,-320.6742 418.5,-315 459.5543,-303.8678 471.0088,-306.3737 512.5,-297 517.4303,-295.8861 522.543,-294.6697 527.6546,-293.4118\"/>\n<polygon fill=\"#000000\" stroke=\"#000000\" points=\"528.5873,-296.7864 537.4347,-290.9577 526.8835,-289.9969 528.5873,-296.7864\"/>\n<text text-anchor=\"middle\" x=\"441.5\" y=\"-318.8\" font-family=\"Times,serif\" font-size=\"14.00\" fill=\"#000000\">rdf:type</text>\n</g>\n<!-- 9 -->\n<g id=\"node10\" class=\"node\">\n<title>9</title>\n<ellipse fill=\"none\" stroke=\"#000000\" cx=\"1131.5\" cy=\"-366\" rx=\"70.3881\" ry=\"18\"/>\n<text text-anchor=\"middle\" x=\"1131.5\" y=\"-362.3\" font-family=\"Times,serif\" font-size=\"14.00\" fill=\"#000000\">ex:KamalMuara</text>\n</g>\n<!-- 9&#45;&gt;1 -->\n<g id=\"edge14\" class=\"edge\">\n<title>9&#45;&gt;1</title>\n<path fill=\"none\" stroke=\"#000000\" d=\"M1177.4766,-352.1852C1190.9735,-346.6988 1205.1449,-339.4044 1216.5,-330 1224.3242,-323.5199 1231.0412,-314.7803 1236.3886,-306.3676\"/>\n<polygon fill=\"#000000\" stroke=\"#000000\" points=\"1239.5615,-307.8783 1241.6413,-297.4896 1233.537,-304.3139 1239.5615,-307.8783\"/>\n<text text-anchor=\"middle\" x=\"1268\" y=\"-318.8\" font-family=\"Times,serif\" font-size=\"14.00\" fill=\"#000000\">ex:JumlahRT</text>\n</g>\n<!-- 9&#45;&gt;4 -->\n<g id=\"edge5\" class=\"edge\">\n<title>9&#45;&gt;4</title>\n<path fill=\"none\" stroke=\"#000000\" d=\"M1193.6627,-357.4069C1237.0112,-350.6836 1290.523,-340.7052 1310.5,-330 1322.1405,-323.7622 1332.8459,-314.0077 1341.4109,-304.6931\"/>\n<polygon fill=\"#000000\" stroke=\"#000000\" points=\"1344.1356,-306.894 1348.0757,-297.059 1338.8624,-302.2903 1344.1356,-306.894\"/>\n<text text-anchor=\"middle\" x=\"1370.5\" y=\"-318.8\" font-family=\"Times,serif\" font-size=\"14.00\" fill=\"#000000\">ex:JumlahRW</text>\n</g>\n<!-- 15 -->\n<g id=\"node16\" class=\"node\">\n<title>15</title>\n<ellipse fill=\"none\" stroke=\"#000000\" cx=\"1098.5\" cy=\"-279\" rx=\"66.0889\" ry=\"18\"/>\n<text text-anchor=\"middle\" x=\"1098.5\" y=\"-275.3\" font-family=\"Times,serif\" font-size=\"14.00\" fill=\"#000000\">ex:Penjaringan</text>\n</g>\n<!-- 9&#45;&gt;15 -->\n<g id=\"edge25\" class=\"edge\">\n<title>9&#45;&gt;15</title>\n<path fill=\"none\" stroke=\"#000000\" d=\"M1124.6624,-347.9735C1120.1049,-335.9585 1114.029,-319.9401 1108.8797,-306.3646\"/>\n<polygon fill=\"#000000\" stroke=\"#000000\" points=\"1112.148,-305.112 1105.3289,-297.0034 1105.603,-307.5947 1112.148,-305.112\"/>\n<text text-anchor=\"middle\" x=\"1164.5\" y=\"-318.8\" font-family=\"Times,serif\" font-size=\"14.00\" fill=\"#000000\">ex:berkecamatan</text>\n</g>\n<!-- 9&#45;&gt;16 -->\n<g id=\"edge13\" class=\"edge\">\n<title>9&#45;&gt;16</title>\n<path fill=\"none\" stroke=\"#000000\" d=\"M1100.9548,-349.5752C1075.5982,-336.2409 1041.3697,-319.014 1026.5,-315 923.6582,-287.2381 892.5416,-314.7038 787.5,-297 782.3632,-296.1342 777.0503,-295.0572 771.7626,-293.8634\"/>\n<polygon fill=\"#000000\" stroke=\"#000000\" points=\"772.2181,-290.3736 761.6779,-291.4485 770.5879,-297.1812 772.2181,-290.3736\"/>\n<text text-anchor=\"middle\" x=\"1083.5\" y=\"-318.8\" font-family=\"Times,serif\" font-size=\"14.00\" fill=\"#000000\">rdf:type</text>\n</g>\n<!-- 9&#45;&gt;20 -->\n<g id=\"edge24\" class=\"edge\">\n<title>9&#45;&gt;20</title>\n<path fill=\"none\" stroke=\"#000000\" d=\"M1061.9813,-363.3387C975.7097,-359.2482 834.0371,-349.7238 785.5,-330 775.5327,-325.9496 776.3567,-319.3127 766.5,-315 719.507,-294.4386 702.7468,-307.3135 652.5,-297 647.0502,-295.8814 641.3895,-294.6194 635.7491,-293.2957\"/>\n<polygon fill=\"#000000\" stroke=\"#000000\" points=\"636.2103,-289.8066 625.6684,-290.8641 634.5688,-296.6115 636.2103,-289.8066\"/>\n<text text-anchor=\"middle\" x=\"808.5\" y=\"-318.8\" font-family=\"Times,serif\" font-size=\"14.00\" fill=\"#000000\">rdf:type</text>\n</g>\n<!-- 10 -->\n<g id=\"node11\" class=\"node\">\n<title>10</title>\n<ellipse fill=\"none\" stroke=\"#000000\" cx=\"456.5\" cy=\"-192\" rx=\"61.1893\" ry=\"18\"/>\n<text text-anchor=\"middle\" x=\"456.5\" y=\"-188.3\" font-family=\"Times,serif\" font-size=\"14.00\" fill=\"#000000\">ex:kecamatan</text>\n</g>\n<!-- 14&#45;&gt;7 -->\n<g id=\"edge3\" class=\"edge\">\n<title>14&#45;&gt;7</title>\n<path fill=\"none\" stroke=\"#000000\" d=\"M290.6446,-260.9546C290.4827,-251.1488 290.7713,-238.8444 292.5,-228 292.9289,-225.3096 293.5098,-222.5408 294.1818,-219.7904\"/>\n<polygon fill=\"#000000\" stroke=\"#000000\" points=\"297.5737,-220.6571 296.9062,-210.0833 290.8341,-218.7655 297.5737,-220.6571\"/>\n<text text-anchor=\"middle\" x=\"332.5\" y=\"-231.8\" font-family=\"Times,serif\" font-size=\"14.00\" fill=\"#000000\">osadm:district</text>\n</g>\n<!-- 14&#45;&gt;10 -->\n<g id=\"edge10\" class=\"edge\">\n<title>14&#45;&gt;10</title>\n<path fill=\"none\" stroke=\"#000000\" d=\"M324.6628,-265.3952C339.5036,-259.0187 357.0913,-251.06 372.5,-243 389.434,-234.1422 407.6313,-223.2716 422.7441,-213.8456\"/>\n<polygon fill=\"#000000\" stroke=\"#000000\" points=\"424.6552,-216.7784 431.2531,-208.4887 420.9258,-210.8545 424.6552,-216.7784\"/>\n<text text-anchor=\"middle\" x=\"421.5\" y=\"-231.8\" font-family=\"Times,serif\" font-size=\"14.00\" fill=\"#000000\">rdf:type</text>\n</g>\n<!-- 15&#45;&gt;10 -->\n<g id=\"edge6\" class=\"edge\">\n<title>15&#45;&gt;10</title>\n<path fill=\"none\" stroke=\"#000000\" d=\"M1050.6861,-266.5088C1041.6976,-264.4502 1032.3451,-262.5016 1023.5,-261 945.1071,-247.6915 924.6019,-251.091 845.5,-243 703.7054,-228.4964 666.7978,-235.1512 526.5,-210 521.382,-209.0825 516.0868,-207.9904 510.8058,-206.8043\"/>\n<polygon fill=\"#000000\" stroke=\"#000000\" points=\"511.2543,-203.3142 500.7183,-204.4286 509.6497,-210.1278 511.2543,-203.3142\"/>\n<text text-anchor=\"middle\" x=\"868.5\" y=\"-231.8\" font-family=\"Times,serif\" font-size=\"14.00\" fill=\"#000000\">rdf:type</text>\n</g>\n<!-- 18 -->\n<g id=\"node19\" class=\"node\">\n<title>18</title>\n<ellipse fill=\"none\" stroke=\"#000000\" cx=\"603.5\" cy=\"-192\" rx=\"67.6881\" ry=\"18\"/>\n<text text-anchor=\"middle\" x=\"603.5\" y=\"-188.3\" font-family=\"Times,serif\" font-size=\"14.00\" fill=\"#000000\">ex:JakartaUtara</text>\n</g>\n<!-- 15&#45;&gt;18 -->\n<g id=\"edge7\" class=\"edge\">\n<title>15&#45;&gt;18</title>\n<path fill=\"none\" stroke=\"#000000\" d=\"M1052.9009,-265.8265C1011.9903,-254.4201 950.1549,-238.1943 895.5,-228 822.0459,-214.2992 737.1914,-204.5013 677.9511,-198.6196\"/>\n<polygon fill=\"#000000\" stroke=\"#000000\" points=\"678.2277,-195.13 667.9341,-197.6381 677.5451,-202.0966 678.2277,-195.13\"/>\n<text text-anchor=\"middle\" x=\"1003.5\" y=\"-231.8\" font-family=\"Times,serif\" font-size=\"14.00\" fill=\"#000000\">osadm:district</text>\n</g>\n<!-- 17&#45;&gt;10 -->\n<g id=\"edge11\" class=\"edge\">\n<title>17&#45;&gt;10</title>\n<path fill=\"none\" stroke=\"#000000\" d=\"M462.0496,-260.9735C461.1016,-249.1918 459.844,-233.5607 458.7656,-220.1581\"/>\n<polygon fill=\"#000000\" stroke=\"#000000\" points=\"462.2394,-219.6904 457.9485,-210.0034 455.2619,-220.2519 462.2394,-219.6904\"/>\n<text text-anchor=\"middle\" x=\"483.5\" y=\"-231.8\" font-family=\"Times,serif\" font-size=\"14.00\" fill=\"#000000\">rdf:type</text>\n</g>\n<!-- 17&#45;&gt;18 -->\n<g id=\"edge9\" class=\"edge\">\n<title>17&#45;&gt;18</title>\n<path fill=\"none\" stroke=\"#000000\" d=\"M487.2491,-264.2416C509.4407,-250.4511 542.8576,-229.6849 568.1765,-213.951\"/>\n<polygon fill=\"#000000\" stroke=\"#000000\" points=\"570.1165,-216.8663 576.7627,-208.6153 566.4217,-210.9208 570.1165,-216.8663\"/>\n<text text-anchor=\"middle\" x=\"582.5\" y=\"-231.8\" font-family=\"Times,serif\" font-size=\"14.00\" fill=\"#000000\">osadm:district</text>\n</g>\n<!-- 18&#45;&gt;0 -->\n<g id=\"edge8\" class=\"edge\">\n<title>18&#45;&gt;0</title>\n<path fill=\"none\" stroke=\"#000000\" d=\"M553.0144,-179.9859C544.1864,-177.9458 535.0826,-175.8805 526.5,-174 487.5042,-165.4556 475.4258,-171.1713 438.5,-156 427.2116,-151.3621 426.3073,-146.6692 415.5,-141 402.914,-134.3978 388.8396,-128.1643 375.7017,-122.7984\"/>\n<polygon fill=\"#000000\" stroke=\"#000000\" points=\"376.9201,-119.5162 366.3355,-119.0516 374.3202,-126.0155 376.9201,-119.5162\"/>\n<text text-anchor=\"middle\" x=\"461.5\" y=\"-144.8\" font-family=\"Times,serif\" font-size=\"14.00\" fill=\"#000000\">rdf:type</text>\n</g>\n<!-- 18&#45;&gt;3 -->\n<g id=\"edge20\" class=\"edge\">\n<title>18&#45;&gt;3</title>\n<path fill=\"none\" stroke=\"#000000\" d=\"M638.221,-176.4914C646.482,-171.1674 654.3768,-164.3826 659.5,-156 663.5827,-149.3198 665.4494,-141.2059 666.1411,-133.4333\"/>\n<polygon fill=\"#000000\" stroke=\"#000000\" points=\"669.6463,-133.3149 666.4539,-123.2125 662.6496,-133.1008 669.6463,-133.3149\"/>\n<text text-anchor=\"middle\" x=\"688.5\" y=\"-144.8\" font-family=\"Times,serif\" font-size=\"14.00\" fill=\"#000000\">rdf:type</text>\n</g>\n<!-- 18&#45;&gt;19 -->\n<g id=\"edge2\" class=\"edge\">\n<title>18&#45;&gt;19</title>\n<path fill=\"none\" stroke=\"#000000\" d=\"M587.566,-174.2137C578.088,-164.035 565.588,-151.285 553.5,-141 548.1205,-136.4229 542.1747,-131.8431 536.2996,-127.5586\"/>\n<polygon fill=\"#000000\" stroke=\"#000000\" points=\"537.9948,-124.4694 527.8166,-121.5274 533.9385,-130.1745 537.9948,-124.4694\"/>\n<text text-anchor=\"middle\" x=\"611\" y=\"-144.8\" font-family=\"Times,serif\" font-size=\"14.00\" fill=\"#000000\">ex:berprovinsi</text>\n</g>\n<!-- 19&#45;&gt;2 -->\n<g id=\"edge23\" class=\"edge\">\n<title>19&#45;&gt;2</title>\n<path fill=\"none\" stroke=\"#000000\" d=\"M502.5,-86.9735C502.5,-75.1918 502.5,-59.5607 502.5,-46.1581\"/>\n<polygon fill=\"#000000\" stroke=\"#000000\" points=\"506.0001,-46.0033 502.5,-36.0034 499.0001,-46.0034 506.0001,-46.0033\"/>\n<text text-anchor=\"middle\" x=\"525.5\" y=\"-57.8\" font-family=\"Times,serif\" font-size=\"14.00\" fill=\"#000000\">rdf:type</text>\n</g>\n</g>\n</svg>\n"
          },
          "metadata": {}
        }
      ]
    },
    {
      "cell_type": "code",
      "metadata": {
        "id": "Jl62dognmwEr"
      },
      "source": [
        "#tampilkan turtle vocabulary\n",
        "#display the table "
      ],
      "execution_count": null,
      "outputs": []
    },
    {
      "cell_type": "markdown",
      "metadata": {
        "id": "HmsRVEOZAhTg"
      },
      "source": [
        "## SHACL\n",
        "\n",
        "Aturan pada SHACL kelompok kami yaitu sebagai berikut :\n",
        "* Nilai Jumlah RT dan Jumlah RW harus betipe integer(int)\n",
        "* Setiap Kelurahan hanya bisa diisi satu Kecamatan, tidak boleh lebih.\n",
        "* Setiap Kecamatan hanya bisa diisi satu Kabupaten, tidak boleh lebih.\n",
        "* Setiap Kabupaten hanya bisa diisi satu Provinsi, tidak boleh lebih.\n",
        "* Pengisian antaran class dan property harus sesuai, misal property \"Kecamatan\" harus diisi dengan kelas \"Kecamatan\".\n",
        "\n",
        "\n"
      ]
    },
    {
      "cell_type": "code",
      "metadata": {
        "id": "nXZL4AMNA5uR"
      },
      "source": [
        "shapes_graph = \"\"\"\n",
        "\n",
        "@prefix sh:     <http://www.w3.org/ns/shacl#> .\n",
        "@prefix xsd:    <http://www.w3.org/2001/XMLSchema#> .\n",
        "@prefix osadm: <http://data.ordnancesurvey.co.uk/ontology/admingeo/> .\n",
        "@prefix ex: <http://example.com/> .\n",
        "\n",
        "ex:KecamatanShape a sh:NodeShape ;\n",
        "    sh:targetClass osadm:Ward ;\n",
        "    sh:property ex:berkecamatanShape ;\n",
        "    sh:property ex:JumlahRTShape ;\n",
        "    sh:property ex:JumlahRWShape .\n",
        "  \n",
        "ex:KecamatanShape a sh:NodeShape ;\n",
        "    sh:targetClass ex:kecamatan ;\n",
        "    sh:property ex:berkabupatenShape .\n",
        "\n",
        "ex:KabupatenShape a sh:NodeShape ;\n",
        "    sh:targetClass osadm:District ;\n",
        "    sh:property ex:berprovinsiShape .\n",
        "\n",
        "ex:ProvinsiShape a sh:NodeShape ;\n",
        "    sh:targetClass osadm:District .\n",
        "\n",
        "\n",
        "\n",
        "ex:berkecamatanShape a sh:PropertyShape ;\n",
        "    sh:path ex:berkecamatan ;\n",
        "    sh:maxCount 1 ;\n",
        "    sh:class ex:kecamatan .\n",
        "\n",
        "ex:JumlahRTShape a sh:PropertyShape ;\n",
        "    sh:path ex:JumlahRT ;\n",
        "    sh:maxCount 1 ;\n",
        "    sh:datatype xsd:int .\n",
        "\n",
        "ex:JumlahRWShape a sh:PropertyShape ;   \n",
        "    sh:path ex:JumlahRW ;\n",
        "    sh:maxCount 1 ;\n",
        "    sh:datatype xsd:int .\n",
        "\n",
        "ex:berkabupatenShape a sh:PropertyShape ;\n",
        "    sh:path osadm:district ;\n",
        "    sh:maxCount 1 ;\n",
        "    sh:class osadm:District .\n",
        "\n",
        "ex:berprovinsiShape a sh:PropertyShape;\n",
        "    sh:path ex:berprovinsi ;\n",
        "    sh:maxCount 1 ;\n",
        "    sh:class ex:provinsi .\n",
        "\n",
        "\"\"\""
      ],
      "execution_count": 101,
      "outputs": []
    },
    {
      "cell_type": "markdown",
      "metadata": {
        "id": "OOh_wHq1BSmT"
      },
      "source": [
        "## Data Graph\n",
        "\n"
      ]
    },
    {
      "cell_type": "code",
      "metadata": {
        "id": "Vek0ZSFnBdj9"
      },
      "source": [
        "data_graph_1 = \"\"\"\n",
        "\n",
        "\n",
        "@prefix rdfs: <http://www.w3.org/2000/01/rdf-schema#> .\n",
        "@prefix rdf: <http://www.w3.org/1999/02/22-rdf-syntax-ns#> .\n",
        "@prefix xsd: <http://www.w3.org/2001/XMLSchema#> .\n",
        "@prefix osadm: <http://data.ordnancesurvey.co.uk/ontology/admingeo/> .\n",
        "@prefix ex: <http://example.com/> .\n",
        "\n",
        "#Kelurahan \n",
        "\n",
        "ex:Cideng\n",
        "  a osadm:Ward, ex:kelurahan ;\n",
        "  ex:berkecamatan ex:Gambir ;\n",
        "  ex:JumlahRT \"114\"^^xsd:int ;\n",
        "  ex:JumlahRW \"10\"^^xsd:int .\n",
        "\n",
        "ex:KamalMuara\n",
        "  a osadm:Ward, ex:kelurahan ;\n",
        "  ex:berkecamatan ex:Penjaringan ;\n",
        "  ex:JumlahRT \"44\"^^xsd:int ;\n",
        "  ex:JumlahRW \"6\"^^xsd:int .\n",
        "\n",
        "ex:TuguUtara\n",
        "  a osadm:Ward, ex:kelurahan ;\n",
        "  ex:berkecamatan ex:Koja ;\n",
        "  ex:JumlahRT \"214\"^^xsd:int ;\n",
        "  ex:JumlahRW \"19\"^^xsd:int .\n",
        "\n",
        "\n",
        "#Kecamatan\n",
        "\n",
        "ex:Gambir\n",
        "  a ex:kecamatan ;\n",
        "  osadm:district ex:JakartaPusat .\n",
        "\n",
        "ex:Penjaringan\n",
        "  a ex:kecamatan ;\n",
        "  osadm:district ex:JakartaUtara .\n",
        "\n",
        "ex:Koja\n",
        "  a ex:kecamatan ;\n",
        "  osadm:district ex:JakartaUtara .\n",
        "\n",
        "\n",
        "#Kabupaten  \n",
        "\n",
        "ex:JakartaPusat\n",
        "  a osadm:District, ex:kabupaten ;\n",
        "  ex:berprovinsi ex:DKIJakarta .\n",
        "\n",
        "ex:JakartaUtara\n",
        "  a osadm:District, ex:kabupaten ;\n",
        "  ex:berprovinsi ex:DKIJakarta .\n",
        "\n",
        "#Provinsi\n",
        "\n",
        "ex:DKIJakarta\n",
        "  a ex:provinsi .\n",
        "\n",
        "#display the table\n",
        "\"\"\""
      ],
      "execution_count": 102,
      "outputs": []
    },
    {
      "cell_type": "code",
      "metadata": {
        "id": "ovnG3WPXAElQ"
      },
      "source": [
        "data_graph_2 = \"\"\"\n",
        "\n",
        "\n",
        "@prefix rdfs: <http://www.w3.org/2000/01/rdf-schema#> .\n",
        "@prefix rdf: <http://www.w3.org/1999/02/22-rdf-syntax-ns#> .\n",
        "@prefix xsd: <http://www.w3.org/2001/XMLSchema#> .\n",
        "@prefix osadm: <http://data.ordnancesurvey.co.uk/ontology/admingeo/> .\n",
        "@prefix ex: <http://example.com/> .\n",
        "\n",
        "#Kelurahan \n",
        "\n",
        "ex:Cideng\n",
        "  a osadm:Ward, ex:kelurahan ;\n",
        "  ex:berkecamatan ex:Gambir ;\n",
        "  ex:JumlahRT \"114\"^^xsd:int ;\n",
        "  ex:JumlahRW \"10\"^^xsd:int .\n",
        "\n",
        "ex:KamalMuara\n",
        "  a osadm:Ward, ex:kelurahan ;\n",
        "  ex:berkecamatan ex:Penjaringan ;\n",
        "  ex:JumlahRT \"44\"^^xsd:int ;\n",
        "  ex:JumlahRW \"6\"^^xsd:int .\n",
        "\n",
        "ex:TuguUtara\n",
        "  a osadm:Ward, ex:kelurahan ;\n",
        "  ex:berkecamatan ex:Koja ;\n",
        "  ex:JumlahRT \"214.8\"^^xsd:float ;\n",
        "  ex:JumlahRW \"19\"^^xsd:int .\n",
        "\n",
        "\n",
        "#Kecamatan\n",
        "\n",
        "ex:Gambir\n",
        "  a ex:kecamatan ;\n",
        "  osadm:district ex:JakartaPusat .\n",
        "\n",
        "ex:Penjaringan\n",
        "  a ex:kecamatan ;\n",
        "  osadm:district ex:JakartaUtara .\n",
        "\n",
        "ex:Koja\n",
        "  a ex:kecamatan ;\n",
        "  osadm:district ex:JakartaUtara .\n",
        "\n",
        "\n",
        "#Kabupaten  \n",
        "\n",
        "ex:JakartaPusat\n",
        "  a osadm:District, ex:kabupaten ;\n",
        "  ex:berprovinsi ex:DKIJakarta .\n",
        "\n",
        "ex:JakartaUtara\n",
        "  a osadm:District, ex:kabupaten ;\n",
        "  ex:berprovinsi ex:DKIJakarta .\n",
        "\n",
        "#Provinsi\n",
        "\n",
        "ex:DKIJakarta\n",
        "  a ex:provinsi .\n",
        "\n",
        "#display the table\n",
        "\"\"\""
      ],
      "execution_count": 68,
      "outputs": []
    },
    {
      "cell_type": "code",
      "metadata": {
        "id": "KHY_dFm1JtsD"
      },
      "source": [
        "data_graph_3 = \"\"\"\n",
        "\n",
        "\n",
        "@prefix rdfs: <http://www.w3.org/2000/01/rdf-schema#> .\n",
        "@prefix rdf: <http://www.w3.org/1999/02/22-rdf-syntax-ns#> .\n",
        "@prefix xsd: <http://www.w3.org/2001/XMLSchema#> .\n",
        "@prefix osadm: <http://data.ordnancesurvey.co.uk/ontology/admingeo/> .\n",
        "@prefix ex: <http://example.com/> .\n",
        "\n",
        "#Kelurahan \n",
        "\n",
        "ex:Cideng\n",
        "  a osadm:Ward, ex:kelurahan ;\n",
        "  ex:berkecamatan ex:Gambir ;\n",
        "  ex:JumlahRT \"114\"^^xsd:int ;\n",
        "  ex:JumlahRW \"10\"^^xsd:int .\n",
        "\n",
        "ex:KamalMuara\n",
        "  a osadm:Ward, ex:kelurahan ;\n",
        "  ex:berkecamatan ex:Penjaringan ;\n",
        "  ex:JumlahRT \"44\"^^xsd:int ;\n",
        "  ex:JumlahRW \"6\"^^xsd:int .\n",
        "\n",
        "ex:TuguUtara\n",
        "  a osadm:Ward, ex:kelurahan ;\n",
        "  ex:berkecamatan ex:Koja ;\n",
        "  ex:JumlahRT \"214\"^^xsd:int ;\n",
        "  ex:JumlahRW \"19\"^^xsd:int .\n",
        "\n",
        "\n",
        "#Kecamatan\n",
        "\n",
        "ex:Gambir\n",
        "  a ex:kecamatan ;\n",
        "  osadm:district ex:JakartaPusat .\n",
        "\n",
        "ex:Penjaringan\n",
        "  a ex:kecamatan ;\n",
        "  osadm:district ex:JakartaUtara .\n",
        "\n",
        "ex:Koja\n",
        "  a ex:kecamatan ;\n",
        "  osadm:district ex:JakartaUtara .\n",
        "\n",
        "\n",
        "#Kabupaten  \n",
        "\n",
        "ex:JakartaPusat\n",
        "  a osadm:District, ex:kabupaten ;\n",
        "  ex:berprovinsi ex:JakartaUtara .\n",
        "\n",
        "ex:JakartaUtara\n",
        "  a osadm:District, ex:kabupaten ;\n",
        "  ex:berprovinsi ex:DKIJakarta .\n",
        "\n",
        "#Provinsi\n",
        "\n",
        "ex:DKIJakarta\n",
        "  a ex:provinsi .\n",
        "\n",
        "#display the table\n",
        "\"\"\""
      ],
      "execution_count": 81,
      "outputs": []
    },
    {
      "cell_type": "code",
      "metadata": {
        "id": "Ok-eG8i5MoO2"
      },
      "source": [
        "data_graph_4 = \"\"\"\n",
        "\n",
        "\n",
        "@prefix rdfs: <http://www.w3.org/2000/01/rdf-schema#> .\n",
        "@prefix rdf: <http://www.w3.org/1999/02/22-rdf-syntax-ns#> .\n",
        "@prefix xsd: <http://www.w3.org/2001/XMLSchema#> .\n",
        "@prefix osadm: <http://data.ordnancesurvey.co.uk/ontology/admingeo/> .\n",
        "@prefix ex: <http://example.com/> .\n",
        "\n",
        "#Kelurahan \n",
        "\n",
        "ex:Cideng\n",
        "  a osadm:Ward, ex:kelurahan ;\n",
        "  ex:berkecamatan ex:Gambir ;\n",
        "  ex:JumlahRT \"114\"^^xsd:int ;\n",
        "  ex:JumlahRW \"10\"^^xsd:int .\n",
        "\n",
        "ex:KamalMuara\n",
        "  a osadm:Ward, ex:kelurahan ;\n",
        "  ex:berkecamatan ex:Penjaringan, ex:Koja ;\n",
        "  ex:JumlahRT \"44\"^^xsd:int ;\n",
        "  ex:JumlahRW \"6\"^^xsd:int .\n",
        "\n",
        "ex:TuguUtara\n",
        "  a osadm:Ward, ex:kelurahan ;\n",
        "  ex:berkecamatan ex:Koja ;\n",
        "  ex:JumlahRT \"214\"^^xsd:int ;\n",
        "  ex:JumlahRW \"19\"^^xsd:int .\n",
        "\n",
        "\n",
        "#Kecamatan\n",
        "\n",
        "ex:Gambir\n",
        "  a ex:kecamatan ;\n",
        "  osadm:district ex:JakartaPusat, ex:JakartaUtara .\n",
        "\n",
        "ex:Penjaringan\n",
        "  a ex:kecamatan ;\n",
        "  osadm:district ex:JakartaUtara .\n",
        "\n",
        "ex:Koja\n",
        "  a ex:kecamatan ;\n",
        "  osadm:district ex:JakartaUtara .\n",
        "\n",
        "\n",
        "#Kabupaten  \n",
        "\n",
        "ex:JakartaPusat\n",
        "  a osadm:District, ex:kabupaten ;\n",
        "  ex:berprovinsi ex:DKIJakarta .\n",
        "\n",
        "ex:JakartaUtara\n",
        "  a osadm:District, ex:kabupaten ;\n",
        "  ex:berprovinsi ex:DKIJakarta .\n",
        "\n",
        "#Provinsi\n",
        "\n",
        "ex:DKIJakarta\n",
        "  a ex:provinsi .\n",
        "\n",
        "#display the table\n",
        "\"\"\""
      ],
      "execution_count": 88,
      "outputs": []
    },
    {
      "cell_type": "markdown",
      "metadata": {
        "id": "aloJHbjCOhE3"
      },
      "source": [
        "# Validasi SHACL"
      ]
    },
    {
      "cell_type": "code",
      "metadata": {
        "id": "SR6uAIbOyYo0"
      },
      "source": [
        "!python -m pip install --no-input pyshacl --quiet"
      ],
      "execution_count": 32,
      "outputs": []
    },
    {
      "cell_type": "markdown",
      "metadata": {
        "id": "MPHYvG9nQ7ex"
      },
      "source": [
        "## Validasi 1\n",
        "berikut hasil percobaan validasi pertama tanpa mengubah instance."
      ]
    },
    {
      "cell_type": "code",
      "metadata": {
        "id": "Ej3INxR6Oqir",
        "colab": {
          "base_uri": "https://localhost:8080/"
        },
        "outputId": "ce345c73-d085-4774-c325-04cb8651ab37"
      },
      "source": [
        "##data_graph_1\n",
        "import pyshacl\n",
        "\n",
        "results = pyshacl.validate(\n",
        "    data_graph_1,\n",
        "    shacl_graph=shapes_graph,\n",
        "    data_graph_format=\"ttl\",\n",
        "    shacl_graph_format=\"ttl\",\n",
        "    inference=\"rdfs\",\n",
        "    debug=True,\n",
        "    serialize_report_graph=\"ttl\",\n",
        "    )\n",
        "\n",
        "conforms, report_graph, report_text = results\n",
        "\n",
        "print(\"conforms Data 1\", conforms)"
      ],
      "execution_count": 103,
      "outputs": [
        {
          "output_type": "stream",
          "name": "stdout",
          "text": [
            "conforms Data 1 True\n"
          ]
        }
      ]
    },
    {
      "cell_type": "markdown",
      "metadata": {
        "id": "bu46-kERRdlH"
      },
      "source": [
        "## Validasi 2\n",
        "berikut hasil percobaan validasi kedua dengan mengubah instance yaitu Jumlah RT diisi dengan nilai bertipe float, bukan bertipe integer."
      ]
    },
    {
      "cell_type": "code",
      "metadata": {
        "colab": {
          "base_uri": "https://localhost:8080/"
        },
        "id": "uSy57MocB7Na",
        "outputId": "0bae8c53-7a83-42aa-e961-a9442e6e6493"
      },
      "source": [
        "##data_graph_2\n",
        "import pyshacl\n",
        "\n",
        "results = pyshacl.validate(\n",
        "    data_graph_2,\n",
        "    shacl_graph=shapes_graph,\n",
        "    data_graph_format=\"ttl\",\n",
        "    shacl_graph_format=\"ttl\",\n",
        "    inference=\"rdfs\",\n",
        "    debug=True,\n",
        "    serialize_report_graph=\"ttl\",\n",
        "    )\n",
        "\n",
        "conforms, report_graph, report_text = results\n",
        "\n",
        "print(\"conforms Data 2\", conforms)"
      ],
      "execution_count": 80,
      "outputs": [
        {
          "output_type": "stream",
          "name": "stderr",
          "text": [
            "Constraint Violation in DatatypeConstraintComponent (http://www.w3.org/ns/shacl#DatatypeConstraintComponent):\n",
            "\tSeverity: sh:Violation\n",
            "\tSource Shape: ex:JumlahRTShape\n",
            "\tFocus Node: ex:TuguUtara\n",
            "\tValue Node: Literal(\"214.8\", datatype=xsd:float)\n",
            "\tResult Path: ex:JumlahRT\n",
            "\tMessage: Value is not Literal with datatype xsd:int\n",
            "\n"
          ]
        },
        {
          "output_type": "stream",
          "name": "stdout",
          "text": [
            "conforms Data 2 False\n"
          ]
        }
      ]
    },
    {
      "cell_type": "markdown",
      "metadata": {
        "id": "Ppyf12f9R3ap"
      },
      "source": [
        "## Validasi 3\n",
        "berikut hasil percobaan validasi ketiga dengan mengubah instance yaitu pada class kabupaten \"JakartaPusat\" pada property provinsi diisi dengan nama class Kabupaten yaitu \"JakartaUtara\", sehingga terjadi kesalahan penulis."
      ]
    },
    {
      "cell_type": "code",
      "metadata": {
        "colab": {
          "base_uri": "https://localhost:8080/"
        },
        "id": "vTmskWzfJzzX",
        "outputId": "005f5c08-0bc8-4957-e667-66fda1fc2ac0"
      },
      "source": [
        "##data_graph_3\n",
        "import pyshacl\n",
        "\n",
        "results = pyshacl.validate(\n",
        "    data_graph_3,\n",
        "    shacl_graph=shapes_graph,\n",
        "    data_graph_format=\"ttl\",\n",
        "    shacl_graph_format=\"ttl\",\n",
        "    inference=\"rdfs\",\n",
        "    debug=True,\n",
        "    serialize_report_graph=\"ttl\",\n",
        "    )\n",
        "\n",
        "conforms, report_graph, report_text = results\n",
        "\n",
        "print(\"conforms Data 3\", conforms)"
      ],
      "execution_count": 90,
      "outputs": [
        {
          "output_type": "stream",
          "name": "stderr",
          "text": [
            "Constraint Violation in ClassConstraintComponent (http://www.w3.org/ns/shacl#ClassConstraintComponent):\n",
            "\tSeverity: sh:Violation\n",
            "\tSource Shape: ex:berprovinsiShape\n",
            "\tFocus Node: ex:JakartaPusat\n",
            "\tValue Node: ex:JakartaUtara\n",
            "\tResult Path: ex:berprovinsi\n",
            "\tMessage: Value does not have class ex:provinsi\n",
            "\n"
          ]
        },
        {
          "output_type": "stream",
          "name": "stdout",
          "text": [
            "conforms Data 3 False\n"
          ]
        }
      ]
    },
    {
      "cell_type": "markdown",
      "metadata": {
        "id": "LrakyHBlTD6_"
      },
      "source": [
        "## Validasi 4\n",
        "berikut hasil percobaan validasi keempat dengan mengubah instance yaitu pada mengisi property kecamatan lebih dari satu pada class kelurahan. "
      ]
    },
    {
      "cell_type": "code",
      "metadata": {
        "colab": {
          "base_uri": "https://localhost:8080/"
        },
        "id": "ciRAg5kENFtP",
        "outputId": "4f8b91c3-c8e4-43c2-a956-118b16bdfa5b"
      },
      "source": [
        "##data_graph_4\n",
        "import pyshacl\n",
        "\n",
        "results = pyshacl.validate(\n",
        "    data_graph_4,\n",
        "    shacl_graph=shapes_graph,\n",
        "    data_graph_format=\"ttl\",\n",
        "    shacl_graph_format=\"ttl\",\n",
        "    inference=\"rdfs\",\n",
        "    debug=True,\n",
        "    serialize_report_graph=\"ttl\",\n",
        "    )\n",
        "\n",
        "conforms, report_graph, report_text = results\n",
        "\n",
        "print(\"conforms Data 4\", conforms)"
      ],
      "execution_count": 89,
      "outputs": [
        {
          "output_type": "stream",
          "name": "stderr",
          "text": [
            "Constraint Violation in MaxCountConstraintComponent (http://www.w3.org/ns/shacl#MaxCountConstraintComponent):\n",
            "\tSeverity: sh:Violation\n",
            "\tSource Shape: ex:berkecamatanShape\n",
            "\tFocus Node: ex:KamalMuara\n",
            "\tResult Path: ex:berkecamatan\n",
            "\tMessage: More than 1 values on ex:KamalMuara->ex:berkecamatan\n",
            "\n",
            "Constraint Violation in MaxCountConstraintComponent (http://www.w3.org/ns/shacl#MaxCountConstraintComponent):\n",
            "\tSeverity: sh:Violation\n",
            "\tSource Shape: ex:berkabupatenShape\n",
            "\tFocus Node: ex:Gambir\n",
            "\tResult Path: osadm:district\n",
            "\tMessage: More than 1 values on ex:Gambir->osadm:district\n",
            "\n"
          ]
        },
        {
          "output_type": "stream",
          "name": "stdout",
          "text": [
            "conforms Data 4 False\n"
          ]
        }
      ]
    },
    {
      "cell_type": "markdown",
      "metadata": {
        "id": "mYVSLWksB1yT"
      },
      "source": [
        "##Daftar Pustaka:\n",
        "\n",
        "1.   Rakhmawati, N. A. (2015). Semantic Web dan Linked Data. Yogyakarta, Indonesia: SiBuku.\n",
        "2. Titanio Meiga Batry. (2021). Titanzr/rdfTitan: TitanioTugasWeb v1.0.1 (v1.0.1). Zenodo. https://doi.org/10.5281/zenodo.5521429\n",
        "3. Nanda Khibran, Titanio Meiga Batry, and Nur Aini Rakhmawati. \"TugasVocab - TekWeb\" DOI: 10.13140/RG.2.2.13420.49283\n",
        "4. Holger Knublauch and Dimitris Kontokostas. Shapes constraint language (SHACL). W3C Working Draft, https://www.w3.org/TR/2017/WD-shacl-20170202\n",
        "5. alamat DOI zenodo python notebook untuk SHACL\n",
        "6. https://data.jakarta.go.id/dataset/jumlahrtrwperkelurahandkijakarta\n",
        "\n",
        "\n",
        "\n",
        "\n",
        "\n",
        "\n"
      ]
    }
  ]
}